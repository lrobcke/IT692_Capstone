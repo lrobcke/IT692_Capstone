{
  "nbformat": 4,
  "nbformat_minor": 0,
  "metadata": {
    "colab": {
      "name": "KeywordsInsights_CS.ipynb",
      "provenance": [],
      "collapsed_sections": []
    },
    "kernelspec": {
      "name": "python3",
      "display_name": "Python 3"
    }
  },
  "cells": [
    {
      "cell_type": "markdown",
      "metadata": {
        "id": "YSDHB6XWUfk_"
      },
      "source": [
        "The workforce in new emerging technologies are using\n",
        "disruptive approaches to win the best jobs, ones with high pay\n",
        "and with good work life balance. This utility will provide real time analytics on how innovative the workforce is when trying to show that they are\n",
        "right for the job, especially in the brand new subjects.This real time analystics solution will bring insights on most sought after skills, badges and certifications in the field of Software Engineering, Cybersecurity and Data\n",
        "Science and showcase real time analytic of similar skills from\n",
        "leading job portals focusing on what measures of talent are\n",
        "highly valued by the tech industry today.\n",
        "\n",
        "\n",
        "\n"
      ]
    },
    {
      "cell_type": "markdown",
      "metadata": {
        "id": "IQIWIVLf63Jt"
      },
      "source": [
        "\n",
        "\n",
        "> STEPS\n",
        "\n",
        "---\n",
        "\n",
        "\n",
        "\n",
        "\n",
        "\n",
        "\n"
      ]
    },
    {
      "cell_type": "markdown",
      "metadata": {
        "id": "rCcv4QRE6bqG"
      },
      "source": [
        "Below step will request you to upload keywords file named \"PaceKeywords.xlsx\" from your machine. Make sure that you have three tabs in excel named \"Cybersecurity_BadgeAndCert\",\"Cybersecurity_Skill\",\"Cybersecurity_Positions\""
      ]
    },
    {
      "cell_type": "code",
      "metadata": {
        "id": "sIGQblS7qJTd",
        "outputId": "3fc145da-e88a-4438-e5a0-07b362796459",
        "colab": {
          "resources": {
            "http://localhost:8080/nbextensions/google.colab/files.js": {
              "data": "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",
              "ok": true,
              "headers": [
                [
                  "content-type",
                  "application/javascript"
                ]
              ],
              "status": 200,
              "status_text": ""
            }
          },
          "base_uri": "https://localhost:8080/",
          "height": 89
        }
      },
      "source": [
        "from google.colab import files\n",
        "!rm PaceKeywords.xlsx\n",
        "uploaded = files.upload()"
      ],
      "execution_count": null,
      "outputs": [
        {
          "output_type": "stream",
          "text": [
            "rm: cannot remove 'PaceKeywords.xlsx': No such file or directory\n"
          ],
          "name": "stdout"
        },
        {
          "output_type": "display_data",
          "data": {
            "text/html": [
              "\n",
              "     <input type=\"file\" id=\"files-45be7a24-558f-414c-bcbf-62cadc9f8f1e\" name=\"files[]\" multiple disabled\n",
              "        style=\"border:none\" />\n",
              "     <output id=\"result-45be7a24-558f-414c-bcbf-62cadc9f8f1e\">\n",
              "      Upload widget is only available when the cell has been executed in the\n",
              "      current browser session. Please rerun this cell to enable.\n",
              "      </output>\n",
              "      <script src=\"/nbextensions/google.colab/files.js\"></script> "
            ],
            "text/plain": [
              "<IPython.core.display.HTML object>"
            ]
          },
          "metadata": {
            "tags": []
          }
        },
        {
          "output_type": "stream",
          "text": [
            "Saving PaceKeywords.xlsx to PaceKeywords.xlsx\n"
          ],
          "name": "stdout"
        }
      ]
    },
    {
      "cell_type": "markdown",
      "metadata": {
        "id": "verrTnbsSnFo"
      },
      "source": [
        "Prerequisite: Below steps installs Selenium , imports python libraries and set up chrome driver for utility "
      ]
    },
    {
      "cell_type": "code",
      "metadata": {
        "id": "IfZ2g34nc0Fv",
        "outputId": "16b62789-63c5-44d0-e9cb-2b980403a750",
        "colab": {
          "base_uri": "https://localhost:8080/",
          "height": 137
        }
      },
      "source": [
        "pip install selenium\n"
      ],
      "execution_count": null,
      "outputs": [
        {
          "output_type": "stream",
          "text": [
            "Collecting selenium\n",
            "\u001b[?25l  Downloading https://files.pythonhosted.org/packages/80/d6/4294f0b4bce4de0abf13e17190289f9d0613b0a44e5dd6a7f5ca98459853/selenium-3.141.0-py2.py3-none-any.whl (904kB)\n",
            "\u001b[K     |████████████████████████████████| 911kB 2.7MB/s \n",
            "\u001b[?25hRequirement already satisfied: urllib3 in /usr/local/lib/python3.6/dist-packages (from selenium) (1.24.3)\n",
            "Installing collected packages: selenium\n",
            "Successfully installed selenium-3.141.0\n"
          ],
          "name": "stdout"
        }
      ]
    },
    {
      "cell_type": "code",
      "metadata": {
        "id": "KY6fu9pJMxZ_"
      },
      "source": [
        "# Import necessary libraries\n",
        "import pandas as pd\n",
        "import numpy as np\n",
        "from bs4 import BeautifulSoup as bs\n",
        "import requests\n",
        "import matplotlib.pyplot as plt\n",
        "import openpyxl as pxl"
      ],
      "execution_count": null,
      "outputs": []
    },
    {
      "cell_type": "code",
      "metadata": {
        "id": "A0_8cqQZc79M"
      },
      "source": [
        "from selenium import webdriver\n",
        "from selenium.webdriver.common.keys import Keys\n",
        "import time"
      ],
      "execution_count": null,
      "outputs": []
    },
    {
      "cell_type": "code",
      "metadata": {
        "id": "JePVdW47dNQE",
        "outputId": "e1ea3f77-0e47-42de-811a-cf240e3eff8f",
        "colab": {
          "base_uri": "https://localhost:8080/",
          "height": 1000
        }
      },
      "source": [
        "!apt-get update # to update ubuntu to correctly run apt install\n",
        "!apt install chromium-chromedriver\n",
        "!cp /usr/lib/chromium-browser/chromedriver /usr/bin\n",
        "import sys\n",
        "sys.path.insert(0,'/usr/lib/chromium-browser/chromedriver')\n",
        "from selenium import webdriver\n",
        "chrome_options = webdriver.ChromeOptions()\n",
        "chrome_options.add_argument('--headless')\n",
        "chrome_options.add_argument('--no-sandbox')\n",
        "chrome_options.add_argument('--disable-dev-shm-usage')\n",
        "\n"
      ],
      "execution_count": null,
      "outputs": [
        {
          "output_type": "stream",
          "text": [
            "Get:1 https://cloud.r-project.org/bin/linux/ubuntu bionic-cran40/ InRelease [3,626 B]\n",
            "Ign:2 https://developer.download.nvidia.com/compute/cuda/repos/ubuntu1804/x86_64  InRelease\n",
            "Get:3 https://cloud.r-project.org/bin/linux/ubuntu bionic-cran40/ Packages [36.0 kB]\n",
            "Get:4 http://security.ubuntu.com/ubuntu bionic-security InRelease [88.7 kB]\n",
            "Ign:5 https://developer.download.nvidia.com/compute/machine-learning/repos/ubuntu1804/x86_64  InRelease\n",
            "Get:6 https://developer.download.nvidia.com/compute/cuda/repos/ubuntu1804/x86_64  Release [697 B]\n",
            "Get:7 http://ppa.launchpad.net/c2d4u.team/c2d4u4.0+/ubuntu bionic InRelease [15.9 kB]\n",
            "Hit:8 https://developer.download.nvidia.com/compute/machine-learning/repos/ubuntu1804/x86_64  Release\n",
            "Get:9 https://developer.download.nvidia.com/compute/cuda/repos/ubuntu1804/x86_64  Release.gpg [836 B]\n",
            "Hit:11 http://archive.ubuntu.com/ubuntu bionic InRelease\n",
            "Get:12 http://archive.ubuntu.com/ubuntu bionic-updates InRelease [88.7 kB]\n",
            "Ign:13 https://developer.download.nvidia.com/compute/cuda/repos/ubuntu1804/x86_64  Packages\n",
            "Get:13 https://developer.download.nvidia.com/compute/cuda/repos/ubuntu1804/x86_64  Packages [334 kB]\n",
            "Get:14 http://ppa.launchpad.net/graphics-drivers/ppa/ubuntu bionic InRelease [21.3 kB]\n",
            "Get:15 http://security.ubuntu.com/ubuntu bionic-security/restricted amd64 Packages [193 kB]\n",
            "Get:16 http://archive.ubuntu.com/ubuntu bionic-backports InRelease [74.6 kB]\n",
            "Get:17 http://ppa.launchpad.net/c2d4u.team/c2d4u4.0+/ubuntu bionic/main Sources [1,673 kB]\n",
            "Get:18 http://archive.ubuntu.com/ubuntu bionic-updates/main amd64 Packages [2,110 kB]\n",
            "Get:19 http://security.ubuntu.com/ubuntu bionic-security/universe amd64 Packages [1,338 kB]\n",
            "Get:20 http://security.ubuntu.com/ubuntu bionic-security/multiverse amd64 Packages [14.6 kB]\n",
            "Get:21 http://security.ubuntu.com/ubuntu bionic-security/main amd64 Packages [1,693 kB]\n",
            "Get:22 http://archive.ubuntu.com/ubuntu bionic-updates/multiverse amd64 Packages [44.6 kB]\n",
            "Get:23 http://archive.ubuntu.com/ubuntu bionic-updates/universe amd64 Packages [2,100 kB]\n",
            "Get:24 http://archive.ubuntu.com/ubuntu bionic-updates/restricted amd64 Packages [220 kB]\n",
            "Get:25 http://archive.ubuntu.com/ubuntu bionic-backports/main amd64 Packages [11.3 kB]\n",
            "Get:26 http://archive.ubuntu.com/ubuntu bionic-backports/universe amd64 Packages [11.4 kB]\n",
            "Get:27 http://ppa.launchpad.net/c2d4u.team/c2d4u4.0+/ubuntu bionic/main amd64 Packages [856 kB]\n",
            "Get:28 http://ppa.launchpad.net/graphics-drivers/ppa/ubuntu bionic/main amd64 Packages [48.9 kB]\n",
            "Fetched 11.0 MB in 6s (1,717 kB/s)\n",
            "Reading package lists... Done\n",
            "Reading package lists... Done\n",
            "Building dependency tree       \n",
            "Reading state information... Done\n",
            "The following additional packages will be installed:\n",
            "  chromium-browser chromium-browser-l10n chromium-codecs-ffmpeg-extra\n",
            "Suggested packages:\n",
            "  webaccounts-chromium-extension unity-chromium-extension adobe-flashplugin\n",
            "The following NEW packages will be installed:\n",
            "  chromium-browser chromium-browser-l10n chromium-chromedriver\n",
            "  chromium-codecs-ffmpeg-extra\n",
            "0 upgraded, 4 newly installed, 0 to remove and 27 not upgraded.\n",
            "Need to get 79.2 MB of archives.\n",
            "After this operation, 268 MB of additional disk space will be used.\n",
            "Get:1 http://archive.ubuntu.com/ubuntu bionic-updates/universe amd64 chromium-codecs-ffmpeg-extra amd64 85.0.4183.121-0ubuntu0.18.04.1 [1,117 kB]\n",
            "Get:2 http://archive.ubuntu.com/ubuntu bionic-updates/universe amd64 chromium-browser amd64 85.0.4183.121-0ubuntu0.18.04.1 [70.3 MB]\n",
            "Get:3 http://archive.ubuntu.com/ubuntu bionic-updates/universe amd64 chromium-browser-l10n all 85.0.4183.121-0ubuntu0.18.04.1 [3,432 kB]\n",
            "Get:4 http://archive.ubuntu.com/ubuntu bionic-updates/universe amd64 chromium-chromedriver amd64 85.0.4183.121-0ubuntu0.18.04.1 [4,415 kB]\n",
            "Fetched 79.2 MB in 9s (8,746 kB/s)\n",
            "Selecting previously unselected package chromium-codecs-ffmpeg-extra.\n",
            "(Reading database ... 144619 files and directories currently installed.)\n",
            "Preparing to unpack .../chromium-codecs-ffmpeg-extra_85.0.4183.121-0ubuntu0.18.04.1_amd64.deb ...\n",
            "Unpacking chromium-codecs-ffmpeg-extra (85.0.4183.121-0ubuntu0.18.04.1) ...\n",
            "Selecting previously unselected package chromium-browser.\n",
            "Preparing to unpack .../chromium-browser_85.0.4183.121-0ubuntu0.18.04.1_amd64.deb ...\n",
            "Unpacking chromium-browser (85.0.4183.121-0ubuntu0.18.04.1) ...\n",
            "Selecting previously unselected package chromium-browser-l10n.\n",
            "Preparing to unpack .../chromium-browser-l10n_85.0.4183.121-0ubuntu0.18.04.1_all.deb ...\n",
            "Unpacking chromium-browser-l10n (85.0.4183.121-0ubuntu0.18.04.1) ...\n",
            "Selecting previously unselected package chromium-chromedriver.\n",
            "Preparing to unpack .../chromium-chromedriver_85.0.4183.121-0ubuntu0.18.04.1_amd64.deb ...\n",
            "Unpacking chromium-chromedriver (85.0.4183.121-0ubuntu0.18.04.1) ...\n",
            "Setting up chromium-codecs-ffmpeg-extra (85.0.4183.121-0ubuntu0.18.04.1) ...\n",
            "Setting up chromium-browser (85.0.4183.121-0ubuntu0.18.04.1) ...\n",
            "update-alternatives: using /usr/bin/chromium-browser to provide /usr/bin/x-www-browser (x-www-browser) in auto mode\n",
            "update-alternatives: using /usr/bin/chromium-browser to provide /usr/bin/gnome-www-browser (gnome-www-browser) in auto mode\n",
            "Setting up chromium-chromedriver (85.0.4183.121-0ubuntu0.18.04.1) ...\n",
            "Setting up chromium-browser-l10n (85.0.4183.121-0ubuntu0.18.04.1) ...\n",
            "Processing triggers for hicolor-icon-theme (0.17-2) ...\n",
            "Processing triggers for mime-support (3.60ubuntu1) ...\n",
            "Processing triggers for man-db (2.8.3-2ubuntu0.1) ...\n",
            "cp: '/usr/lib/chromium-browser/chromedriver' and '/usr/bin/chromedriver' are the same file\n"
          ],
          "name": "stdout"
        }
      ]
    },
    {
      "cell_type": "code",
      "metadata": {
        "id": "UBXDIVYATP5w"
      },
      "source": [
        "from selenium.webdriver.support.ui import WebDriverWait\n",
        "from selenium.webdriver.support import expected_conditions as EC\n",
        "from selenium.webdriver.common.by import By\n",
        "from selenium.common.exceptions import TimeoutException\n",
        "from datetime import date"
      ],
      "execution_count": null,
      "outputs": []
    },
    {
      "cell_type": "markdown",
      "metadata": {
        "id": "BS7mk9LvUE1V"
      },
      "source": [
        "Set Up header for HTTPRequest to be used for most of requests to Job portals"
      ]
    },
    {
      "cell_type": "code",
      "metadata": {
        "id": "0Q_qoaEcUQv7"
      },
      "source": [
        "header = {  \"User-Agent\": \"Mozilla/5.0 (X11; Linux x86_64) AppleWebKit/537.36 (KHTML, like Gecko) Chrome/50.0.2661.75 Safari/537.36\",  \"X-Requested-With\": \"XMLHttpRequest\"}\n",
        "\n"
      ],
      "execution_count": null,
      "outputs": []
    },
    {
      "cell_type": "markdown",
      "metadata": {
        "id": "uIeM75gUsbHd"
      },
      "source": [
        "Function to loadSheet named \"PaceKeywords.xlsx' into python dataframe. Function expects xlsx extension file. An attempt to load another extension file can give errors"
      ]
    },
    {
      "cell_type": "code",
      "metadata": {
        "id": "UROYxlzYqSf2"
      },
      "source": [
        "import io\n",
        "def loadSheet(sheet_name):\n",
        "  search_terms = pd.read_excel(io.BytesIO(uploaded['PaceKeywords.xlsx']),sheet_name=sheet_name)\n",
        "  return search_terms\n"
      ],
      "execution_count": null,
      "outputs": []
    },
    {
      "cell_type": "markdown",
      "metadata": {
        "id": "cUCefIt9U6-T"
      },
      "source": [
        "Function to analyse indeed job portal using HTTP GET Request. This function would require maintainence if underlying structure of site is changed or any additional restrictions are implemented by Indeed. "
      ]
    },
    {
      "cell_type": "code",
      "metadata": {
        "id": "4EQeuaPf436b"
      },
      "source": [
        "def indeed_analysis(sheet_name,search_terms_p):\n",
        "  search_terms = search_terms_p\n",
        "  indeed_list = []\n",
        "  indeed_list_urls = []\n",
        "  \n",
        "  search_terms.iloc[:, 0] = search_terms.iloc[:, 0].str.strip('[]')\n",
        "\n",
        "  for term in search_terms.iloc[:, 0]:\n",
        "      term = term.replace(\" \",\"%20\")\n",
        "      term = \"\\\"\"+term+\"\\\"\"\n",
        "      if sheet_name == \"\":\n",
        "        url = f'https://www.indeed.com/jobs?q={term}&l=United%20States&vjk=ea8b83a76166217a'\n",
        "      else:\n",
        "        sheet_namech = sheet_name.replace(\" \",\"%20\")\n",
        "        sheet_namech = \"\\\"\"+sheet_namech+\"\\\"\"\n",
        "        url = f'https://www.indeed.com/jobs?q={sheet_namech}%20{term}&l=United%20States&vjk=ea8b83a76166217a'\n",
        "      indeed_list_urls.append(url)\n",
        "      try:\n",
        "          r = requests.get(url, headers=header, timeout=10)\n",
        "          soup = bs(r.text, 'html.parser')\n",
        "          count_str = soup.find('div', id=\"searchCountPages\").get_text()\n",
        "          numb = count_str.split()\n",
        "          indeed_list.append(numb[-2])\n",
        "      except Exception as e:\n",
        "          #print(f'error: {e}')\n",
        "          indeed_list.append(0)\n",
        "  return [indeed_list,indeed_list_urls]\n"
      ],
      "execution_count": null,
      "outputs": []
    },
    {
      "cell_type": "markdown",
      "metadata": {
        "id": "3G6ifJ9YVfBx"
      },
      "source": [
        "Function to analyse monster job portal using HTTP GET Request. This function would require maintainence if underlying structure of site is changed or any additional restrictions are implemented by Monster. "
      ]
    },
    {
      "cell_type": "code",
      "metadata": {
        "id": "eNrxS2u5ZI9C"
      },
      "source": [
        "def monster_analysis(sheet_name,search_terms_p):\n",
        "  monster_list = []\n",
        "  monster_list_urls = []\n",
        "  search_terms = search_terms_p\n",
        "  search_terms.iloc[:, 0] = search_terms.iloc[:, 0].str.strip('[]')\n",
        "  search_terms.iloc[:, 0] = search_terms.replace(' ', '-', regex=True)\n",
        "\n",
        "  for term in search_terms.iloc[:, 0]:\n",
        "      #print(term)\n",
        "      term = term.replace(\" \",\"%20\")\n",
        "      #term = \"\\\"\"+term+\"\\\"\"\n",
        "      if sheet_name == \"\":\n",
        "        url1 = f'https://www.monster.com/jobs/search/?q=__22{term}__22&where=USA'\n",
        "        url2 = f'https://www.monster.com/jobs/search/?q=__27{term}__27&where=USA'\n",
        "      else:\n",
        "        sheet_namech = sheet_name.replace(\" \",\"%20\")\n",
        "        url1 = f'https://www.monster.com/jobs/search/?q=__22{sheet_namech}__22-__22{term}__22&where=USA'\n",
        "        url2 = f'https://www.monster.com/jobs/search/?q=__27{sheet_namech}__27-__27{term}__27&where=USA'\n",
        "      monster_list_urls.append(url1)\n",
        "      try:\n",
        "          r = requests.get(url1, headers=header, timeout=5)\n",
        "          soup = bs(r.text, 'html.parser')\n",
        "          count_str = soup.find('h2', class_=\"figure\").get_text()\n",
        "        # print(count_str)\n",
        "          numb = count_str.split()\n",
        "          monster_count = numb[0].replace(\"(\", \"\")\n",
        "          monster_list.append(monster_count)\n",
        "      except Exception as e:\n",
        "      #   print(f'error: {e}')\n",
        "          monster_list.append(0)\n",
        "  return [monster_list,monster_list_urls]\n"
      ],
      "execution_count": null,
      "outputs": []
    },
    {
      "cell_type": "markdown",
      "metadata": {
        "id": "c8ZNksgTXWpa"
      },
      "source": [
        "Function to analyse Simply Hired job portal using HTTP GET Request. This function would require maintainence if underlying structure of site is changed or any additional restrictions are implemented by Simply Hired. "
      ]
    },
    {
      "cell_type": "code",
      "metadata": {
        "id": "X_TMxN5BaOrq"
      },
      "source": [
        "def simplyhired_analysis(sheet_name,search_terms_p):\n",
        "  simply_list = []\n",
        "  simply_list_url = []\n",
        "  search_terms = search_terms_p\n",
        "  search_terms.iloc[:, 0] = search_terms.iloc[:, 0].str.strip('[]')\n",
        "\n",
        "  for term in search_terms.iloc[:, 0]:\n",
        "      term = term.replace(\" \",\"%20\")\n",
        "      term = \"\\\"\"+term+\"\\\"\"\n",
        "      if sheet_name == \"\":\n",
        "        url = f'https://www.simplyhired.com/search?q={term}&l=United+States'\n",
        "      else:\n",
        "        sheet_namech = sheet_name.replace(\" \",\"%20\")\n",
        "        sheet_namech = \"\\\"\"+sheet_namech+\"\\\"\"\n",
        "        url = f'https://www.simplyhired.com/search?q={sheet_namech}+{term}&l=United+States'\n",
        "      simply_list_url.append(url)\n",
        "      try:\n",
        "          r = requests.get(url, headers=header, timeout=5)\n",
        "          soup = bs(r.text, 'html.parser')\n",
        "          count_str = soup.find('span', class_=\"CategoryPath-total\").get_text()\n",
        "          #print(count_str)\n",
        "          simply_list.append(count_str.replace(',',''))\n",
        "      except Exception as e:\n",
        "          #print(f'error: {e}')\n",
        "          simply_list.append(0)\n",
        "  return [simply_list,simply_list_url]\n",
        "\n"
      ],
      "execution_count": null,
      "outputs": []
    },
    {
      "cell_type": "markdown",
      "metadata": {
        "id": "L2mOyBqGVurQ"
      },
      "source": [
        "Function to analyse Gartner job portal using Selenium API. This function would require maintainence if underlying structure of site is changed or any additional restrictions are implemented by Gartner. "
      ]
    },
    {
      "cell_type": "code",
      "metadata": {
        "id": "PQtMVclrU8_-"
      },
      "source": [
        "def gartner_analysis(sheet_name,search_terms_p):\n",
        "  gartner_list = []\n",
        "  gartner_list_url = []\n",
        "  search_terms=search_terms_p\n",
        "  search_terms.iloc[:, 0] = search_terms.iloc[:, 0].str.strip('[]')\n",
        "\n",
        "  for term in search_terms.iloc[:, 0]:\n",
        "      term = term.replace(\" \",\"%20\")\n",
        "      if sheet_name == \"\":\n",
        "        url = f'https://jobs.gartner.com/search-jobs/{term}/United%20States/494/1/2/6252001/39x7599983215332/-98x5/50/2'\n",
        "      else:\n",
        "        sheet_namech = sheet_name.replace(\" \",\"%20\")\n",
        "        url = f'https://jobs.gartner.com/search-jobs/{sheet_namech}%20{term}/United%20States/494/1/2/6252001/39x7599983215332/-98x5/50/2'\n",
        "      gartner_list_url.append(url)\n",
        "      try:\n",
        "          wd = webdriver.Chrome('chromedriver',options=chrome_options)\n",
        "          r = wd.get(url)\n",
        "          #print(r)\n",
        "          count_str = (wd.find_elements_by_class_name(\"results-count-heading\"))[0].text\n",
        "          #print(count_str)\n",
        "          numb = count_str.split()\n",
        "          gartner_list.append(numb[-2])\n",
        "      except Exception as e:\n",
        "          #print(f'error: {e}')\n",
        "          gartner_list.append(0)\n",
        "  return [gartner_list,gartner_list_url]\n",
        "        \n"
      ],
      "execution_count": null,
      "outputs": []
    },
    {
      "cell_type": "markdown",
      "metadata": {
        "id": "GLiaquL3V3Sm"
      },
      "source": [
        "Function to analyse Dice job portal using Selenium API. This function would require maintainence if underlying structure of site is changed or any additional restrictions are implemented by Dice. "
      ]
    },
    {
      "cell_type": "code",
      "metadata": {
        "id": "-ZQq3Uxg5zuW"
      },
      "source": [
        "def dice_analysis(sheet_name,search_terms_p):\n",
        "  dice_list = []\n",
        "  dice_list_url = []\n",
        "  search_terms = search_terms_p\n",
        "  search_terms.iloc[0:2, 0] = search_terms.iloc[:, 0].str.strip('[]')\n",
        "  #print(\"test\")\n",
        "  for term in search_terms.iloc[:, 0]:\n",
        "      term = term.replace(\" \",\"%20\")\n",
        "      term = \"\\\"\"+term+\"\\\"\"\n",
        "      if sheet_name == \"\":\n",
        "          url = f'https://www.dice.com/jobs?q={term}&location=United%20States'\n",
        "      else:\n",
        "         sheet_namech = sheet_name.replace(\" \",\"%20\")\n",
        "         sheet_namech = \"\\\"\"+sheet_namech+\"\\\"\"\n",
        "         url = f'https://www.dice.com/jobs?q={sheet_namech}%20{term}&location=United%20States'\n",
        "      dice_list_url.append(url)\n",
        "      timeout = 5\n",
        "      try:\n",
        "       wd = webdriver.Chrome('chromedriver',options=chrome_options)\n",
        "       wd.get(url)\n",
        "       element_present = EC.presence_of_element_located((By.ID, 'totalJobCount'))\n",
        "       WebDriverWait(wd, timeout).until(element_present)\n",
        "       count_str = (wd.find_element_by_id(\"totalJobCount\")).get_attribute(\"innerText\")\n",
        "       numb = count_str.replace(\",\", \"\");\n",
        "       dice_list.append(numb)\n",
        "      except Exception as e:\n",
        "        #print(f'error: {e}')\n",
        "        dice_list.append(0)\n",
        "  return [dice_list,dice_list_url]\n",
        "\n",
        "       \n"
      ],
      "execution_count": null,
      "outputs": []
    },
    {
      "cell_type": "markdown",
      "metadata": {
        "id": "Tg04KX2TV6HD"
      },
      "source": [
        "Function to analyse Glassdoor job portal using Selenium API. This function would require maintainence if underlying structure of site is changed or any additional restrictions are implemented by Glassdoor. "
      ]
    },
    {
      "cell_type": "code",
      "metadata": {
        "id": "PEdzU6pEreVc"
      },
      "source": [
        "def glassdoor_analysis(sheet_name,search_terms_p):\n",
        "  glassdoor_list = []\n",
        "  glassdoor_list_url = []\n",
        "  search_terms = search_terms_p\n",
        "  search_terms.iloc[0:2, 0] = search_terms.iloc[:, 0].str.strip('[]')\n",
        "  #print(\"test\")\n",
        "  for term in search_terms.iloc[:, 0]:\n",
        "      term = term.replace(\" \",\"+\")\n",
        "      term = \"\\\"\"+term+\"\\\"\"\n",
        "      if sheet_name == \"\":\n",
        "          #url = f'https://www.glassdoor.com/Job/jobs.htm?suggestCount=0&suggestChosen=false&clickSource=searchBtn&typedKeyword=%22{term}%22&locT=N&locId=1&jobType=&context=Jobs&sc.keyword=%22{term}%22&dropdown=0\n",
        "          url = f'https://www.glassdoor.com/Job/jobs.htm?suggestCount=0&suggestChosen=false&clickSource=searchBtn&typedKeyword={term}&sc.keyword={term}&locT=N&locId=1'\n",
        "      else:\n",
        "         sheet_namech = sheet_name.replace(\" \",\"+\")\n",
        "         sheet_namech = \"\\\"\"+sheet_namech+\"\\\"\"\n",
        "         url = f'https://www.glassdoor.com/Job/jobs.htm?suggestCount=0&suggestChosen=false&clickSource=searchBtn&typedKeyword={sheet_namech}+{term}&sc.keyword={sheet_namech}+{term}&locT=N&locId=1'\n",
        "      glassdoor_list_url.append(url)\n",
        "      timeout = 5\n",
        "      try:\n",
        "        wd = webdriver.Chrome('chromedriver',options=chrome_options)\n",
        "        wd.get(url)\n",
        "        count_str = (wd.find_element_by_xpath(\"//div[@class='hideHH css-19rczgc e15r6eig0']\")).get_attribute(\"innerText\")\n",
        "        numb_split = count_str.split()\n",
        "        numb = numb_split[0].replace(\",\", \"\")\n",
        "        glassdoor_list.append(numb)\n",
        "      except Exception as e:\n",
        "        #print(f'error: {e}')\n",
        "        glassdoor_list.append(0)\n",
        "  return [glassdoor_list,glassdoor_list_url]\n",
        "\n",
        "       \n"
      ],
      "execution_count": null,
      "outputs": []
    },
    {
      "cell_type": "markdown",
      "metadata": {
        "id": "eAVCjxtlV_Ge"
      },
      "source": [
        "Function to analyse careerbuilder job portal using Selenium API. This function would require maintainence if underlying structure of site is changed or any additional restrictions are implemented by careerbuilder."
      ]
    },
    {
      "cell_type": "code",
      "metadata": {
        "id": "nhwkfOVSD2X-"
      },
      "source": [
        "def careerbuilderjobs_analysis(sheet_name,search_terms_p):\n",
        "  careerbuilderjobs_list = []\n",
        "  careerbuilderjobs_list_url = []\n",
        "  search_terms = search_terms_p\n",
        "  search_terms.iloc[0:2, 0] = search_terms.iloc[:, 0].str.strip('[]')\n",
        "  #print(\"test\")\n",
        "  for term in search_terms.iloc[:, 0]:\n",
        "      term = term.replace(\" \",\"%20\")\n",
        "      term = \"\\\"\"+term+\"\\\"\"\n",
        "      if sheet_name == \"\":\n",
        "        url = f'https://www.careerbuilder.com/jobs?utf8=%E2%9C%93&keywords={term}&location=United+States'\n",
        "      else:\n",
        "        sheet_namech = sheet_name.replace(\" \",\"%20\")\n",
        "        sheet_namech = \"\\\"\"+sheet_namech+\"\\\"\" \n",
        "        url = f'https://www.careerbuilder.com/jobs?utf8=%E2%9C%93&keywords={sheet_namech}+{term}&location=United+States'\n",
        "      careerbuilderjobs_list_url.append(url)\n",
        "      timeout = 5\n",
        "      try:\n",
        "        wd = webdriver.Chrome('chromedriver',options=chrome_options)\n",
        "        wd.get(url)\n",
        "        count_str = (wd.find_element_by_xpath(\"//h1[@class='fz1rem']\")).get_attribute(\"innerText\")\n",
        "        numb_split = count_str.split()\n",
        "        for i in numb_split:\n",
        "          numb = i.replace(\",\", \"\")\n",
        "          if numb.isdigit():\n",
        "            careerbuilderjobs_list.append(numb)\n",
        "            break\n",
        "      except Exception as e:\n",
        "        #print(f'error: {e}')\n",
        "        careerbuilderjobs_list.append(0)\n",
        "  return [careerbuilderjobs_list,careerbuilderjobs_list_url]\n",
        "\n",
        "       \n"
      ],
      "execution_count": null,
      "outputs": []
    },
    {
      "cell_type": "markdown",
      "metadata": {
        "id": "cO0KcVzPWIQw"
      },
      "source": [
        "Function to analyse flexjobs job portal using Selenium API. This function would require maintainence if underlying structure of site is changed or any additional restrictions are implemented by flexjobs."
      ]
    },
    {
      "cell_type": "code",
      "metadata": {
        "id": "9zKdfxP-_wkl"
      },
      "source": [
        "def flexjobs_analysis(sheet_name,search_terms_p):\n",
        "  flexjobs_list = []\n",
        "  flexjobs_list_url=[]\n",
        "  search_terms = search_terms_p\n",
        "  search_terms.iloc[0:2, 0] = search_terms.iloc[:, 0].str.strip('[]')\n",
        "  #print(\"test\")\n",
        "  for term in search_terms.iloc[:, 0]:\n",
        "      term = term.replace(\" \",\"%20\")\n",
        "      term = \"\\\"\"+term+\"\\\"\"\n",
        "      if sheet_name == \"\":\n",
        "        url = f'https://www.flexjobs.com/search?search=&search={term}&location=United+States'\n",
        "      else:\n",
        "        sheet_namech = sheet_name.replace(\" \",\"%20\")\n",
        "        sheet_namech = \"\\\"\"+sheet_namech+\"\\\"\"\n",
        "        url = f'https://www.flexjobs.com/search?search=&search={sheet_namech}+{term}&location=United+States' \n",
        "      flexjobs_list_url.append(url)\n",
        "      timeout = 5\n",
        "      try:\n",
        "        wd = webdriver.Chrome('chromedriver',options=chrome_options)\n",
        "        wd.get(url)\n",
        "        count_str = (wd.find_element_by_xpath(\"//h4[@style='margin:0;font-size:14px;']\")).get_attribute(\"innerText\")\n",
        "        numb_split = count_str.split(\"of\")[1].split(\"for\")\n",
        "        numb = numb_split[0].replace(\",\", \"\")\n",
        "        flexjobs_list.append(numb)\n",
        "      except Exception as e:\n",
        "        #print(f'error: {e}')\n",
        "        flexjobs_list.append(0)\n",
        "  return [flexjobs_list,flexjobs_list_url]\n",
        "\n",
        "       \n"
      ],
      "execution_count": null,
      "outputs": []
    },
    {
      "cell_type": "markdown",
      "metadata": {
        "id": "ghiC0K_DWO_U"
      },
      "source": [
        "Function to analyse find.jobs job portal using Selenium. This function would require maintainence if underlying structure of site is changed or any additional restrictions are implemented by Find.jobs."
      ]
    },
    {
      "cell_type": "code",
      "metadata": {
        "id": "-PuBIWRkXAAI"
      },
      "source": [
        "def findjobs_analysis(sheet_name,search_terms_p):\n",
        "  usjobs_list = []\n",
        "  usjobs_list_url =[]\n",
        "  search_terms = search_terms_p\n",
        "  search_terms.iloc[0:2, 0] = search_terms.iloc[:, 0].str.strip('[]')\n",
        "  #print(\"test\")\n",
        "  for term in search_terms.iloc[:, 0]:\n",
        "      term = term.replace(\" \",\"%20\")\n",
        "      term = \"\\\"\"+term+\"\\\"\"\n",
        "      if sheet_name == \"\":\n",
        "        url = f'https://find.jobs/jobs-near-me/job-search-results/kw-{term}/co-226/'\n",
        "      else:\n",
        "        sheet_namech = sheet_name.replace(\" \",\"%20\")\n",
        "        sheet_namech = \"\\\"\"+sheet_namech+\"\\\"\"\n",
        "        url = f'https://find.jobs/jobs-near-me/job-search-results/kw-{sheet_namech}-{term}/co-226/'\n",
        "      usjobs_list_url.append(url)\n",
        "      timeout = 5\n",
        "      try:\n",
        "        wd = webdriver.Chrome('chromedriver',options=chrome_options)\n",
        "        wd.get(url)\n",
        "        count_str = (wd.find_element_by_xpath(\"//p[@class='results-count']\")).get_attribute(\"innerText\")\n",
        "        numb_split = count_str.split(\" \")[3]\n",
        "        numb = numb_split.replace(\",\", \"\")\n",
        "        usjobs_list.append(numb)\n",
        "      except Exception as e:\n",
        "        #print(f'error: {e}')\n",
        "        usjobs_list.append(0)\n",
        "  return [usjobs_list,usjobs_list_url]\n",
        "\n",
        "       \n"
      ],
      "execution_count": null,
      "outputs": []
    },
    {
      "cell_type": "markdown",
      "metadata": {
        "id": "CmPM09YmWyMr"
      },
      "source": [
        "Function to analyse USJobsGov job portal using REST API exposed by portal. This function would require maintainence if underlying API call exposed by site is changed."
      ]
    },
    {
      "cell_type": "code",
      "metadata": {
        "id": "Wsbwh4JsKAAq"
      },
      "source": [
        "import requests\n",
        "import json\n",
        "\n",
        "def jprint(obj):\n",
        "    # create a formatted string of the Python JSON object\n",
        "    text = json.dumps(obj, sort_keys=True, indent=4)\n",
        "    text_dict = json.loads(text)\n",
        "    return text_dict['SearchResult']['SearchResultCountAll']\n",
        "\n",
        "def usjobsgov_analysis(sheet_name,search_terms_p):\n",
        "    hh = {\"Host\": \"data.usajobs.gov\",\"User-Agent\": \"anju.jain@pace.edu\", \"Authorization-Key\": \"K675H4vq5k2oqeu4XSrWiNNgMtC1gKw1t0taBgzMfD0=\" }\n",
        "    usjobsgov_list = []\n",
        "    usjobsgov_list_url =[]\n",
        "    search_terms = search_terms_p\n",
        "    search_terms.iloc[0:2, 0] = search_terms.iloc[:, 0].str.strip('[]')\n",
        "    #print(\"test\")\n",
        "    for term in search_terms.iloc[:, 0]:\n",
        "      term = term.replace(\" \",\"%20\")\n",
        "      term = \"\\\"\"+term+\"\\\"\"\n",
        "      if sheet_name == \"\":\n",
        "          url = f\"https://data.usajobs.gov/api/search?Keyword={term}&PositionLocation['CountryCode']=United%20States\"\n",
        "          response = requests.get(url, headers=hh)\n",
        "      else:\n",
        "          sheet_namech = sheet_name.replace(\" \",\"%20\")\n",
        "          sheet_namech = \"\\\"\"+sheet_namech+\"\\\"\"\n",
        "          url = f\"https://data.usajobs.gov/api/search?Keyword={sheet_namech},{Railroad}&PositionLocation['CountryCode']=United%20States\"\n",
        "          response = requests.get(url, headers=hh)\n",
        "      usjobsgov_list_url.append(url)\n",
        "      numb = jprint(response.json())\n",
        "    #print(numb)\n",
        "      usjobsgov_list.append(numb)\n",
        "    return [usjobsgov_list,usjobsgov_list_url]\n",
        "\n",
        "\n"
      ],
      "execution_count": null,
      "outputs": []
    },
    {
      "cell_type": "markdown",
      "metadata": {
        "id": "U2EGreqZWXrg"
      },
      "source": [
        "Below step invokes loadSheet function and reads tab named \"Cybersecurity_Skill\". Any change to tab name in input file could result into errors or not loading expected data."
      ]
    },
    {
      "cell_type": "code",
      "metadata": {
        "id": "ZwaAKlG2Zbvm",
        "outputId": "5afda428-7f57-4b65-fa72-f6f20506f068",
        "colab": {
          "base_uri": "https://localhost:8080/",
          "height": 494
        }
      },
      "source": [
        "search_terms_skills = loadSheet(\"Cybersecurity_Skill\")\n",
        "search_terms_skills"
      ],
      "execution_count": null,
      "outputs": [
        {
          "output_type": "execute_result",
          "data": {
            "text/html": [
              "<div>\n",
              "<style scoped>\n",
              "    .dataframe tbody tr th:only-of-type {\n",
              "        vertical-align: middle;\n",
              "    }\n",
              "\n",
              "    .dataframe tbody tr th {\n",
              "        vertical-align: top;\n",
              "    }\n",
              "\n",
              "    .dataframe thead th {\n",
              "        text-align: right;\n",
              "    }\n",
              "</style>\n",
              "<table border=\"1\" class=\"dataframe\">\n",
              "  <thead>\n",
              "    <tr style=\"text-align: right;\">\n",
              "      <th></th>\n",
              "      <th>Keywords</th>\n",
              "    </tr>\n",
              "  </thead>\n",
              "  <tbody>\n",
              "    <tr>\n",
              "      <th>0</th>\n",
              "      <td>Information Security</td>\n",
              "    </tr>\n",
              "    <tr>\n",
              "      <th>1</th>\n",
              "      <td>Information Systems</td>\n",
              "    </tr>\n",
              "    <tr>\n",
              "      <th>2</th>\n",
              "      <td>Network Security</td>\n",
              "    </tr>\n",
              "    <tr>\n",
              "      <th>3</th>\n",
              "      <td>LINUX</td>\n",
              "    </tr>\n",
              "    <tr>\n",
              "      <th>4</th>\n",
              "      <td>Project management</td>\n",
              "    </tr>\n",
              "    <tr>\n",
              "      <th>5</th>\n",
              "      <td>Scanners</td>\n",
              "    </tr>\n",
              "    <tr>\n",
              "      <th>6</th>\n",
              "      <td>Customer Service</td>\n",
              "    </tr>\n",
              "    <tr>\n",
              "      <th>7</th>\n",
              "      <td>CISCO</td>\n",
              "    </tr>\n",
              "    <tr>\n",
              "      <th>8</th>\n",
              "      <td>Information Assurance</td>\n",
              "    </tr>\n",
              "    <tr>\n",
              "      <th>9</th>\n",
              "      <td>Risk Analysis</td>\n",
              "    </tr>\n",
              "    <tr>\n",
              "      <th>10</th>\n",
              "      <td>Malware Analysis</td>\n",
              "    </tr>\n",
              "    <tr>\n",
              "      <th>11</th>\n",
              "      <td>Cloud Security</td>\n",
              "    </tr>\n",
              "    <tr>\n",
              "      <th>12</th>\n",
              "      <td>Ethical Hacking</td>\n",
              "    </tr>\n",
              "    <tr>\n",
              "      <th>13</th>\n",
              "      <td>Continuity Planning</td>\n",
              "    </tr>\n",
              "    <tr>\n",
              "      <th>14</th>\n",
              "      <td>Routers</td>\n",
              "    </tr>\n",
              "  </tbody>\n",
              "</table>\n",
              "</div>"
            ],
            "text/plain": [
              "                 Keywords\n",
              "0    Information Security\n",
              "1     Information Systems\n",
              "2        Network Security\n",
              "3                   LINUX\n",
              "4      Project management\n",
              "5                Scanners\n",
              "6        Customer Service\n",
              "7                   CISCO\n",
              "8   Information Assurance\n",
              "9           Risk Analysis\n",
              "10       Malware Analysis\n",
              "11         Cloud Security\n",
              "12        Ethical Hacking\n",
              "13    Continuity Planning\n",
              "14                Routers"
            ]
          },
          "metadata": {
            "tags": []
          },
          "execution_count": 19
        }
      ]
    },
    {
      "cell_type": "markdown",
      "metadata": {
        "id": "5xrR3OyLX2Ye"
      },
      "source": [
        "Below step invokes loadSheet function and reads tab named \"Cybersecurity_Positions\". Any change to tab name in input file could result into errors or not loading expected data."
      ]
    },
    {
      "cell_type": "code",
      "metadata": {
        "id": "8ieqwZhawygu",
        "outputId": "a82d4339-4146-4567-9fa2-2a955e73b6c9",
        "colab": {
          "base_uri": "https://localhost:8080/",
          "height": 465
        }
      },
      "source": [
        "search_terms_positions = loadSheet(\"Cybersecurity_Positions\")\n",
        "search_terms_positions"
      ],
      "execution_count": null,
      "outputs": [
        {
          "output_type": "execute_result",
          "data": {
            "text/html": [
              "<div>\n",
              "<style scoped>\n",
              "    .dataframe tbody tr th:only-of-type {\n",
              "        vertical-align: middle;\n",
              "    }\n",
              "\n",
              "    .dataframe tbody tr th {\n",
              "        vertical-align: top;\n",
              "    }\n",
              "\n",
              "    .dataframe thead th {\n",
              "        text-align: right;\n",
              "    }\n",
              "</style>\n",
              "<table border=\"1\" class=\"dataframe\">\n",
              "  <thead>\n",
              "    <tr style=\"text-align: right;\">\n",
              "      <th></th>\n",
              "      <th>Keywords</th>\n",
              "    </tr>\n",
              "  </thead>\n",
              "  <tbody>\n",
              "    <tr>\n",
              "      <th>0</th>\n",
              "      <td>Cybersecurity Engineer</td>\n",
              "    </tr>\n",
              "    <tr>\n",
              "      <th>1</th>\n",
              "      <td>Cybersecurity Analyst</td>\n",
              "    </tr>\n",
              "    <tr>\n",
              "      <th>2</th>\n",
              "      <td>Cybersecurity Specialist</td>\n",
              "    </tr>\n",
              "    <tr>\n",
              "      <th>3</th>\n",
              "      <td>Cybersecurity Technician</td>\n",
              "    </tr>\n",
              "    <tr>\n",
              "      <th>4</th>\n",
              "      <td>Cybersecurity Architect</td>\n",
              "    </tr>\n",
              "    <tr>\n",
              "      <th>5</th>\n",
              "      <td>Cybersecurity Administrator</td>\n",
              "    </tr>\n",
              "    <tr>\n",
              "      <th>6</th>\n",
              "      <td>Cybersecurity Manager</td>\n",
              "    </tr>\n",
              "    <tr>\n",
              "      <th>7</th>\n",
              "      <td>Cybersecurity Auditor</td>\n",
              "    </tr>\n",
              "    <tr>\n",
              "      <th>8</th>\n",
              "      <td>Cybersecurity Consultant</td>\n",
              "    </tr>\n",
              "    <tr>\n",
              "      <th>9</th>\n",
              "      <td>Cybersecurity Manager</td>\n",
              "    </tr>\n",
              "    <tr>\n",
              "      <th>10</th>\n",
              "      <td>Cybersecurity Systems Engineer</td>\n",
              "    </tr>\n",
              "    <tr>\n",
              "      <th>11</th>\n",
              "      <td>Cybersecurity Network Engineer</td>\n",
              "    </tr>\n",
              "    <tr>\n",
              "      <th>12</th>\n",
              "      <td>Cybersecurity Vulnerability Analyst</td>\n",
              "    </tr>\n",
              "    <tr>\n",
              "      <th>13</th>\n",
              "      <td>Cybersecurity Penetration Tester</td>\n",
              "    </tr>\n",
              "  </tbody>\n",
              "</table>\n",
              "</div>"
            ],
            "text/plain": [
              "                               Keywords\n",
              "0                Cybersecurity Engineer\n",
              "1                 Cybersecurity Analyst\n",
              "2              Cybersecurity Specialist\n",
              "3              Cybersecurity Technician\n",
              "4               Cybersecurity Architect\n",
              "5           Cybersecurity Administrator\n",
              "6                 Cybersecurity Manager\n",
              "7                 Cybersecurity Auditor\n",
              "8              Cybersecurity Consultant\n",
              "9                Cybersecurity Manager \n",
              "10       Cybersecurity Systems Engineer\n",
              "11       Cybersecurity Network Engineer\n",
              "12  Cybersecurity Vulnerability Analyst\n",
              "13     Cybersecurity Penetration Tester"
            ]
          },
          "metadata": {
            "tags": []
          },
          "execution_count": 20
        }
      ]
    },
    {
      "cell_type": "markdown",
      "metadata": {
        "id": "MJXI_wCHX_Q5"
      },
      "source": [
        "Below step invokes loadSheet function and reads tab named \"Cybersecurity_BadgeAndCert\". Any change to tab name in input file could result into errors or not loading expected data."
      ]
    },
    {
      "cell_type": "code",
      "metadata": {
        "id": "nJ6B97hVw-H1",
        "outputId": "d51695fe-d2bc-4bd8-d277-fa93d4db2239",
        "colab": {
          "base_uri": "https://localhost:8080/",
          "height": 405
        }
      },
      "source": [
        "search_terms_BC = loadSheet(\"Cybersecurity_BadgeAndCert\")\n",
        "search_terms_BC"
      ],
      "execution_count": null,
      "outputs": [
        {
          "output_type": "execute_result",
          "data": {
            "text/html": [
              "<div>\n",
              "<style scoped>\n",
              "    .dataframe tbody tr th:only-of-type {\n",
              "        vertical-align: middle;\n",
              "    }\n",
              "\n",
              "    .dataframe tbody tr th {\n",
              "        vertical-align: top;\n",
              "    }\n",
              "\n",
              "    .dataframe thead th {\n",
              "        text-align: right;\n",
              "    }\n",
              "</style>\n",
              "<table border=\"1\" class=\"dataframe\">\n",
              "  <thead>\n",
              "    <tr style=\"text-align: right;\">\n",
              "      <th></th>\n",
              "      <th>Keywords</th>\n",
              "    </tr>\n",
              "  </thead>\n",
              "  <tbody>\n",
              "    <tr>\n",
              "      <th>0</th>\n",
              "      <td>Certified Ethical Hacker</td>\n",
              "    </tr>\n",
              "    <tr>\n",
              "      <th>1</th>\n",
              "      <td>CompTIA Security</td>\n",
              "    </tr>\n",
              "    <tr>\n",
              "      <th>2</th>\n",
              "      <td>Certified Information Systems Security Profess...</td>\n",
              "    </tr>\n",
              "    <tr>\n",
              "      <th>3</th>\n",
              "      <td>Certified Information Security Auditor</td>\n",
              "    </tr>\n",
              "    <tr>\n",
              "      <th>4</th>\n",
              "      <td>SANS GIAC Security Essentials</td>\n",
              "    </tr>\n",
              "    <tr>\n",
              "      <th>5</th>\n",
              "      <td>CISA</td>\n",
              "    </tr>\n",
              "    <tr>\n",
              "      <th>6</th>\n",
              "      <td>CISM</td>\n",
              "    </tr>\n",
              "    <tr>\n",
              "      <th>7</th>\n",
              "      <td>CRISC</td>\n",
              "    </tr>\n",
              "    <tr>\n",
              "      <th>8</th>\n",
              "      <td>SSCP</td>\n",
              "    </tr>\n",
              "    <tr>\n",
              "      <th>9</th>\n",
              "      <td>CCSP</td>\n",
              "    </tr>\n",
              "    <tr>\n",
              "      <th>10</th>\n",
              "      <td>CISSP</td>\n",
              "    </tr>\n",
              "    <tr>\n",
              "      <th>11</th>\n",
              "      <td>GSEC</td>\n",
              "    </tr>\n",
              "  </tbody>\n",
              "</table>\n",
              "</div>"
            ],
            "text/plain": [
              "                                             Keywords\n",
              "0                            Certified Ethical Hacker\n",
              "1                                    CompTIA Security\n",
              "2   Certified Information Systems Security Profess...\n",
              "3              Certified Information Security Auditor\n",
              "4                       SANS GIAC Security Essentials\n",
              "5                                                CISA\n",
              "6                                                CISM\n",
              "7                                               CRISC\n",
              "8                                                SSCP\n",
              "9                                                CCSP\n",
              "10                                              CISSP\n",
              "11                                               GSEC"
            ]
          },
          "metadata": {
            "tags": []
          },
          "execution_count": 21
        }
      ]
    },
    {
      "cell_type": "code",
      "metadata": {
        "id": "owZB8KW6XUMK"
      },
      "source": [
        "#glassdoor_skills_listOflist = glassdoor_analysis(\"\",search_terms_skills)    \n",
        "#glassdoor_skills_list=glassdoor_skills_listOflist[0]\n",
        "#glassdoor_skills_list_url = glassdoor_skills_listOflist[1]"
      ],
      "execution_count": null,
      "outputs": []
    },
    {
      "cell_type": "markdown",
      "metadata": {
        "id": "hP9r0n92YE3_"
      },
      "source": [
        "Below calls executes functions against job portals for skills as read from input file"
      ]
    },
    {
      "cell_type": "code",
      "metadata": {
        "id": "hdbfZ_0BVSQ9"
      },
      "source": [
        "indeed_Skills_listOflist = indeed_analysis(\"\",search_terms_skills)\n",
        "indeed_Skills_list=indeed_Skills_listOflist[0]\n",
        "indeed_Skills_list_url = indeed_Skills_listOflist[1]\n",
        "\n",
        "monster_skills_listOflist = monster_analysis(\"\",search_terms_skills)    \n",
        "monster_skills_list=monster_skills_listOflist[0]\n",
        "monster_skills_list_url = monster_skills_listOflist[1]\n",
        "\n",
        "careerbuilderjobs_skills_listOflist = careerbuilderjobs_analysis(\"\",search_terms_skills)    \n",
        "careerbuilderjobs_skills_list=careerbuilderjobs_skills_listOflist[0]\n",
        "careerbuilderjobs_skills_list_url = careerbuilderjobs_skills_listOflist[1]\n",
        "careerbuilderjobs_skills_list\n",
        "\n",
        "flexjobs_Skill_listOflist = flexjobs_analysis(\"\",search_terms_skills)    \n",
        "flexjobs_Skill_list=flexjobs_Skill_listOflist[0]\n",
        "flexjobs_Skill_list_url = flexjobs_Skill_listOflist[1]\n",
        "\n",
        "simply_skills_listOflist = simplyhired_analysis(\"\",search_terms_skills)    \n",
        "simply_skills_list=simply_skills_listOflist[0]\n",
        "simply_skills_list_url = simply_skills_listOflist[1]\n",
        "\n",
        "gartner_skills_listOflist = gartner_analysis(\"\",search_terms_skills)    \n",
        "gartner_skills_list=gartner_skills_listOflist[0]\n",
        "gartner_skills_list_url = gartner_skills_listOflist[1]\n",
        "\n",
        "dice_skills_listOflist = dice_analysis(\"\",search_terms_skills)    \n",
        "dice_skills_list=dice_skills_listOflist[0]\n",
        "dice_skills_list_url = dice_skills_listOflist[1]\n",
        "\n",
        "usjobsgov_listOflist = usjobsgov_analysis(\"\",search_terms_skills)\n",
        "usjobsgov_list=usjobsgov_listOflist[0]\n",
        "usjobsgov_list_url = usjobsgov_listOflist[1]\n",
        "\n",
        "findjobs_skills_listOflist = findjobs_analysis(\"\",search_terms_skills)    \n",
        "findjobs_skills_list=findjobs_skills_listOflist[0]\n",
        "findjobs_skills_list_url = findjobs_skills_listOflist[1]\n"
      ],
      "execution_count": null,
      "outputs": []
    },
    {
      "cell_type": "markdown",
      "metadata": {
        "id": "OGmD0VXtYTL8"
      },
      "source": [
        "Below steps prepare output file from results recieved of counts from portals and write to excel file."
      ]
    },
    {
      "cell_type": "code",
      "metadata": {
        "id": "5jD2MkFN5Fkz"
      },
      "source": [
        "df_skills = pd.DataFrame(indeed_Skills_list, index=search_terms_skills.iloc[:,0], columns=['Indeed'])\n",
        "df_skills_url = pd.DataFrame(indeed_Skills_list_url, index=search_terms_skills.iloc[:,0], columns=['Indeed'])\n"
      ],
      "execution_count": null,
      "outputs": []
    },
    {
      "cell_type": "code",
      "metadata": {
        "id": "TUNb9Bt6Ysep"
      },
      "source": [
        "df_skills.rename(index={'':'CS_Skill'},inplace=True)\n",
        "df_skills_url.rename(index={'':'CS_Skill'},inplace=True)\n"
      ],
      "execution_count": null,
      "outputs": []
    },
    {
      "cell_type": "code",
      "metadata": {
        "id": "P0SIKePZY04o"
      },
      "source": [
        "df_skills['Gartner'] = gartner_skills_list\n",
        "df_skills['Dice'] = dice_skills_list\n",
        "df_skills['Monster'] = monster_skills_list\n",
        "df_skills['SimplyHired'] = simply_skills_list\n",
        "#df_skills['Glassdoor'] = glassdoor_skills_list\n",
        "df_skills['flexjobs'] = flexjobs_Skill_list\n",
        "df_skills['CareerBuilder'] = careerbuilderjobs_skills_list\n",
        "df_skills['findJobs'] = findjobs_skills_list\n",
        "df_skills['USJobsGov'] = usjobsgov_list\n",
        "df_skills['Date'] = date.today()\n",
        "new_order = [-1,0,1,2,3,4,5,6,7,8]\n",
        "df_skills = df_skills[df_skills.columns[new_order]]\n",
        "with pd.ExcelWriter('PortalsCountsForCyberSec.xlsx') as writer:  \n",
        "    df_skills.to_excel(writer, sheet_name='SkillsAnalysis')\n",
        "\n",
        "df_skills_url['Gartner'] = gartner_skills_list_url\n",
        "df_skills_url['Dice'] = dice_skills_list_url\n",
        "df_skills_url['Monster'] = monster_skills_list_url\n",
        "df_skills_url['SimplyHired'] = simply_skills_list_url\n",
        "#df_skills_url['Glassdoor'] = glassdoor_skills_list\n",
        "df_skills_url['flexjobs'] = flexjobs_Skill_list_url\n",
        "df_skills_url['CareerBuilder'] = careerbuilderjobs_skills_list_url\n",
        "df_skills_url['findJobs'] = findjobs_skills_list_url\n",
        "df_skills_url['USJobsGov'] = findjobs_skills_list_url\n",
        "df_skills_url['Date'] = date.today()\n",
        "df_skills_url = df_skills_url[df_skills_url.columns[new_order]]\n",
        "\n",
        "with pd.ExcelWriter('PortalsCountsForCyberSecURL.xlsx') as writer:  \n",
        "    df_skills_url.to_excel(writer, sheet_name='SkillsAnalysisURL')\n",
        "\n"
      ],
      "execution_count": null,
      "outputs": []
    },
    {
      "cell_type": "code",
      "metadata": {
        "id": "BQbmZRhaql0R",
        "outputId": "935e3ff7-0973-43ac-a824-9421fcbd185e",
        "colab": {
          "base_uri": "https://localhost:8080/",
          "height": 524
        }
      },
      "source": [
        "df_skills"
      ],
      "execution_count": null,
      "outputs": [
        {
          "output_type": "execute_result",
          "data": {
            "text/html": [
              "<div>\n",
              "<style scoped>\n",
              "    .dataframe tbody tr th:only-of-type {\n",
              "        vertical-align: middle;\n",
              "    }\n",
              "\n",
              "    .dataframe tbody tr th {\n",
              "        vertical-align: top;\n",
              "    }\n",
              "\n",
              "    .dataframe thead th {\n",
              "        text-align: right;\n",
              "    }\n",
              "</style>\n",
              "<table border=\"1\" class=\"dataframe\">\n",
              "  <thead>\n",
              "    <tr style=\"text-align: right;\">\n",
              "      <th></th>\n",
              "      <th>Date</th>\n",
              "      <th>Indeed</th>\n",
              "      <th>Gartner</th>\n",
              "      <th>Dice</th>\n",
              "      <th>Monster</th>\n",
              "      <th>SimplyHired</th>\n",
              "      <th>flexjobs</th>\n",
              "      <th>CareerBuilder</th>\n",
              "      <th>findJobs</th>\n",
              "      <th>USJobsGov</th>\n",
              "    </tr>\n",
              "    <tr>\n",
              "      <th>Keywords</th>\n",
              "      <th></th>\n",
              "      <th></th>\n",
              "      <th></th>\n",
              "      <th></th>\n",
              "      <th></th>\n",
              "      <th></th>\n",
              "      <th></th>\n",
              "      <th></th>\n",
              "      <th></th>\n",
              "      <th></th>\n",
              "    </tr>\n",
              "  </thead>\n",
              "  <tbody>\n",
              "    <tr>\n",
              "      <th>Information-Security</th>\n",
              "      <td>2020-10-02</td>\n",
              "      <td>18,030</td>\n",
              "      <td>0</td>\n",
              "      <td>385</td>\n",
              "      <td>12144</td>\n",
              "      <td>12851</td>\n",
              "      <td>318</td>\n",
              "      <td>2836</td>\n",
              "      <td>614</td>\n",
              "      <td>248</td>\n",
              "    </tr>\n",
              "    <tr>\n",
              "      <th>Information-Systems</th>\n",
              "      <td>2020-10-02</td>\n",
              "      <td>51,099</td>\n",
              "      <td>0</td>\n",
              "      <td>395</td>\n",
              "      <td>107435</td>\n",
              "      <td>37903</td>\n",
              "      <td>628</td>\n",
              "      <td>5000</td>\n",
              "      <td>1117</td>\n",
              "      <td>863</td>\n",
              "    </tr>\n",
              "    <tr>\n",
              "      <th>Network-Security</th>\n",
              "      <td>2020-10-02</td>\n",
              "      <td>9,297</td>\n",
              "      <td>0</td>\n",
              "      <td>238</td>\n",
              "      <td>8665</td>\n",
              "      <td>6819</td>\n",
              "      <td>207</td>\n",
              "      <td>1702</td>\n",
              "      <td>303</td>\n",
              "      <td>71</td>\n",
              "    </tr>\n",
              "    <tr>\n",
              "      <th>LINUX</th>\n",
              "      <td>2020-10-02</td>\n",
              "      <td>41,392</td>\n",
              "      <td>6</td>\n",
              "      <td>4247</td>\n",
              "      <td>23663</td>\n",
              "      <td>30686</td>\n",
              "      <td>1240</td>\n",
              "      <td>5000</td>\n",
              "      <td>1424</td>\n",
              "      <td>27</td>\n",
              "    </tr>\n",
              "    <tr>\n",
              "      <th>Project-management</th>\n",
              "      <td>2020-10-02</td>\n",
              "      <td>133,774</td>\n",
              "      <td>0</td>\n",
              "      <td>2071</td>\n",
              "      <td>80830</td>\n",
              "      <td>0</td>\n",
              "      <td>4766</td>\n",
              "      <td>5000</td>\n",
              "      <td>3132</td>\n",
              "      <td>593</td>\n",
              "    </tr>\n",
              "    <tr>\n",
              "      <th>Scanners</th>\n",
              "      <td>2020-10-02</td>\n",
              "      <td>15,259</td>\n",
              "      <td>0</td>\n",
              "      <td>2</td>\n",
              "      <td>16932</td>\n",
              "      <td>8664</td>\n",
              "      <td>98</td>\n",
              "      <td>3799</td>\n",
              "      <td>1420</td>\n",
              "      <td>45</td>\n",
              "    </tr>\n",
              "    <tr>\n",
              "      <th>Customer-Service</th>\n",
              "      <td>2020-10-02</td>\n",
              "      <td>1,421,877</td>\n",
              "      <td>0</td>\n",
              "      <td>549</td>\n",
              "      <td>558294</td>\n",
              "      <td>449014</td>\n",
              "      <td>4979</td>\n",
              "      <td>5000</td>\n",
              "      <td>28027</td>\n",
              "      <td>2119</td>\n",
              "    </tr>\n",
              "    <tr>\n",
              "      <th>CISCO</th>\n",
              "      <td>2020-10-02</td>\n",
              "      <td>14,808</td>\n",
              "      <td>3</td>\n",
              "      <td>2852</td>\n",
              "      <td>15486</td>\n",
              "      <td>10737</td>\n",
              "      <td>224</td>\n",
              "      <td>2849</td>\n",
              "      <td>346</td>\n",
              "      <td>18</td>\n",
              "    </tr>\n",
              "    <tr>\n",
              "      <th>Information-Assurance</th>\n",
              "      <td>2020-10-02</td>\n",
              "      <td>7,902</td>\n",
              "      <td>0</td>\n",
              "      <td>116</td>\n",
              "      <td>6919</td>\n",
              "      <td>5506</td>\n",
              "      <td>49</td>\n",
              "      <td>1287</td>\n",
              "      <td>123</td>\n",
              "      <td>137</td>\n",
              "    </tr>\n",
              "    <tr>\n",
              "      <th>Risk-Analysis</th>\n",
              "      <td>2020-10-02</td>\n",
              "      <td>5,112</td>\n",
              "      <td>0</td>\n",
              "      <td>28</td>\n",
              "      <td>38914</td>\n",
              "      <td>3964</td>\n",
              "      <td>85</td>\n",
              "      <td>1068</td>\n",
              "      <td>159</td>\n",
              "      <td>55</td>\n",
              "    </tr>\n",
              "    <tr>\n",
              "      <th>Malware-Analysis</th>\n",
              "      <td>2020-10-02</td>\n",
              "      <td>1,107</td>\n",
              "      <td>0</td>\n",
              "      <td>24</td>\n",
              "      <td>719</td>\n",
              "      <td>761</td>\n",
              "      <td>27</td>\n",
              "      <td>196</td>\n",
              "      <td>13</td>\n",
              "      <td>1</td>\n",
              "    </tr>\n",
              "    <tr>\n",
              "      <th>Cloud-Security</th>\n",
              "      <td>2020-10-02</td>\n",
              "      <td>3,793</td>\n",
              "      <td>0</td>\n",
              "      <td>162</td>\n",
              "      <td>2213</td>\n",
              "      <td>2533</td>\n",
              "      <td>141</td>\n",
              "      <td>508</td>\n",
              "      <td>204</td>\n",
              "      <td>0</td>\n",
              "    </tr>\n",
              "    <tr>\n",
              "      <th>Ethical-Hacking</th>\n",
              "      <td>2020-10-02</td>\n",
              "      <td>265</td>\n",
              "      <td>0</td>\n",
              "      <td>22</td>\n",
              "      <td>119</td>\n",
              "      <td>186</td>\n",
              "      <td>25</td>\n",
              "      <td>44</td>\n",
              "      <td>11</td>\n",
              "      <td>2</td>\n",
              "    </tr>\n",
              "    <tr>\n",
              "      <th>Continuity-Planning</th>\n",
              "      <td>2020-10-02</td>\n",
              "      <td>548</td>\n",
              "      <td>0</td>\n",
              "      <td>0</td>\n",
              "      <td>1476</td>\n",
              "      <td>0</td>\n",
              "      <td>14</td>\n",
              "      <td>144</td>\n",
              "      <td>21</td>\n",
              "      <td>1</td>\n",
              "    </tr>\n",
              "    <tr>\n",
              "      <th>Routers</th>\n",
              "      <td>2020-10-02</td>\n",
              "      <td>12,547</td>\n",
              "      <td>1</td>\n",
              "      <td>510</td>\n",
              "      <td>6548</td>\n",
              "      <td>0</td>\n",
              "      <td>638</td>\n",
              "      <td>3130</td>\n",
              "      <td>602</td>\n",
              "      <td>48</td>\n",
              "    </tr>\n",
              "  </tbody>\n",
              "</table>\n",
              "</div>"
            ],
            "text/plain": [
              "                             Date     Indeed  ... findJobs USJobsGov\n",
              "Keywords                                      ...                   \n",
              "Information-Security   2020-10-02     18,030  ...      614       248\n",
              "Information-Systems    2020-10-02     51,099  ...     1117       863\n",
              "Network-Security       2020-10-02      9,297  ...      303        71\n",
              "LINUX                  2020-10-02     41,392  ...     1424        27\n",
              "Project-management     2020-10-02    133,774  ...     3132       593\n",
              "Scanners               2020-10-02     15,259  ...     1420        45\n",
              "Customer-Service       2020-10-02  1,421,877  ...    28027      2119\n",
              "CISCO                  2020-10-02     14,808  ...      346        18\n",
              "Information-Assurance  2020-10-02      7,902  ...      123       137\n",
              "Risk-Analysis          2020-10-02      5,112  ...      159        55\n",
              "Malware-Analysis       2020-10-02      1,107  ...       13         1\n",
              "Cloud-Security         2020-10-02      3,793  ...      204         0\n",
              "Ethical-Hacking        2020-10-02        265  ...       11         2\n",
              "Continuity-Planning    2020-10-02        548  ...       21         1\n",
              "Routers                2020-10-02     12,547  ...      602        48\n",
              "\n",
              "[15 rows x 10 columns]"
            ]
          },
          "metadata": {
            "tags": []
          },
          "execution_count": 27
        }
      ]
    },
    {
      "cell_type": "markdown",
      "metadata": {
        "id": "UKP3-ELn4Sw7"
      },
      "source": [
        "Below steps executes functions against job portals for skills per position as read from input file. Also, Prepare output file from results recieved of counts from portals for skills per first 3 positions( as in input excel) and write to excel file."
      ]
    },
    {
      "cell_type": "code",
      "metadata": {
        "id": "gmU_VlUysPgK",
        "outputId": "bdc27900-09d5-408c-ffba-e0de091a108e",
        "colab": {
          "base_uri": "https://localhost:8080/",
          "height": 67
        }
      },
      "source": [
        "df_skills_r = None\n",
        "Ct = 1\n",
        "\n",
        "for role in search_terms_positions.iloc[0:3,0]:\n",
        "  roleFinal = role\n",
        "  print(roleFinal)\n",
        "  indeed_Skills_listOflist = indeed_analysis(roleFinal,search_terms_skills)\n",
        "  indeed_Skills_list1=indeed_Skills_listOflist[0]\n",
        "  indeed_Skills_list_url1 = indeed_Skills_listOflist[1]\n",
        "\n",
        "  monster_skills_listOflist = monster_analysis(roleFinal,search_terms_skills)    \n",
        "  monster_skills_list1=monster_skills_listOflist[0]\n",
        "  monster_skills_list_url1 = monster_skills_listOflist[1]\n",
        "\n",
        "  careerbuilderjobs_skills_listOflist = careerbuilderjobs_analysis(roleFinal,search_terms_skills)    \n",
        "  careerbuilderjobs_skills_list1=careerbuilderjobs_skills_listOflist[0]\n",
        "  careerbuilderjobs_skills_list_url1 = careerbuilderjobs_skills_listOflist[1]\n",
        "\n",
        "  flexjobs_Skill_listOflist = flexjobs_analysis(roleFinal,search_terms_skills)    \n",
        "  flexjobs_Skill_list1=flexjobs_Skill_listOflist[0]\n",
        "  flexjobs_Skill_list_url1 = flexjobs_Skill_listOflist[1]\n",
        "\n",
        "  simply_skills_listOflist = simplyhired_analysis(roleFinal,search_terms_skills)    \n",
        "  simply_skills_list1=simply_skills_listOflist[0]\n",
        "  simply_skills_list_url1 = simply_skills_listOflist[1]\n",
        "\n",
        "  dice_skills_listOflist = dice_analysis(roleFinal,search_terms_skills)    \n",
        "  dice_skills_list1=dice_skills_listOflist[0]\n",
        "  dice_skills_list_url1 = dice_skills_listOflist[1]\n",
        "\n",
        "  findjobs_skills_listOflist = findjobs_analysis(roleFinal,search_terms_skills)    \n",
        "  findjobs_skills_list1=findjobs_skills_listOflist[0]\n",
        "  findjobs_skills_list_url1 = findjobs_skills_listOflist[1]\n",
        "\n",
        "  usjobsgov_skills_listOflist = usjobsgov_analysis(\"\",search_terms_skills)    \n",
        "  usjobsgov_skills_list1=usjobsgov_skills_listOflist[0]\n",
        "  usjobsgov_skills_list_url1 = usjobsgov_skills_listOflist[1]\n",
        "\n",
        "  #if df_skills_r is None:\n",
        "  df_skills_r = pd.DataFrame(indeed_Skills_list1, index=search_terms_skills.iloc[:,0], columns=['Indeed'])\n",
        "  df_skills_r.rename(index={'':'Data_Skill_r'},inplace=True)\n",
        "  # GARTNER Double Qutoes with postion and skill does not work . df_skills_r['Gartner'] = gartner_skills_list1\n",
        "  df_skills_r['Dice'] = dice_skills_list1\n",
        "  df_skills_r['Monster'] = monster_skills_list1\n",
        "  df_skills_r['SimplyHired'] = simply_skills_list1\n",
        "  #df_skills_r['Glassdoor'] = glassdoor_skills_list1\n",
        "  df_skills_r['flexjobs'] = flexjobs_Skill_list1\n",
        "  df_skills_r['CareerBuilder'] = careerbuilderjobs_skills_list1\n",
        "  df_skills_r['findJobs'] = findjobs_skills_list1\n",
        "  df_skills_r['UsjobsGov'] = usjobsgov_skills_list1\n",
        "  df_skills_r['Date'] = date.today()\n",
        "  new_order = [-1,0,1,2,3,4,5,6,7]\n",
        "  df_skills_r = df_skills_r[df_skills_r.columns[new_order]]\n",
        "  \n",
        "  df_skills_r_url = pd.DataFrame(indeed_Skills_list_url1, index=search_terms_skills.iloc[:,0], columns=['Indeed'])\n",
        "  df_skills_r_url.rename(index={'':'Skill_r'},inplace=True)\n",
        "  # GARTNER Double Qutoes with postion and skill does not work .df_skills_url['Gartner'] = gartner_skills_list_url1\n",
        "  df_skills_r_url['Dice'] = dice_skills_list_url1\n",
        "  df_skills_r_url['Monster'] = monster_skills_list_url1\n",
        "  df_skills_r_url['SimplyHired'] = simply_skills_list_url1\n",
        "  #df_skills_url['Glassdoor'] = glassdoor_skills_list\n",
        "  df_skills_r_url['flexjobs'] = flexjobs_Skill_list_url1\n",
        "  df_skills_r_url['CareerBuilder'] = careerbuilderjobs_skills_list_url1\n",
        "  df_skills_r_url['findJobs'] = findjobs_skills_list_url1\n",
        "  df_skills_r_url['UsjobsGov'] = usjobsgov_skills_list_url1\n",
        "  df_skills_r_url['Date'] = date.today()\n",
        "  df_skills_r_url = df_skills_r_url[df_skills_r_url.columns[new_order]]\n",
        "  with pd.ExcelWriter('PortalsCountsForCyberSec.xlsx',mode='a') as writer:  \n",
        "       df_skills_r.to_excel(writer, sheet_name=roleFinal+'_S')\n",
        "  with pd.ExcelWriter('PortalsCountsForCyberSecURL.xlsx',mode='a') as writer:  \n",
        "       df_skills_r_url.to_excel(writer, sheet_name=roleFinal+'_URL')\n",
        "  Ct = Ct+1\n",
        " "
      ],
      "execution_count": null,
      "outputs": [
        {
          "output_type": "stream",
          "text": [
            "Cybersecurity Engineer\n",
            "Cybersecurity Analyst\n",
            "Cybersecurity Specialist\n"
          ],
          "name": "stdout"
        }
      ]
    },
    {
      "cell_type": "markdown",
      "metadata": {
        "id": "KgPQoyb55hM9"
      },
      "source": [
        "Below steps executes functions against job portals for position as read from input file."
      ]
    },
    {
      "cell_type": "code",
      "metadata": {
        "id": "7xFe0lteHSdC",
        "outputId": "3509e926-c558-49b3-ca64-b1fb7bf85eca",
        "colab": {
          "base_uri": "https://localhost:8080/",
          "height": 420
        }
      },
      "source": [
        "careerbuilderjobs_positions_listOflist = careerbuilderjobs_analysis(\"\",search_terms_positions)    \n",
        "careerbuilderjobs_positions_list=careerbuilderjobs_positions_listOflist[0]\n",
        "careerbuilderjobs_positions_list_url = careerbuilderjobs_positions_listOflist[1]\n",
        "\n",
        "flexjobs_positions_listOflist = flexjobs_analysis(\"\",search_terms_positions)    \n",
        "flexjobs_positions_list=flexjobs_positions_listOflist[0]\n",
        "flexjobs_positions_list_url = flexjobs_positions_listOflist[1]\n",
        "\n",
        "#glassdoor_positions_list = glassdoor_analysis(\"Data\",search_terms_positions)\n",
        "findJobs_positions_listOflist = findjobs_analysis(\"\",search_terms_positions)\n",
        "findjobs_positions_list=findJobs_positions_listOflist[0]\n",
        "findjobs_positions_list_url = findJobs_positions_listOflist[1]\n",
        "\n",
        "gartner_positions_listOflist = gartner_analysis(\"\",search_terms_positions)    \n",
        "gartner_positions_list=gartner_positions_listOflist[0]\n",
        "gartner_positions_list_url = gartner_positions_listOflist[1]\n",
        "\n",
        "indeed_positions_listOflist = indeed_analysis(\"\",search_terms_positions)\n",
        "indeed_positions_list=indeed_positions_listOflist[0]\n",
        "indeed_positions_list_url = indeed_positions_listOflist[1]\n",
        "\n",
        "monster_positions_listOflist = monster_analysis(\"\",search_terms_positions)    \n",
        "monster_positions_list=monster_positions_listOflist[0]\n",
        "monster_positions_list_url = monster_positions_listOflist[1]\n",
        "\n",
        "careerbuilderjobs_positions_listOflist = careerbuilderjobs_analysis(\"\",search_terms_positions)    \n",
        "careerbuilderjobs_positions_list=careerbuilderjobs_positions_listOflist[0]\n",
        "careerbuilderjobs_positions_list_url = careerbuilderjobs_positions_listOflist[1]\n",
        "\n",
        "simply_positions_listOflist = simplyhired_analysis(\"\",search_terms_positions)    \n",
        "simply_positions_list=simply_positions_listOflist[0]\n",
        "simply_positions_list_url = simply_positions_listOflist[1]\n",
        "\n",
        "dice_positions_listOflist = dice_analysis(\"\",search_terms_positions)    \n",
        "dice_positions_list=dice_positions_listOflist[0]\n",
        "dice_positions_list_url = dice_positions_listOflist[1]\n",
        "\n",
        "findjobs_positions_listOflist = findjobs_analysis(\"\",search_terms_positions)    \n",
        "findjobs_positions_list=findjobs_positions_listOflist[0]\n",
        "findjobs_positions_list_url = findjobs_positions_listOflist[1]\n",
        "\n",
        "usjobsgov_positions_listOflist = usjobsgov_analysis(\"\",search_terms_positions)    \n",
        "usjobsgov_positions_list=usjobsgov_positions_listOflist[0]\n",
        "usjobsgov_positions_list_url = usjobsgov_positions_listOflist[1]"
      ],
      "execution_count": null,
      "outputs": [
        {
          "output_type": "error",
          "ename": "KeyboardInterrupt",
          "evalue": "ignored",
          "traceback": [
            "\u001b[0;31m---------------------------------------------------------------------------\u001b[0m",
            "\u001b[0;31mTypeError\u001b[0m                                 Traceback (most recent call last)",
            "\u001b[0;32m/usr/local/lib/python3.6/dist-packages/urllib3/connectionpool.py\u001b[0m in \u001b[0;36m_make_request\u001b[0;34m(self, conn, method, url, timeout, chunked, **httplib_request_kw)\u001b[0m\n\u001b[1;32m    376\u001b[0m             \u001b[0;32mtry\u001b[0m\u001b[0;34m:\u001b[0m  \u001b[0;31m# Python 2.7, use buffering of HTTP responses\u001b[0m\u001b[0;34m\u001b[0m\u001b[0;34m\u001b[0m\u001b[0m\n\u001b[0;32m--> 377\u001b[0;31m                 \u001b[0mhttplib_response\u001b[0m \u001b[0;34m=\u001b[0m \u001b[0mconn\u001b[0m\u001b[0;34m.\u001b[0m\u001b[0mgetresponse\u001b[0m\u001b[0;34m(\u001b[0m\u001b[0mbuffering\u001b[0m\u001b[0;34m=\u001b[0m\u001b[0;32mTrue\u001b[0m\u001b[0;34m)\u001b[0m\u001b[0;34m\u001b[0m\u001b[0;34m\u001b[0m\u001b[0m\n\u001b[0m\u001b[1;32m    378\u001b[0m             \u001b[0;32mexcept\u001b[0m \u001b[0mTypeError\u001b[0m\u001b[0;34m:\u001b[0m  \u001b[0;31m# Python 3\u001b[0m\u001b[0;34m\u001b[0m\u001b[0;34m\u001b[0m\u001b[0m\n",
            "\u001b[0;31mTypeError\u001b[0m: getresponse() got an unexpected keyword argument 'buffering'",
            "\nDuring handling of the above exception, another exception occurred:\n",
            "\u001b[0;31mKeyboardInterrupt\u001b[0m                         Traceback (most recent call last)",
            "\u001b[0;32m<ipython-input-38-9a92dc5f3055>\u001b[0m in \u001b[0;36m<module>\u001b[0;34m()\u001b[0m\n\u001b[0;32m----> 1\u001b[0;31m \u001b[0mcareerbuilderjobs_positions_listOflist\u001b[0m \u001b[0;34m=\u001b[0m \u001b[0mcareerbuilderjobs_analysis\u001b[0m\u001b[0;34m(\u001b[0m\u001b[0;34m\"\"\u001b[0m\u001b[0;34m,\u001b[0m\u001b[0msearch_terms_positions\u001b[0m\u001b[0;34m)\u001b[0m\u001b[0;34m\u001b[0m\u001b[0;34m\u001b[0m\u001b[0m\n\u001b[0m\u001b[1;32m      2\u001b[0m \u001b[0mcareerbuilderjobs_positions_list\u001b[0m\u001b[0;34m=\u001b[0m\u001b[0mcareerbuilderjobs_positions_listOflist\u001b[0m\u001b[0;34m[\u001b[0m\u001b[0;36m0\u001b[0m\u001b[0;34m]\u001b[0m\u001b[0;34m\u001b[0m\u001b[0;34m\u001b[0m\u001b[0m\n\u001b[1;32m      3\u001b[0m \u001b[0mcareerbuilderjobs_positions_list_url\u001b[0m \u001b[0;34m=\u001b[0m \u001b[0mcareerbuilderjobs_positions_listOflist\u001b[0m\u001b[0;34m[\u001b[0m\u001b[0;36m1\u001b[0m\u001b[0;34m]\u001b[0m\u001b[0;34m\u001b[0m\u001b[0;34m\u001b[0m\u001b[0m\n\u001b[1;32m      4\u001b[0m \u001b[0;34m\u001b[0m\u001b[0m\n\u001b[1;32m      5\u001b[0m \u001b[0mflexjobs_positions_listOflist\u001b[0m \u001b[0;34m=\u001b[0m \u001b[0mflexjobs_analysis\u001b[0m\u001b[0;34m(\u001b[0m\u001b[0;34m\"\"\u001b[0m\u001b[0;34m,\u001b[0m\u001b[0msearch_terms_positions\u001b[0m\u001b[0;34m)\u001b[0m\u001b[0;34m\u001b[0m\u001b[0;34m\u001b[0m\u001b[0m\n",
            "\u001b[0;32m<ipython-input-15-b19682360eb7>\u001b[0m in \u001b[0;36mcareerbuilderjobs_analysis\u001b[0;34m(sheet_name, search_terms_p)\u001b[0m\n\u001b[1;32m     18\u001b[0m       \u001b[0;32mtry\u001b[0m\u001b[0;34m:\u001b[0m\u001b[0;34m\u001b[0m\u001b[0;34m\u001b[0m\u001b[0m\n\u001b[1;32m     19\u001b[0m         \u001b[0mwd\u001b[0m \u001b[0;34m=\u001b[0m \u001b[0mwebdriver\u001b[0m\u001b[0;34m.\u001b[0m\u001b[0mChrome\u001b[0m\u001b[0;34m(\u001b[0m\u001b[0;34m'chromedriver'\u001b[0m\u001b[0;34m,\u001b[0m\u001b[0moptions\u001b[0m\u001b[0;34m=\u001b[0m\u001b[0mchrome_options\u001b[0m\u001b[0;34m)\u001b[0m\u001b[0;34m\u001b[0m\u001b[0;34m\u001b[0m\u001b[0m\n\u001b[0;32m---> 20\u001b[0;31m         \u001b[0mwd\u001b[0m\u001b[0;34m.\u001b[0m\u001b[0mget\u001b[0m\u001b[0;34m(\u001b[0m\u001b[0murl\u001b[0m\u001b[0;34m)\u001b[0m\u001b[0;34m\u001b[0m\u001b[0;34m\u001b[0m\u001b[0m\n\u001b[0m\u001b[1;32m     21\u001b[0m         \u001b[0mcount_str\u001b[0m \u001b[0;34m=\u001b[0m \u001b[0;34m(\u001b[0m\u001b[0mwd\u001b[0m\u001b[0;34m.\u001b[0m\u001b[0mfind_element_by_xpath\u001b[0m\u001b[0;34m(\u001b[0m\u001b[0;34m\"//h1[@class='fz1rem']\"\u001b[0m\u001b[0;34m)\u001b[0m\u001b[0;34m)\u001b[0m\u001b[0;34m.\u001b[0m\u001b[0mget_attribute\u001b[0m\u001b[0;34m(\u001b[0m\u001b[0;34m\"innerText\"\u001b[0m\u001b[0;34m)\u001b[0m\u001b[0;34m\u001b[0m\u001b[0;34m\u001b[0m\u001b[0m\n\u001b[1;32m     22\u001b[0m         \u001b[0mnumb_split\u001b[0m \u001b[0;34m=\u001b[0m \u001b[0mcount_str\u001b[0m\u001b[0;34m.\u001b[0m\u001b[0msplit\u001b[0m\u001b[0;34m(\u001b[0m\u001b[0;34m)\u001b[0m\u001b[0;34m\u001b[0m\u001b[0;34m\u001b[0m\u001b[0m\n",
            "\u001b[0;32m/usr/local/lib/python3.6/dist-packages/selenium/webdriver/remote/webdriver.py\u001b[0m in \u001b[0;36mget\u001b[0;34m(self, url)\u001b[0m\n\u001b[1;32m    331\u001b[0m         \u001b[0mLoads\u001b[0m \u001b[0ma\u001b[0m \u001b[0mweb\u001b[0m \u001b[0mpage\u001b[0m \u001b[0;32min\u001b[0m \u001b[0mthe\u001b[0m \u001b[0mcurrent\u001b[0m \u001b[0mbrowser\u001b[0m \u001b[0msession\u001b[0m\u001b[0;34m.\u001b[0m\u001b[0;34m\u001b[0m\u001b[0;34m\u001b[0m\u001b[0m\n\u001b[1;32m    332\u001b[0m         \"\"\"\n\u001b[0;32m--> 333\u001b[0;31m         \u001b[0mself\u001b[0m\u001b[0;34m.\u001b[0m\u001b[0mexecute\u001b[0m\u001b[0;34m(\u001b[0m\u001b[0mCommand\u001b[0m\u001b[0;34m.\u001b[0m\u001b[0mGET\u001b[0m\u001b[0;34m,\u001b[0m \u001b[0;34m{\u001b[0m\u001b[0;34m'url'\u001b[0m\u001b[0;34m:\u001b[0m \u001b[0murl\u001b[0m\u001b[0;34m}\u001b[0m\u001b[0;34m)\u001b[0m\u001b[0;34m\u001b[0m\u001b[0;34m\u001b[0m\u001b[0m\n\u001b[0m\u001b[1;32m    334\u001b[0m \u001b[0;34m\u001b[0m\u001b[0m\n\u001b[1;32m    335\u001b[0m     \u001b[0;34m@\u001b[0m\u001b[0mproperty\u001b[0m\u001b[0;34m\u001b[0m\u001b[0;34m\u001b[0m\u001b[0m\n",
            "\u001b[0;32m/usr/local/lib/python3.6/dist-packages/selenium/webdriver/remote/webdriver.py\u001b[0m in \u001b[0;36mexecute\u001b[0;34m(self, driver_command, params)\u001b[0m\n\u001b[1;32m    317\u001b[0m \u001b[0;34m\u001b[0m\u001b[0m\n\u001b[1;32m    318\u001b[0m         \u001b[0mparams\u001b[0m \u001b[0;34m=\u001b[0m \u001b[0mself\u001b[0m\u001b[0;34m.\u001b[0m\u001b[0m_wrap_value\u001b[0m\u001b[0;34m(\u001b[0m\u001b[0mparams\u001b[0m\u001b[0;34m)\u001b[0m\u001b[0;34m\u001b[0m\u001b[0;34m\u001b[0m\u001b[0m\n\u001b[0;32m--> 319\u001b[0;31m         \u001b[0mresponse\u001b[0m \u001b[0;34m=\u001b[0m \u001b[0mself\u001b[0m\u001b[0;34m.\u001b[0m\u001b[0mcommand_executor\u001b[0m\u001b[0;34m.\u001b[0m\u001b[0mexecute\u001b[0m\u001b[0;34m(\u001b[0m\u001b[0mdriver_command\u001b[0m\u001b[0;34m,\u001b[0m \u001b[0mparams\u001b[0m\u001b[0;34m)\u001b[0m\u001b[0;34m\u001b[0m\u001b[0;34m\u001b[0m\u001b[0m\n\u001b[0m\u001b[1;32m    320\u001b[0m         \u001b[0;32mif\u001b[0m \u001b[0mresponse\u001b[0m\u001b[0;34m:\u001b[0m\u001b[0;34m\u001b[0m\u001b[0;34m\u001b[0m\u001b[0m\n\u001b[1;32m    321\u001b[0m             \u001b[0mself\u001b[0m\u001b[0;34m.\u001b[0m\u001b[0merror_handler\u001b[0m\u001b[0;34m.\u001b[0m\u001b[0mcheck_response\u001b[0m\u001b[0;34m(\u001b[0m\u001b[0mresponse\u001b[0m\u001b[0;34m)\u001b[0m\u001b[0;34m\u001b[0m\u001b[0;34m\u001b[0m\u001b[0m\n",
            "\u001b[0;32m/usr/local/lib/python3.6/dist-packages/selenium/webdriver/remote/remote_connection.py\u001b[0m in \u001b[0;36mexecute\u001b[0;34m(self, command, params)\u001b[0m\n\u001b[1;32m    372\u001b[0m         \u001b[0mdata\u001b[0m \u001b[0;34m=\u001b[0m \u001b[0mutils\u001b[0m\u001b[0;34m.\u001b[0m\u001b[0mdump_json\u001b[0m\u001b[0;34m(\u001b[0m\u001b[0mparams\u001b[0m\u001b[0;34m)\u001b[0m\u001b[0;34m\u001b[0m\u001b[0;34m\u001b[0m\u001b[0m\n\u001b[1;32m    373\u001b[0m         \u001b[0murl\u001b[0m \u001b[0;34m=\u001b[0m \u001b[0;34m'%s%s'\u001b[0m \u001b[0;34m%\u001b[0m \u001b[0;34m(\u001b[0m\u001b[0mself\u001b[0m\u001b[0;34m.\u001b[0m\u001b[0m_url\u001b[0m\u001b[0;34m,\u001b[0m \u001b[0mpath\u001b[0m\u001b[0;34m)\u001b[0m\u001b[0;34m\u001b[0m\u001b[0;34m\u001b[0m\u001b[0m\n\u001b[0;32m--> 374\u001b[0;31m         \u001b[0;32mreturn\u001b[0m \u001b[0mself\u001b[0m\u001b[0;34m.\u001b[0m\u001b[0m_request\u001b[0m\u001b[0;34m(\u001b[0m\u001b[0mcommand_info\u001b[0m\u001b[0;34m[\u001b[0m\u001b[0;36m0\u001b[0m\u001b[0;34m]\u001b[0m\u001b[0;34m,\u001b[0m \u001b[0murl\u001b[0m\u001b[0;34m,\u001b[0m \u001b[0mbody\u001b[0m\u001b[0;34m=\u001b[0m\u001b[0mdata\u001b[0m\u001b[0;34m)\u001b[0m\u001b[0;34m\u001b[0m\u001b[0;34m\u001b[0m\u001b[0m\n\u001b[0m\u001b[1;32m    375\u001b[0m \u001b[0;34m\u001b[0m\u001b[0m\n\u001b[1;32m    376\u001b[0m     \u001b[0;32mdef\u001b[0m \u001b[0m_request\u001b[0m\u001b[0;34m(\u001b[0m\u001b[0mself\u001b[0m\u001b[0;34m,\u001b[0m \u001b[0mmethod\u001b[0m\u001b[0;34m,\u001b[0m \u001b[0murl\u001b[0m\u001b[0;34m,\u001b[0m \u001b[0mbody\u001b[0m\u001b[0;34m=\u001b[0m\u001b[0;32mNone\u001b[0m\u001b[0;34m)\u001b[0m\u001b[0;34m:\u001b[0m\u001b[0;34m\u001b[0m\u001b[0;34m\u001b[0m\u001b[0m\n",
            "\u001b[0;32m/usr/local/lib/python3.6/dist-packages/selenium/webdriver/remote/remote_connection.py\u001b[0m in \u001b[0;36m_request\u001b[0;34m(self, method, url, body)\u001b[0m\n\u001b[1;32m    395\u001b[0m \u001b[0;34m\u001b[0m\u001b[0m\n\u001b[1;32m    396\u001b[0m         \u001b[0;32mif\u001b[0m \u001b[0mself\u001b[0m\u001b[0;34m.\u001b[0m\u001b[0mkeep_alive\u001b[0m\u001b[0;34m:\u001b[0m\u001b[0;34m\u001b[0m\u001b[0;34m\u001b[0m\u001b[0m\n\u001b[0;32m--> 397\u001b[0;31m             \u001b[0mresp\u001b[0m \u001b[0;34m=\u001b[0m \u001b[0mself\u001b[0m\u001b[0;34m.\u001b[0m\u001b[0m_conn\u001b[0m\u001b[0;34m.\u001b[0m\u001b[0mrequest\u001b[0m\u001b[0;34m(\u001b[0m\u001b[0mmethod\u001b[0m\u001b[0;34m,\u001b[0m \u001b[0murl\u001b[0m\u001b[0;34m,\u001b[0m \u001b[0mbody\u001b[0m\u001b[0;34m=\u001b[0m\u001b[0mbody\u001b[0m\u001b[0;34m,\u001b[0m \u001b[0mheaders\u001b[0m\u001b[0;34m=\u001b[0m\u001b[0mheaders\u001b[0m\u001b[0;34m)\u001b[0m\u001b[0;34m\u001b[0m\u001b[0;34m\u001b[0m\u001b[0m\n\u001b[0m\u001b[1;32m    398\u001b[0m \u001b[0;34m\u001b[0m\u001b[0m\n\u001b[1;32m    399\u001b[0m             \u001b[0mstatuscode\u001b[0m \u001b[0;34m=\u001b[0m \u001b[0mresp\u001b[0m\u001b[0;34m.\u001b[0m\u001b[0mstatus\u001b[0m\u001b[0;34m\u001b[0m\u001b[0;34m\u001b[0m\u001b[0m\n",
            "\u001b[0;32m/usr/local/lib/python3.6/dist-packages/urllib3/request.py\u001b[0m in \u001b[0;36mrequest\u001b[0;34m(self, method, url, fields, headers, **urlopen_kw)\u001b[0m\n\u001b[1;32m     70\u001b[0m             return self.request_encode_body(method, url, fields=fields,\n\u001b[1;32m     71\u001b[0m                                             \u001b[0mheaders\u001b[0m\u001b[0;34m=\u001b[0m\u001b[0mheaders\u001b[0m\u001b[0;34m,\u001b[0m\u001b[0;34m\u001b[0m\u001b[0;34m\u001b[0m\u001b[0m\n\u001b[0;32m---> 72\u001b[0;31m                                             **urlopen_kw)\n\u001b[0m\u001b[1;32m     73\u001b[0m \u001b[0;34m\u001b[0m\u001b[0m\n\u001b[1;32m     74\u001b[0m     def request_encode_url(self, method, url, fields=None, headers=None,\n",
            "\u001b[0;32m/usr/local/lib/python3.6/dist-packages/urllib3/request.py\u001b[0m in \u001b[0;36mrequest_encode_body\u001b[0;34m(self, method, url, fields, headers, encode_multipart, multipart_boundary, **urlopen_kw)\u001b[0m\n\u001b[1;32m    148\u001b[0m         \u001b[0mextra_kw\u001b[0m\u001b[0;34m.\u001b[0m\u001b[0mupdate\u001b[0m\u001b[0;34m(\u001b[0m\u001b[0murlopen_kw\u001b[0m\u001b[0;34m)\u001b[0m\u001b[0;34m\u001b[0m\u001b[0;34m\u001b[0m\u001b[0m\n\u001b[1;32m    149\u001b[0m \u001b[0;34m\u001b[0m\u001b[0m\n\u001b[0;32m--> 150\u001b[0;31m         \u001b[0;32mreturn\u001b[0m \u001b[0mself\u001b[0m\u001b[0;34m.\u001b[0m\u001b[0murlopen\u001b[0m\u001b[0;34m(\u001b[0m\u001b[0mmethod\u001b[0m\u001b[0;34m,\u001b[0m \u001b[0murl\u001b[0m\u001b[0;34m,\u001b[0m \u001b[0;34m**\u001b[0m\u001b[0mextra_kw\u001b[0m\u001b[0;34m)\u001b[0m\u001b[0;34m\u001b[0m\u001b[0;34m\u001b[0m\u001b[0m\n\u001b[0m",
            "\u001b[0;32m/usr/local/lib/python3.6/dist-packages/urllib3/poolmanager.py\u001b[0m in \u001b[0;36murlopen\u001b[0;34m(self, method, url, redirect, **kw)\u001b[0m\n\u001b[1;32m    322\u001b[0m             \u001b[0mresponse\u001b[0m \u001b[0;34m=\u001b[0m \u001b[0mconn\u001b[0m\u001b[0;34m.\u001b[0m\u001b[0murlopen\u001b[0m\u001b[0;34m(\u001b[0m\u001b[0mmethod\u001b[0m\u001b[0;34m,\u001b[0m \u001b[0murl\u001b[0m\u001b[0;34m,\u001b[0m \u001b[0;34m**\u001b[0m\u001b[0mkw\u001b[0m\u001b[0;34m)\u001b[0m\u001b[0;34m\u001b[0m\u001b[0;34m\u001b[0m\u001b[0m\n\u001b[1;32m    323\u001b[0m         \u001b[0;32melse\u001b[0m\u001b[0;34m:\u001b[0m\u001b[0;34m\u001b[0m\u001b[0;34m\u001b[0m\u001b[0m\n\u001b[0;32m--> 324\u001b[0;31m             \u001b[0mresponse\u001b[0m \u001b[0;34m=\u001b[0m \u001b[0mconn\u001b[0m\u001b[0;34m.\u001b[0m\u001b[0murlopen\u001b[0m\u001b[0;34m(\u001b[0m\u001b[0mmethod\u001b[0m\u001b[0;34m,\u001b[0m \u001b[0mu\u001b[0m\u001b[0;34m.\u001b[0m\u001b[0mrequest_uri\u001b[0m\u001b[0;34m,\u001b[0m \u001b[0;34m**\u001b[0m\u001b[0mkw\u001b[0m\u001b[0;34m)\u001b[0m\u001b[0;34m\u001b[0m\u001b[0;34m\u001b[0m\u001b[0m\n\u001b[0m\u001b[1;32m    325\u001b[0m \u001b[0;34m\u001b[0m\u001b[0m\n\u001b[1;32m    326\u001b[0m         \u001b[0mredirect_location\u001b[0m \u001b[0;34m=\u001b[0m \u001b[0mredirect\u001b[0m \u001b[0;32mand\u001b[0m \u001b[0mresponse\u001b[0m\u001b[0;34m.\u001b[0m\u001b[0mget_redirect_location\u001b[0m\u001b[0;34m(\u001b[0m\u001b[0;34m)\u001b[0m\u001b[0;34m\u001b[0m\u001b[0;34m\u001b[0m\u001b[0m\n",
            "\u001b[0;32m/usr/local/lib/python3.6/dist-packages/urllib3/connectionpool.py\u001b[0m in \u001b[0;36murlopen\u001b[0;34m(self, method, url, body, headers, retries, redirect, assert_same_host, timeout, pool_timeout, release_conn, chunked, body_pos, **response_kw)\u001b[0m\n\u001b[1;32m    598\u001b[0m                                                   \u001b[0mtimeout\u001b[0m\u001b[0;34m=\u001b[0m\u001b[0mtimeout_obj\u001b[0m\u001b[0;34m,\u001b[0m\u001b[0;34m\u001b[0m\u001b[0;34m\u001b[0m\u001b[0m\n\u001b[1;32m    599\u001b[0m                                                   \u001b[0mbody\u001b[0m\u001b[0;34m=\u001b[0m\u001b[0mbody\u001b[0m\u001b[0;34m,\u001b[0m \u001b[0mheaders\u001b[0m\u001b[0;34m=\u001b[0m\u001b[0mheaders\u001b[0m\u001b[0;34m,\u001b[0m\u001b[0;34m\u001b[0m\u001b[0;34m\u001b[0m\u001b[0m\n\u001b[0;32m--> 600\u001b[0;31m                                                   chunked=chunked)\n\u001b[0m\u001b[1;32m    601\u001b[0m \u001b[0;34m\u001b[0m\u001b[0m\n\u001b[1;32m    602\u001b[0m             \u001b[0;31m# If we're going to release the connection in ``finally:``, then\u001b[0m\u001b[0;34m\u001b[0m\u001b[0;34m\u001b[0m\u001b[0;34m\u001b[0m\u001b[0m\n",
            "\u001b[0;32m/usr/local/lib/python3.6/dist-packages/urllib3/connectionpool.py\u001b[0m in \u001b[0;36m_make_request\u001b[0;34m(self, conn, method, url, timeout, chunked, **httplib_request_kw)\u001b[0m\n\u001b[1;32m    378\u001b[0m             \u001b[0;32mexcept\u001b[0m \u001b[0mTypeError\u001b[0m\u001b[0;34m:\u001b[0m  \u001b[0;31m# Python 3\u001b[0m\u001b[0;34m\u001b[0m\u001b[0;34m\u001b[0m\u001b[0m\n\u001b[1;32m    379\u001b[0m                 \u001b[0;32mtry\u001b[0m\u001b[0;34m:\u001b[0m\u001b[0;34m\u001b[0m\u001b[0;34m\u001b[0m\u001b[0m\n\u001b[0;32m--> 380\u001b[0;31m                     \u001b[0mhttplib_response\u001b[0m \u001b[0;34m=\u001b[0m \u001b[0mconn\u001b[0m\u001b[0;34m.\u001b[0m\u001b[0mgetresponse\u001b[0m\u001b[0;34m(\u001b[0m\u001b[0;34m)\u001b[0m\u001b[0;34m\u001b[0m\u001b[0;34m\u001b[0m\u001b[0m\n\u001b[0m\u001b[1;32m    381\u001b[0m                 \u001b[0;32mexcept\u001b[0m \u001b[0mException\u001b[0m \u001b[0;32mas\u001b[0m \u001b[0me\u001b[0m\u001b[0;34m:\u001b[0m\u001b[0;34m\u001b[0m\u001b[0;34m\u001b[0m\u001b[0m\n\u001b[1;32m    382\u001b[0m                     \u001b[0;31m# Remove the TypeError from the exception chain in Python 3;\u001b[0m\u001b[0;34m\u001b[0m\u001b[0;34m\u001b[0m\u001b[0;34m\u001b[0m\u001b[0m\n",
            "\u001b[0;32m/usr/lib/python3.6/http/client.py\u001b[0m in \u001b[0;36mgetresponse\u001b[0;34m(self)\u001b[0m\n\u001b[1;32m   1354\u001b[0m         \u001b[0;32mtry\u001b[0m\u001b[0;34m:\u001b[0m\u001b[0;34m\u001b[0m\u001b[0;34m\u001b[0m\u001b[0m\n\u001b[1;32m   1355\u001b[0m             \u001b[0;32mtry\u001b[0m\u001b[0;34m:\u001b[0m\u001b[0;34m\u001b[0m\u001b[0;34m\u001b[0m\u001b[0m\n\u001b[0;32m-> 1356\u001b[0;31m                 \u001b[0mresponse\u001b[0m\u001b[0;34m.\u001b[0m\u001b[0mbegin\u001b[0m\u001b[0;34m(\u001b[0m\u001b[0;34m)\u001b[0m\u001b[0;34m\u001b[0m\u001b[0;34m\u001b[0m\u001b[0m\n\u001b[0m\u001b[1;32m   1357\u001b[0m             \u001b[0;32mexcept\u001b[0m \u001b[0mConnectionError\u001b[0m\u001b[0;34m:\u001b[0m\u001b[0;34m\u001b[0m\u001b[0;34m\u001b[0m\u001b[0m\n\u001b[1;32m   1358\u001b[0m                 \u001b[0mself\u001b[0m\u001b[0;34m.\u001b[0m\u001b[0mclose\u001b[0m\u001b[0;34m(\u001b[0m\u001b[0;34m)\u001b[0m\u001b[0;34m\u001b[0m\u001b[0;34m\u001b[0m\u001b[0m\n",
            "\u001b[0;32m/usr/lib/python3.6/http/client.py\u001b[0m in \u001b[0;36mbegin\u001b[0;34m(self)\u001b[0m\n\u001b[1;32m    305\u001b[0m         \u001b[0;31m# read until we get a non-100 response\u001b[0m\u001b[0;34m\u001b[0m\u001b[0;34m\u001b[0m\u001b[0;34m\u001b[0m\u001b[0m\n\u001b[1;32m    306\u001b[0m         \u001b[0;32mwhile\u001b[0m \u001b[0;32mTrue\u001b[0m\u001b[0;34m:\u001b[0m\u001b[0;34m\u001b[0m\u001b[0;34m\u001b[0m\u001b[0m\n\u001b[0;32m--> 307\u001b[0;31m             \u001b[0mversion\u001b[0m\u001b[0;34m,\u001b[0m \u001b[0mstatus\u001b[0m\u001b[0;34m,\u001b[0m \u001b[0mreason\u001b[0m \u001b[0;34m=\u001b[0m \u001b[0mself\u001b[0m\u001b[0;34m.\u001b[0m\u001b[0m_read_status\u001b[0m\u001b[0;34m(\u001b[0m\u001b[0;34m)\u001b[0m\u001b[0;34m\u001b[0m\u001b[0;34m\u001b[0m\u001b[0m\n\u001b[0m\u001b[1;32m    308\u001b[0m             \u001b[0;32mif\u001b[0m \u001b[0mstatus\u001b[0m \u001b[0;34m!=\u001b[0m \u001b[0mCONTINUE\u001b[0m\u001b[0;34m:\u001b[0m\u001b[0;34m\u001b[0m\u001b[0;34m\u001b[0m\u001b[0m\n\u001b[1;32m    309\u001b[0m                 \u001b[0;32mbreak\u001b[0m\u001b[0;34m\u001b[0m\u001b[0;34m\u001b[0m\u001b[0m\n",
            "\u001b[0;32m/usr/lib/python3.6/http/client.py\u001b[0m in \u001b[0;36m_read_status\u001b[0;34m(self)\u001b[0m\n\u001b[1;32m    266\u001b[0m \u001b[0;34m\u001b[0m\u001b[0m\n\u001b[1;32m    267\u001b[0m     \u001b[0;32mdef\u001b[0m \u001b[0m_read_status\u001b[0m\u001b[0;34m(\u001b[0m\u001b[0mself\u001b[0m\u001b[0;34m)\u001b[0m\u001b[0;34m:\u001b[0m\u001b[0;34m\u001b[0m\u001b[0;34m\u001b[0m\u001b[0m\n\u001b[0;32m--> 268\u001b[0;31m         \u001b[0mline\u001b[0m \u001b[0;34m=\u001b[0m \u001b[0mstr\u001b[0m\u001b[0;34m(\u001b[0m\u001b[0mself\u001b[0m\u001b[0;34m.\u001b[0m\u001b[0mfp\u001b[0m\u001b[0;34m.\u001b[0m\u001b[0mreadline\u001b[0m\u001b[0;34m(\u001b[0m\u001b[0m_MAXLINE\u001b[0m \u001b[0;34m+\u001b[0m \u001b[0;36m1\u001b[0m\u001b[0;34m)\u001b[0m\u001b[0;34m,\u001b[0m \u001b[0;34m\"iso-8859-1\"\u001b[0m\u001b[0;34m)\u001b[0m\u001b[0;34m\u001b[0m\u001b[0;34m\u001b[0m\u001b[0m\n\u001b[0m\u001b[1;32m    269\u001b[0m         \u001b[0;32mif\u001b[0m \u001b[0mlen\u001b[0m\u001b[0;34m(\u001b[0m\u001b[0mline\u001b[0m\u001b[0;34m)\u001b[0m \u001b[0;34m>\u001b[0m \u001b[0m_MAXLINE\u001b[0m\u001b[0;34m:\u001b[0m\u001b[0;34m\u001b[0m\u001b[0;34m\u001b[0m\u001b[0m\n\u001b[1;32m    270\u001b[0m             \u001b[0;32mraise\u001b[0m \u001b[0mLineTooLong\u001b[0m\u001b[0;34m(\u001b[0m\u001b[0;34m\"status line\"\u001b[0m\u001b[0;34m)\u001b[0m\u001b[0;34m\u001b[0m\u001b[0;34m\u001b[0m\u001b[0m\n",
            "\u001b[0;32m/usr/lib/python3.6/socket.py\u001b[0m in \u001b[0;36mreadinto\u001b[0;34m(self, b)\u001b[0m\n\u001b[1;32m    584\u001b[0m         \u001b[0;32mwhile\u001b[0m \u001b[0;32mTrue\u001b[0m\u001b[0;34m:\u001b[0m\u001b[0;34m\u001b[0m\u001b[0;34m\u001b[0m\u001b[0m\n\u001b[1;32m    585\u001b[0m             \u001b[0;32mtry\u001b[0m\u001b[0;34m:\u001b[0m\u001b[0;34m\u001b[0m\u001b[0;34m\u001b[0m\u001b[0m\n\u001b[0;32m--> 586\u001b[0;31m                 \u001b[0;32mreturn\u001b[0m \u001b[0mself\u001b[0m\u001b[0;34m.\u001b[0m\u001b[0m_sock\u001b[0m\u001b[0;34m.\u001b[0m\u001b[0mrecv_into\u001b[0m\u001b[0;34m(\u001b[0m\u001b[0mb\u001b[0m\u001b[0;34m)\u001b[0m\u001b[0;34m\u001b[0m\u001b[0;34m\u001b[0m\u001b[0m\n\u001b[0m\u001b[1;32m    587\u001b[0m             \u001b[0;32mexcept\u001b[0m \u001b[0mtimeout\u001b[0m\u001b[0;34m:\u001b[0m\u001b[0;34m\u001b[0m\u001b[0;34m\u001b[0m\u001b[0m\n\u001b[1;32m    588\u001b[0m                 \u001b[0mself\u001b[0m\u001b[0;34m.\u001b[0m\u001b[0m_timeout_occurred\u001b[0m \u001b[0;34m=\u001b[0m \u001b[0;32mTrue\u001b[0m\u001b[0;34m\u001b[0m\u001b[0;34m\u001b[0m\u001b[0m\n",
            "\u001b[0;31mKeyboardInterrupt\u001b[0m: "
          ]
        }
      ]
    },
    {
      "cell_type": "markdown",
      "metadata": {
        "id": "-3O_RfqA4e9u"
      },
      "source": [
        "Below steps prepare output file from results recieved of counts from portals for positions and write to excel file."
      ]
    },
    {
      "cell_type": "code",
      "metadata": {
        "id": "jtg9XvDf9Sw7",
        "outputId": "e2dd9aa0-f057-4b0f-fe4e-ff4078cd19f3",
        "colab": {
          "base_uri": "https://localhost:8080/",
          "height": 70
        }
      },
      "source": [
        "df_positions = pd.DataFrame(indeed_positions_list, index=search_terms_positions.iloc[:, 0], columns=['Indeed'])\n",
        "df_positions.rename(index={'':'Data_positions'},inplace=True)\n",
        "\n",
        "df_positions_url = pd.DataFrame(indeed_positions_list_url, index=search_terms_positions.iloc[:, 0], columns=['Indeed'])\n",
        "df_positions_url.rename(index={'':'Data_positions url'},inplace=True)\n",
        "\n",
        "df_positions['Gartner'] = gartner_positions_list\n",
        "df_positions['Dice'] = dice_positions_list\n",
        "df_positions['Monster'] = monster_positions_list\n",
        "df_positions['SimplyHired'] = simply_positions_list\n",
        "#df_positions['Glassdoor'] = glassdoor_positions_list\n",
        "df_positions['flexjobs'] = flexjobs_positions_list\n",
        "df_positions['CareerBuilder'] = careerbuilderjobs_positions_list\n",
        "df_positions['findJobs'] = findjobs_positions_list\n",
        "df_positions['UsjobsGov'] = usjobsgov_positions_list\n",
        "df_positions['Date'] = date.today()\n",
        "new_order = [-1,0,1,2,3,4,5,6,7,8]\n",
        "df_positions = df_positions[df_positions.columns[new_order]]\n",
        "\n",
        "\n",
        "df_positions_url['Gartner'] = gartner_positions_list_url\n",
        "df_positions_url['Dice'] = dice_positions_list_url\n",
        "df_positions_url['Monster'] = monster_positions_list_url\n",
        "df_positions_url['SimplyHired'] = simply_positions_list_url\n",
        "#df_positions_url['Glassdoor'] = glassdoor_positions_list\n",
        "df_positions_url['flexjobs'] = flexjobs_positions_list_url\n",
        "df_positions_url['CareerBuilder'] = careerbuilderjobs_positions_list_url\n",
        "df_positions_url['Usjobs'] = findjobs_positions_list_url\n",
        "df_positions_url['UsjobsGov'] = usjobsgov_positions_list_url\n",
        "df_positions_url['Date'] = date.today()\n",
        "df_positions_url = df_positions_url[df_positions_url.columns[new_order]]\n",
        "\n",
        "with pd.ExcelWriter('PortalsCountsForCyberSec.xlsx',mode='a') as writer:  \n",
        "    df_positions.to_excel(writer, sheet_name='CyberSecurityPositionsAnalysis')\n",
        "with pd.ExcelWriter('PortalsCountsForCyberSecURL.xlsx',mode='a') as writer:  \n",
        "    df_positions_url.to_excel(writer, sheet_name='CyberSecurityPositionsAnalysisUrl')\n",
        "\n"
      ],
      "execution_count": null,
      "outputs": [
        {
          "output_type": "stream",
          "text": [
            "/usr/local/lib/python3.6/dist-packages/openpyxl/workbook/child.py:102: UserWarning: Title is more than 31 characters. Some applications may not be able to read the file\n",
            "  warnings.warn(\"Title is more than 31 characters. Some applications may not be able to read the file\")\n"
          ],
          "name": "stderr"
        }
      ]
    },
    {
      "cell_type": "code",
      "metadata": {
        "id": "L2rbA3DWo0jq"
      },
      "source": [
        "df_positions"
      ],
      "execution_count": null,
      "outputs": []
    },
    {
      "cell_type": "markdown",
      "metadata": {
        "id": "lVrOn_iE5vin"
      },
      "source": [
        "Below steps executes functions against job portals for Badges And Certificates as read from input file."
      ]
    },
    {
      "cell_type": "code",
      "metadata": {
        "id": "BkarLwTwHQsp"
      },
      "source": [
        "careerbuilder_BC_listOflist = careerbuilderjobs_analysis(\"\",search_terms_BC)\n",
        "careerbuilder_BC_list=careerbuilder_BC_listOflist[0]\n",
        "careerbuilder_BC_list_url = careerbuilder_BC_listOflist[1]\n",
        "\n",
        "flexjobs_BC_listOflist = flexjobs_analysis(\"\",search_terms_BC)\n",
        "flexjobs_BC_list=flexjobs_BC_listOflist[0]\n",
        "flexjobs_BC_list_url = flexjobs_BC_listOflist[1]\n",
        "\n",
        "indeed_BC_listOflist = indeed_analysis(\"\",search_terms_BC)\n",
        "indeed_BC_list=indeed_BC_listOflist[0]\n",
        "indeed_BC_list_url = indeed_BC_listOflist[1]\n",
        "\n",
        "indeed_BC_listOflist = indeed_analysis(\"\",search_terms_BC)\n",
        "indeed_BC_list=indeed_BC_listOflist[0]\n",
        "indeed_BC_list_url = indeed_BC_listOflist[1]\n",
        "\n",
        "monster_BC_listOflist = monster_analysis(\"\",search_terms_BC)    \n",
        "monster_BC_list=monster_BC_listOflist[0]\n",
        "monster_BC_list_url = monster_BC_listOflist[1]\n",
        "\n",
        "gartner_BC_listOflist = gartner_analysis(\"\",search_terms_BC)    \n",
        "gartner_BC_list=gartner_BC_listOflist[0]\n",
        "gartner_BC_list_url = gartner_BC_listOflist[1]\n",
        "\n",
        "simply_BC_listOflist = simplyhired_analysis(\"\",search_terms_BC)    \n",
        "simply_BC_list=simply_BC_listOflist[0]\n",
        "simply_BC_list_url = simply_BC_listOflist[1]\n",
        "\n",
        "dice_BC_listOflist = dice_analysis(\"\",search_terms_BC)    \n",
        "dice_BC_list=dice_BC_listOflist[0]\n",
        "dice_BC_list_url = dice_BC_listOflist[1]\n",
        "\n",
        "findjobs_BC_listOflist = findjobs_analysis(\"\",search_terms_BC)    \n",
        "findjobs_BC_list=findjobs_BC_listOflist[0]\n",
        "findjobs_BC_list_url = findjobs_BC_listOflist[1]\n",
        "\n",
        "usjobsgov_BC_listOflist = usjobsgov_analysis(\"\",search_terms_BC)    \n",
        "usjobsgov_BC_list=usjobsgov_BC_listOflist[0]\n",
        "usjobsgov_BC_list_url = usjobsgov_BC_listOflist[1]\n"
      ],
      "execution_count": null,
      "outputs": []
    },
    {
      "cell_type": "markdown",
      "metadata": {
        "id": "bkTLQuDq-We4"
      },
      "source": [
        "Below steps prepare output file from results recieved of counts from portals for Badegs and certificates and write to excel file."
      ]
    },
    {
      "cell_type": "code",
      "metadata": {
        "id": "Cn_0AGaW9SkQ",
        "outputId": "824e13de-8290-4fa5-dcf4-a4eed0473e1f",
        "colab": {
          "base_uri": "https://localhost:8080/",
          "height": 70
        }
      },
      "source": [
        "df_BC = pd.DataFrame(indeed_BC_list, index=search_terms_BC.iloc[:, 0], columns=['Indeed '])\n",
        "\n",
        "df_BC.rename(index={'':'Data_BC'},inplace=True)\n",
        "\n",
        "df_BC_url = pd.DataFrame(indeed_BC_list_url, index=search_terms_BC.iloc[:, 0], columns=['Indeed '])\n",
        "\n",
        "df_BC_url.rename(index={'':'Data_BC_url'},inplace=True)\n",
        "\n",
        "df_BC['Dice'] = dice_BC_list\n",
        "df_BC['Gartner'] = gartner_BC_list\n",
        "df_BC['Monster'] = monster_BC_list\n",
        "df_BC['SimplyHired'] = simply_BC_list\n",
        "#df_BC['Glassdoor'] = glassdoor_BC_list\n",
        "df_BC['flexjobs'] = flexjobs_BC_list\n",
        "df_BC['CareerBuilder'] = careerbuilder_BC_list\n",
        "df_BC['findJobs'] = findjobs_BC_list\n",
        "df_BC['Usjobs'] = usjobsgov_BC_list\n",
        "df_BC['Date'] = date.today()\n",
        "new_order = [-1,0,1,2,3,4,5,6,7,8]\n",
        "df_BC = df_BC[df_BC.columns[new_order]]\n",
        "\n",
        "df_BC_url['Gartner'] = gartner_BC_list_url\n",
        "df_BC_url['Dice'] = dice_BC_list_url\n",
        "df_BC_url['Monster'] = monster_BC_list_url\n",
        "df_BC_url['SimplyHired'] = simply_BC_list_url\n",
        "#df_BC_url['Glassdoor'] = glassdoor_BC_list\n",
        "df_BC_url['flexjobs'] = flexjobs_BC_list_url\n",
        "df_BC_url['CareerBuilder'] = careerbuilder_BC_list_url\n",
        "df_BC_url['findJobs'] = findjobs_BC_list_url\n",
        "df_BC_url['Usjobs'] = usjobsgov_BC_list_url\n",
        "df_BC_url['Date'] = date.today()\n",
        "df_BC_url = df_BC_url[df_BC_url.columns[new_order]]\n",
        "\n",
        "with pd.ExcelWriter('PortalsCountsForCyberSec.xlsx',mode='a') as writer:  \n",
        "    df_BC.to_excel(writer, sheet_name='CyberSecurityBCAnalysis')\n",
        "\n",
        "with pd.ExcelWriter('PortalsCountsForCyberSecURL.xlsx',mode='a') as writer:  \n",
        "    df_BC_url.to_excel(writer, sheet_name='CyberSecurityBCAnalysisUrl')"
      ],
      "execution_count": null,
      "outputs": [
        {
          "output_type": "stream",
          "text": [
            "/usr/local/lib/python3.6/dist-packages/openpyxl/workbook/child.py:102: UserWarning: Title is more than 31 characters. Some applications may not be able to read the file\n",
            "  warnings.warn(\"Title is more than 31 characters. Some applications may not be able to read the file\")\n"
          ],
          "name": "stderr"
        }
      ]
    },
    {
      "cell_type": "markdown",
      "metadata": {
        "id": "ri3QiuAqPEDu"
      },
      "source": [
        "Download xlsx in computer"
      ]
    },
    {
      "cell_type": "code",
      "metadata": {
        "id": "8kn1Xa5LgT-H",
        "outputId": "e8157405-bcc8-42c9-f171-181da4689d6d",
        "colab": {
          "base_uri": "https://localhost:8080/",
          "height": 17
        }
      },
      "source": [
        "from google.colab import files\n",
        "files.download('PortalsCountsForCyberSec.xlsx')\n",
        "\n",
        "from google.colab import files\n",
        "files.download('PortalsCountsForCyberSecURL.xlsx')"
      ],
      "execution_count": null,
      "outputs": [
        {
          "output_type": "display_data",
          "data": {
            "application/javascript": [
              "\n",
              "    async function download(id, filename, size) {\n",
              "      if (!google.colab.kernel.accessAllowed) {\n",
              "        return;\n",
              "      }\n",
              "      const div = document.createElement('div');\n",
              "      const label = document.createElement('label');\n",
              "      label.textContent = `Downloading \"${filename}\": `;\n",
              "      div.appendChild(label);\n",
              "      const progress = document.createElement('progress');\n",
              "      progress.max = size;\n",
              "      div.appendChild(progress);\n",
              "      document.body.appendChild(div);\n",
              "\n",
              "      const buffers = [];\n",
              "      let downloaded = 0;\n",
              "\n",
              "      const channel = await google.colab.kernel.comms.open(id);\n",
              "      // Send a message to notify the kernel that we're ready.\n",
              "      channel.send({})\n",
              "\n",
              "      for await (const message of channel.messages) {\n",
              "        // Send a message to notify the kernel that we're ready.\n",
              "        channel.send({})\n",
              "        if (message.buffers) {\n",
              "          for (const buffer of message.buffers) {\n",
              "            buffers.push(buffer);\n",
              "            downloaded += buffer.byteLength;\n",
              "            progress.value = downloaded;\n",
              "          }\n",
              "        }\n",
              "      }\n",
              "      const blob = new Blob(buffers, {type: 'application/binary'});\n",
              "      const a = document.createElement('a');\n",
              "      a.href = window.URL.createObjectURL(blob);\n",
              "      a.download = filename;\n",
              "      div.appendChild(a);\n",
              "      a.click();\n",
              "      div.remove();\n",
              "    }\n",
              "  "
            ],
            "text/plain": [
              "<IPython.core.display.Javascript object>"
            ]
          },
          "metadata": {
            "tags": []
          }
        },
        {
          "output_type": "display_data",
          "data": {
            "application/javascript": [
              "download(\"download_5dba91f3-6495-4b48-9c6b-9f5121702248\", \"PortalsCountsForCyberSec.xlsx\", 14941)"
            ],
            "text/plain": [
              "<IPython.core.display.Javascript object>"
            ]
          },
          "metadata": {
            "tags": []
          }
        },
        {
          "output_type": "display_data",
          "data": {
            "application/javascript": [
              "\n",
              "    async function download(id, filename, size) {\n",
              "      if (!google.colab.kernel.accessAllowed) {\n",
              "        return;\n",
              "      }\n",
              "      const div = document.createElement('div');\n",
              "      const label = document.createElement('label');\n",
              "      label.textContent = `Downloading \"${filename}\": `;\n",
              "      div.appendChild(label);\n",
              "      const progress = document.createElement('progress');\n",
              "      progress.max = size;\n",
              "      div.appendChild(progress);\n",
              "      document.body.appendChild(div);\n",
              "\n",
              "      const buffers = [];\n",
              "      let downloaded = 0;\n",
              "\n",
              "      const channel = await google.colab.kernel.comms.open(id);\n",
              "      // Send a message to notify the kernel that we're ready.\n",
              "      channel.send({})\n",
              "\n",
              "      for await (const message of channel.messages) {\n",
              "        // Send a message to notify the kernel that we're ready.\n",
              "        channel.send({})\n",
              "        if (message.buffers) {\n",
              "          for (const buffer of message.buffers) {\n",
              "            buffers.push(buffer);\n",
              "            downloaded += buffer.byteLength;\n",
              "            progress.value = downloaded;\n",
              "          }\n",
              "        }\n",
              "      }\n",
              "      const blob = new Blob(buffers, {type: 'application/binary'});\n",
              "      const a = document.createElement('a');\n",
              "      a.href = window.URL.createObjectURL(blob);\n",
              "      a.download = filename;\n",
              "      div.appendChild(a);\n",
              "      a.click();\n",
              "      div.remove();\n",
              "    }\n",
              "  "
            ],
            "text/plain": [
              "<IPython.core.display.Javascript object>"
            ]
          },
          "metadata": {
            "tags": []
          }
        },
        {
          "output_type": "display_data",
          "data": {
            "application/javascript": [
              "download(\"download_41a539d5-390b-448b-93a3-c5f1e5eac25e\", \"PortalsCountsForCyberSecURL.xlsx\", 17398)"
            ],
            "text/plain": [
              "<IPython.core.display.Javascript object>"
            ]
          },
          "metadata": {
            "tags": []
          }
        }
      ]
    }
  ]
}
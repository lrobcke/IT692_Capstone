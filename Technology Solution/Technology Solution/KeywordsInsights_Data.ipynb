{
  "nbformat": 4,
  "nbformat_minor": 0,
  "metadata": {
    "colab": {
      "name": "KeywordsInsights_Data.ipynb",
      "provenance": [],
      "collapsed_sections": []
    },
    "kernelspec": {
      "name": "python3",
      "display_name": "Python 3"
    }
  },
  "cells": [
    {
      "cell_type": "markdown",
      "metadata": {
        "id": "YSDHB6XWUfk_"
      },
      "source": [
        "The workforce in new emerging technologies are using\n",
        "disruptive approaches to win the best jobs, ones with high pay\n",
        "and with good work life balance. This utility will provide real time analytics on how innovative the workforce is when trying to show that they are\n",
        "right for the job, especially in the brand new subjects.This real time analystics solution will bring insights on most sought after skills, badges and certifications in the field of Software Engineering, Cybersecurity and Data\n",
        "Science and showcase real time analytic of similar skills from\n",
        "leading job portals focusing on what measures of talent are\n",
        "highly valued by the tech industry today.\n",
        "\n",
        "\n",
        "\n"
      ]
    },
    {
      "cell_type": "markdown",
      "metadata": {
        "id": "xtcfJgZE7Uvt"
      },
      "source": [
        "\n",
        "\n",
        "> STEPS\n",
        "\n",
        "---\n",
        "\n",
        "\n",
        "\n",
        "\n",
        "\n",
        "\n"
      ]
    },
    {
      "cell_type": "markdown",
      "metadata": {
        "id": "2FMcmVly7XGi"
      },
      "source": [
        "Below step will request you to upload keywords file named \"PaceKeywords.xlsx\" from your machine. Make sure that you have three tabs in excel named \"Data_Skill\",\"Data_Positions\",\"Data_BadgesAndCert\""
      ]
    },
    {
      "cell_type": "code",
      "metadata": {
        "id": "sIGQblS7qJTd",
        "outputId": "2933cb67-d381-41e7-c19d-b8a3e2b97ac2",
        "colab": {
          "resources": {
            "http://localhost:8080/nbextensions/google.colab/files.js": {
              "data": "Ly8gQ29weXJpZ2h0IDIwMTcgR29vZ2xlIExMQwovLwovLyBMaWNlbnNlZCB1bmRlciB0aGUgQXBhY2hlIExpY2Vuc2UsIFZlcnNpb24gMi4wICh0aGUgIkxpY2Vuc2UiKTsKLy8geW91IG1heSBub3QgdXNlIHRoaXMgZmlsZSBleGNlcHQgaW4gY29tcGxpYW5jZSB3aXRoIHRoZSBMaWNlbnNlLgovLyBZb3UgbWF5IG9idGFpbiBhIGNvcHkgb2YgdGhlIExpY2Vuc2UgYXQKLy8KLy8gICAgICBodHRwOi8vd3d3LmFwYWNoZS5vcmcvbGljZW5zZXMvTElDRU5TRS0yLjAKLy8KLy8gVW5sZXNzIHJlcXVpcmVkIGJ5IGFwcGxpY2FibGUgbGF3IG9yIGFncmVlZCB0byBpbiB3cml0aW5nLCBzb2Z0d2FyZQovLyBkaXN0cmlidXRlZCB1bmRlciB0aGUgTGljZW5zZSBpcyBkaXN0cmlidXRlZCBvbiBhbiAiQVMgSVMiIEJBU0lTLAovLyBXSVRIT1VUIFdBUlJBTlRJRVMgT1IgQ09ORElUSU9OUyBPRiBBTlkgS0lORCwgZWl0aGVyIGV4cHJlc3Mgb3IgaW1wbGllZC4KLy8gU2VlIHRoZSBMaWNlbnNlIGZvciB0aGUgc3BlY2lmaWMgbGFuZ3VhZ2UgZ292ZXJuaW5nIHBlcm1pc3Npb25zIGFuZAovLyBsaW1pdGF0aW9ucyB1bmRlciB0aGUgTGljZW5zZS4KCi8qKgogKiBAZmlsZW92ZXJ2aWV3IEhlbHBlcnMgZm9yIGdvb2dsZS5jb2xhYiBQeXRob24gbW9kdWxlLgogKi8KKGZ1bmN0aW9uKHNjb3BlKSB7CmZ1bmN0aW9uIHNwYW4odGV4dCwgc3R5bGVBdHRyaWJ1dGVzID0ge30pIHsKICBjb25zdCBlbGVtZW50ID0gZG9jdW1lbnQuY3JlYXRlRWxlbWVudCgnc3BhbicpOwogIGVsZW1lbnQudGV4dENvbnRlbnQgPSB0ZXh0OwogIGZvciAoY29uc3Qga2V5IG9mIE9iamVjdC5rZXlzKHN0eWxlQXR0cmlidXRlcykpIHsKICAgIGVsZW1lbnQuc3R5bGVba2V5XSA9IHN0eWxlQXR0cmlidXRlc1trZXldOwogIH0KICByZXR1cm4gZWxlbWVudDsKfQoKLy8gTWF4IG51bWJlciBvZiBieXRlcyB3aGljaCB3aWxsIGJlIHVwbG9hZGVkIGF0IGEgdGltZS4KY29uc3QgTUFYX1BBWUxPQURfU0laRSA9IDEwMCAqIDEwMjQ7CgpmdW5jdGlvbiBfdXBsb2FkRmlsZXMoaW5wdXRJZCwgb3V0cHV0SWQpIHsKICBjb25zdCBzdGVwcyA9IHVwbG9hZEZpbGVzU3RlcChpbnB1dElkLCBvdXRwdXRJZCk7CiAgY29uc3Qgb3V0cHV0RWxlbWVudCA9IGRvY3VtZW50LmdldEVsZW1lbnRCeUlkKG91dHB1dElkKTsKICAvLyBDYWNoZSBzdGVwcyBvbiB0aGUgb3V0cHV0RWxlbWVudCB0byBtYWtlIGl0IGF2YWlsYWJsZSBmb3IgdGhlIG5leHQgY2FsbAogIC8vIHRvIHVwbG9hZEZpbGVzQ29udGludWUgZnJvbSBQeXRob24uCiAgb3V0cHV0RWxlbWVudC5zdGVwcyA9IHN0ZXBzOwoKICByZXR1cm4gX3VwbG9hZEZpbGVzQ29udGludWUob3V0cHV0SWQpOwp9CgovLyBUaGlzIGlzIHJvdWdobHkgYW4gYXN5bmMgZ2VuZXJhdG9yIChub3Qgc3VwcG9ydGVkIGluIHRoZSBicm93c2VyIHlldCksCi8vIHdoZXJlIHRoZXJlIGFyZSBtdWx0aXBsZSBhc3luY2hyb25vdXMgc3RlcHMgYW5kIHRoZSBQeXRob24gc2lkZSBpcyBnb2luZwovLyB0byBwb2xsIGZvciBjb21wbGV0aW9uIG9mIGVhY2ggc3RlcC4KLy8gVGhpcyB1c2VzIGEgUHJvbWlzZSB0byBibG9jayB0aGUgcHl0aG9uIHNpZGUgb24gY29tcGxldGlvbiBvZiBlYWNoIHN0ZXAsCi8vIHRoZW4gcGFzc2VzIHRoZSByZXN1bHQgb2YgdGhlIHByZXZpb3VzIHN0ZXAgYXMgdGhlIGlucHV0IHRvIHRoZSBuZXh0IHN0ZXAuCmZ1bmN0aW9uIF91cGxvYWRGaWxlc0NvbnRpbnVlKG91dHB1dElkKSB7CiAgY29uc3Qgb3V0cHV0RWxlbWVudCA9IGRvY3VtZW50LmdldEVsZW1lbnRCeUlkKG91dHB1dElkKTsKICBjb25zdCBzdGVwcyA9IG91dHB1dEVsZW1lbnQuc3RlcHM7CgogIGNvbnN0IG5leHQgPSBzdGVwcy5uZXh0KG91dHB1dEVsZW1lbnQubGFzdFByb21pc2VWYWx1ZSk7CiAgcmV0dXJuIFByb21pc2UucmVzb2x2ZShuZXh0LnZhbHVlLnByb21pc2UpLnRoZW4oKHZhbHVlKSA9PiB7CiAgICAvLyBDYWNoZSB0aGUgbGFzdCBwcm9taXNlIHZhbHVlIHRvIG1ha2UgaXQgYXZhaWxhYmxlIHRvIHRoZSBuZXh0CiAgICAvLyBzdGVwIG9mIHRoZSBnZW5lcmF0b3IuCiAgICBvdXRwdXRFbGVtZW50Lmxhc3RQcm9taXNlVmFsdWUgPSB2YWx1ZTsKICAgIHJldHVybiBuZXh0LnZhbHVlLnJlc3BvbnNlOwogIH0pOwp9CgovKioKICogR2VuZXJhdG9yIGZ1bmN0aW9uIHdoaWNoIGlzIGNhbGxlZCBiZXR3ZWVuIGVhY2ggYXN5bmMgc3RlcCBvZiB0aGUgdXBsb2FkCiAqIHByb2Nlc3MuCiAqIEBwYXJhbSB7c3RyaW5nfSBpbnB1dElkIEVsZW1lbnQgSUQgb2YgdGhlIGlucHV0IGZpbGUgcGlja2VyIGVsZW1lbnQuCiAqIEBwYXJhbSB7c3RyaW5nfSBvdXRwdXRJZCBFbGVtZW50IElEIG9mIHRoZSBvdXRwdXQgZGlzcGxheS4KICogQHJldHVybiB7IUl0ZXJhYmxlPCFPYmplY3Q+fSBJdGVyYWJsZSBvZiBuZXh0IHN0ZXBzLgogKi8KZnVuY3Rpb24qIHVwbG9hZEZpbGVzU3RlcChpbnB1dElkLCBvdXRwdXRJZCkgewogIGNvbnN0IGlucHV0RWxlbWVudCA9IGRvY3VtZW50LmdldEVsZW1lbnRCeUlkKGlucHV0SWQpOwogIGlucHV0RWxlbWVudC5kaXNhYmxlZCA9IGZhbHNlOwoKICBjb25zdCBvdXRwdXRFbGVtZW50ID0gZG9jdW1lbnQuZ2V0RWxlbWVudEJ5SWQob3V0cHV0SWQpOwogIG91dHB1dEVsZW1lbnQuaW5uZXJIVE1MID0gJyc7CgogIGNvbnN0IHBpY2tlZFByb21pc2UgPSBuZXcgUHJvbWlzZSgocmVzb2x2ZSkgPT4gewogICAgaW5wdXRFbGVtZW50LmFkZEV2ZW50TGlzdGVuZXIoJ2NoYW5nZScsIChlKSA9PiB7CiAgICAgIHJlc29sdmUoZS50YXJnZXQuZmlsZXMpOwogICAgfSk7CiAgfSk7CgogIGNvbnN0IGNhbmNlbCA9IGRvY3VtZW50LmNyZWF0ZUVsZW1lbnQoJ2J1dHRvbicpOwogIGlucHV0RWxlbWVudC5wYXJlbnRFbGVtZW50LmFwcGVuZENoaWxkKGNhbmNlbCk7CiAgY2FuY2VsLnRleHRDb250ZW50ID0gJ0NhbmNlbCB1cGxvYWQnOwogIGNvbnN0IGNhbmNlbFByb21pc2UgPSBuZXcgUHJvbWlzZSgocmVzb2x2ZSkgPT4gewogICAgY2FuY2VsLm9uY2xpY2sgPSAoKSA9PiB7CiAgICAgIHJlc29sdmUobnVsbCk7CiAgICB9OwogIH0pOwoKICAvLyBXYWl0IGZvciB0aGUgdXNlciB0byBwaWNrIHRoZSBmaWxlcy4KICBjb25zdCBmaWxlcyA9IHlpZWxkIHsKICAgIHByb21pc2U6IFByb21pc2UucmFjZShbcGlja2VkUHJvbWlzZSwgY2FuY2VsUHJvbWlzZV0pLAogICAgcmVzcG9uc2U6IHsKICAgICAgYWN0aW9uOiAnc3RhcnRpbmcnLAogICAgfQogIH07CgogIGNhbmNlbC5yZW1vdmUoKTsKCiAgLy8gRGlzYWJsZSB0aGUgaW5wdXQgZWxlbWVudCBzaW5jZSBmdXJ0aGVyIHBpY2tzIGFyZSBub3QgYWxsb3dlZC4KICBpbnB1dEVsZW1lbnQuZGlzYWJsZWQgPSB0cnVlOwoKICBpZiAoIWZpbGVzKSB7CiAgICByZXR1cm4gewogICAgICByZXNwb25zZTogewogICAgICAgIGFjdGlvbjogJ2NvbXBsZXRlJywKICAgICAgfQogICAgfTsKICB9CgogIGZvciAoY29uc3QgZmlsZSBvZiBmaWxlcykgewogICAgY29uc3QgbGkgPSBkb2N1bWVudC5jcmVhdGVFbGVtZW50KCdsaScpOwogICAgbGkuYXBwZW5kKHNwYW4oZmlsZS5uYW1lLCB7Zm9udFdlaWdodDogJ2JvbGQnfSkpOwogICAgbGkuYXBwZW5kKHNwYW4oCiAgICAgICAgYCgke2ZpbGUudHlwZSB8fCAnbi9hJ30pIC0gJHtmaWxlLnNpemV9IGJ5dGVzLCBgICsKICAgICAgICBgbGFzdCBtb2RpZmllZDogJHsKICAgICAgICAgICAgZmlsZS5sYXN0TW9kaWZpZWREYXRlID8gZmlsZS5sYXN0TW9kaWZpZWREYXRlLnRvTG9jYWxlRGF0ZVN0cmluZygpIDoKICAgICAgICAgICAgICAgICAgICAgICAgICAgICAgICAgICAgJ24vYSd9IC0gYCkpOwogICAgY29uc3QgcGVyY2VudCA9IHNwYW4oJzAlIGRvbmUnKTsKICAgIGxpLmFwcGVuZENoaWxkKHBlcmNlbnQpOwoKICAgIG91dHB1dEVsZW1lbnQuYXBwZW5kQ2hpbGQobGkpOwoKICAgIGNvbnN0IGZpbGVEYXRhUHJvbWlzZSA9IG5ldyBQcm9taXNlKChyZXNvbHZlKSA9PiB7CiAgICAgIGNvbnN0IHJlYWRlciA9IG5ldyBGaWxlUmVhZGVyKCk7CiAgICAgIHJlYWRlci5vbmxvYWQgPSAoZSkgPT4gewogICAgICAgIHJlc29sdmUoZS50YXJnZXQucmVzdWx0KTsKICAgICAgfTsKICAgICAgcmVhZGVyLnJlYWRBc0FycmF5QnVmZmVyKGZpbGUpOwogICAgfSk7CiAgICAvLyBXYWl0IGZvciB0aGUgZGF0YSB0byBiZSByZWFkeS4KICAgIGxldCBmaWxlRGF0YSA9IHlpZWxkIHsKICAgICAgcHJvbWlzZTogZmlsZURhdGFQcm9taXNlLAogICAgICByZXNwb25zZTogewogICAgICAgIGFjdGlvbjogJ2NvbnRpbnVlJywKICAgICAgfQogICAgfTsKCiAgICAvLyBVc2UgYSBjaHVua2VkIHNlbmRpbmcgdG8gYXZvaWQgbWVzc2FnZSBzaXplIGxpbWl0cy4gU2VlIGIvNjIxMTU2NjAuCiAgICBsZXQgcG9zaXRpb24gPSAwOwogICAgd2hpbGUgKHBvc2l0aW9uIDwgZmlsZURhdGEuYnl0ZUxlbmd0aCkgewogICAgICBjb25zdCBsZW5ndGggPSBNYXRoLm1pbihmaWxlRGF0YS5ieXRlTGVuZ3RoIC0gcG9zaXRpb24sIE1BWF9QQVlMT0FEX1NJWkUpOwogICAgICBjb25zdCBjaHVuayA9IG5ldyBVaW50OEFycmF5KGZpbGVEYXRhLCBwb3NpdGlvbiwgbGVuZ3RoKTsKICAgICAgcG9zaXRpb24gKz0gbGVuZ3RoOwoKICAgICAgY29uc3QgYmFzZTY0ID0gYnRvYShTdHJpbmcuZnJvbUNoYXJDb2RlLmFwcGx5KG51bGwsIGNodW5rKSk7CiAgICAgIHlpZWxkIHsKICAgICAgICByZXNwb25zZTogewogICAgICAgICAgYWN0aW9uOiAnYXBwZW5kJywKICAgICAgICAgIGZpbGU6IGZpbGUubmFtZSwKICAgICAgICAgIGRhdGE6IGJhc2U2NCwKICAgICAgICB9LAogICAgICB9OwogICAgICBwZXJjZW50LnRleHRDb250ZW50ID0KICAgICAgICAgIGAke01hdGgucm91bmQoKHBvc2l0aW9uIC8gZmlsZURhdGEuYnl0ZUxlbmd0aCkgKiAxMDApfSUgZG9uZWA7CiAgICB9CiAgfQoKICAvLyBBbGwgZG9uZS4KICB5aWVsZCB7CiAgICByZXNwb25zZTogewogICAgICBhY3Rpb246ICdjb21wbGV0ZScsCiAgICB9CiAgfTsKfQoKc2NvcGUuZ29vZ2xlID0gc2NvcGUuZ29vZ2xlIHx8IHt9OwpzY29wZS5nb29nbGUuY29sYWIgPSBzY29wZS5nb29nbGUuY29sYWIgfHwge307CnNjb3BlLmdvb2dsZS5jb2xhYi5fZmlsZXMgPSB7CiAgX3VwbG9hZEZpbGVzLAogIF91cGxvYWRGaWxlc0NvbnRpbnVlLAp9Owp9KShzZWxmKTsK",
              "ok": true,
              "headers": [
                [
                  "content-type",
                  "application/javascript"
                ]
              ],
              "status": 200,
              "status_text": ""
            }
          },
          "base_uri": "https://localhost:8080/",
          "height": 89
        }
      },
      "source": [
        "from google.colab import files\n",
        "!rm PaceKeywords.xlsx\n",
        "uploaded = files.upload()"
      ],
      "execution_count": null,
      "outputs": [
        {
          "output_type": "stream",
          "text": [
            "rm: cannot remove 'PaceKeywords.xlsx': No such file or directory\n"
          ],
          "name": "stdout"
        },
        {
          "output_type": "display_data",
          "data": {
            "text/html": [
              "\n",
              "     <input type=\"file\" id=\"files-09c4b618-4918-4236-b30a-81c922475f9a\" name=\"files[]\" multiple disabled\n",
              "        style=\"border:none\" />\n",
              "     <output id=\"result-09c4b618-4918-4236-b30a-81c922475f9a\">\n",
              "      Upload widget is only available when the cell has been executed in the\n",
              "      current browser session. Please rerun this cell to enable.\n",
              "      </output>\n",
              "      <script src=\"/nbextensions/google.colab/files.js\"></script> "
            ],
            "text/plain": [
              "<IPython.core.display.HTML object>"
            ]
          },
          "metadata": {
            "tags": []
          }
        },
        {
          "output_type": "stream",
          "text": [
            "Saving PaceKeywords.xlsx to PaceKeywords.xlsx\n"
          ],
          "name": "stdout"
        }
      ]
    },
    {
      "cell_type": "markdown",
      "metadata": {
        "id": "8_rGzulJ7k_c"
      },
      "source": [
        "Prerequisite: Below steps installs Selenium , imports python libraries and set up chrome driver for utility "
      ]
    },
    {
      "cell_type": "code",
      "metadata": {
        "id": "IfZ2g34nc0Fv",
        "outputId": "1d2ce737-6433-4380-9548-ae632d029e72",
        "colab": {
          "base_uri": "https://localhost:8080/",
          "height": 137
        }
      },
      "source": [
        "pip install selenium\n"
      ],
      "execution_count": null,
      "outputs": [
        {
          "output_type": "stream",
          "text": [
            "Collecting selenium\n",
            "\u001b[?25l  Downloading https://files.pythonhosted.org/packages/80/d6/4294f0b4bce4de0abf13e17190289f9d0613b0a44e5dd6a7f5ca98459853/selenium-3.141.0-py2.py3-none-any.whl (904kB)\n",
            "\u001b[K     |████████████████████████████████| 911kB 3.5MB/s \n",
            "\u001b[?25hRequirement already satisfied: urllib3 in /usr/local/lib/python3.6/dist-packages (from selenium) (1.24.3)\n",
            "Installing collected packages: selenium\n",
            "Successfully installed selenium-3.141.0\n"
          ],
          "name": "stdout"
        }
      ]
    },
    {
      "cell_type": "code",
      "metadata": {
        "id": "KY6fu9pJMxZ_"
      },
      "source": [
        "# Import necessary libraries\n",
        "import pandas as pd\n",
        "import numpy as np\n",
        "from bs4 import BeautifulSoup as bs\n",
        "import requests\n",
        "import matplotlib.pyplot as plt"
      ],
      "execution_count": null,
      "outputs": []
    },
    {
      "cell_type": "code",
      "metadata": {
        "id": "A0_8cqQZc79M"
      },
      "source": [
        "from selenium import webdriver\n",
        "from selenium.webdriver.common.keys import Keys\n",
        "import time\n",
        "from datetime import date"
      ],
      "execution_count": null,
      "outputs": []
    },
    {
      "cell_type": "code",
      "metadata": {
        "id": "JePVdW47dNQE",
        "outputId": "17221a97-1031-4263-8b01-75559fcc8b2e",
        "colab": {
          "base_uri": "https://localhost:8080/",
          "height": 1000
        }
      },
      "source": [
        "!apt-get update # to update ubuntu to correctly run apt install\n",
        "!apt install chromium-chromedriver\n",
        "!cp /usr/lib/chromium-browser/chromedriver /usr/bin\n",
        "import sys\n",
        "sys.path.insert(0,'/usr/lib/chromium-browser/chromedriver')\n",
        "from selenium import webdriver\n",
        "chrome_options = webdriver.ChromeOptions()\n",
        "chrome_options.add_argument('--headless')\n",
        "chrome_options.add_argument('--no-sandbox')\n",
        "chrome_options.add_argument('--disable-dev-shm-usage')\n",
        "\n"
      ],
      "execution_count": null,
      "outputs": [
        {
          "output_type": "stream",
          "text": [
            "\r0% [Working]\r            \rGet:1 http://security.ubuntu.com/ubuntu bionic-security InRelease [88.7 kB]\n",
            "\r0% [Connecting to archive.ubuntu.com (91.189.88.152)] [1 InRelease 2,589 B/88.7\r                                                                               \rIgn:2 https://developer.download.nvidia.com/compute/cuda/repos/ubuntu1804/x86_64  InRelease\n",
            "\r0% [Connecting to archive.ubuntu.com (91.189.88.152)] [1 InRelease 34.4 kB/88.7\r                                                                               \rGet:3 https://cloud.r-project.org/bin/linux/ubuntu bionic-cran40/ InRelease [3,626 B]\n",
            "Ign:4 https://developer.download.nvidia.com/compute/machine-learning/repos/ubuntu1804/x86_64  InRelease\n",
            "Hit:5 https://developer.download.nvidia.com/compute/cuda/repos/ubuntu1804/x86_64  Release\n",
            "Get:6 http://ppa.launchpad.net/c2d4u.team/c2d4u4.0+/ubuntu bionic InRelease [15.9 kB]\n",
            "Hit:7 https://developer.download.nvidia.com/compute/machine-learning/repos/ubuntu1804/x86_64  Release\n",
            "Hit:8 http://archive.ubuntu.com/ubuntu bionic InRelease\n",
            "Get:9 http://archive.ubuntu.com/ubuntu bionic-updates InRelease [88.7 kB]\n",
            "Hit:10 http://ppa.launchpad.net/graphics-drivers/ppa/ubuntu bionic InRelease\n",
            "Get:11 http://security.ubuntu.com/ubuntu bionic-security/universe amd64 Packages [1,338 kB]\n",
            "Get:12 http://archive.ubuntu.com/ubuntu bionic-backports InRelease [74.6 kB]\n",
            "Get:15 http://ppa.launchpad.net/c2d4u.team/c2d4u4.0+/ubuntu bionic/main Sources [1,673 kB]\n",
            "Get:16 http://archive.ubuntu.com/ubuntu bionic-updates/main amd64 Packages [2,110 kB]\n",
            "Get:17 http://archive.ubuntu.com/ubuntu bionic-updates/universe amd64 Packages [2,100 kB]\n",
            "Get:18 http://ppa.launchpad.net/c2d4u.team/c2d4u4.0+/ubuntu bionic/main amd64 Packages [856 kB]\n",
            "Fetched 8,349 kB in 3s (2,532 kB/s)\n",
            "Reading package lists... Done\n",
            "Reading package lists... Done\n",
            "Building dependency tree       \n",
            "Reading state information... Done\n",
            "The following additional packages will be installed:\n",
            "  chromium-browser chromium-browser-l10n chromium-codecs-ffmpeg-extra\n",
            "Suggested packages:\n",
            "  webaccounts-chromium-extension unity-chromium-extension adobe-flashplugin\n",
            "The following NEW packages will be installed:\n",
            "  chromium-browser chromium-browser-l10n chromium-chromedriver\n",
            "  chromium-codecs-ffmpeg-extra\n",
            "0 upgraded, 4 newly installed, 0 to remove and 22 not upgraded.\n",
            "Need to get 79.2 MB of archives.\n",
            "After this operation, 268 MB of additional disk space will be used.\n",
            "Get:1 http://archive.ubuntu.com/ubuntu bionic-updates/universe amd64 chromium-codecs-ffmpeg-extra amd64 85.0.4183.121-0ubuntu0.18.04.1 [1,117 kB]\n",
            "Get:2 http://archive.ubuntu.com/ubuntu bionic-updates/universe amd64 chromium-browser amd64 85.0.4183.121-0ubuntu0.18.04.1 [70.3 MB]\n",
            "Get:3 http://archive.ubuntu.com/ubuntu bionic-updates/universe amd64 chromium-browser-l10n all 85.0.4183.121-0ubuntu0.18.04.1 [3,432 kB]\n",
            "Get:4 http://archive.ubuntu.com/ubuntu bionic-updates/universe amd64 chromium-chromedriver amd64 85.0.4183.121-0ubuntu0.18.04.1 [4,415 kB]\n",
            "Fetched 79.2 MB in 4s (22.1 MB/s)\n",
            "Selecting previously unselected package chromium-codecs-ffmpeg-extra.\n",
            "(Reading database ... 144618 files and directories currently installed.)\n",
            "Preparing to unpack .../chromium-codecs-ffmpeg-extra_85.0.4183.121-0ubuntu0.18.04.1_amd64.deb ...\n",
            "Unpacking chromium-codecs-ffmpeg-extra (85.0.4183.121-0ubuntu0.18.04.1) ...\n",
            "Selecting previously unselected package chromium-browser.\n",
            "Preparing to unpack .../chromium-browser_85.0.4183.121-0ubuntu0.18.04.1_amd64.deb ...\n",
            "Unpacking chromium-browser (85.0.4183.121-0ubuntu0.18.04.1) ...\n",
            "Selecting previously unselected package chromium-browser-l10n.\n",
            "Preparing to unpack .../chromium-browser-l10n_85.0.4183.121-0ubuntu0.18.04.1_all.deb ...\n",
            "Unpacking chromium-browser-l10n (85.0.4183.121-0ubuntu0.18.04.1) ...\n",
            "Selecting previously unselected package chromium-chromedriver.\n",
            "Preparing to unpack .../chromium-chromedriver_85.0.4183.121-0ubuntu0.18.04.1_amd64.deb ...\n",
            "Unpacking chromium-chromedriver (85.0.4183.121-0ubuntu0.18.04.1) ...\n",
            "Setting up chromium-codecs-ffmpeg-extra (85.0.4183.121-0ubuntu0.18.04.1) ...\n",
            "Setting up chromium-browser (85.0.4183.121-0ubuntu0.18.04.1) ...\n",
            "update-alternatives: using /usr/bin/chromium-browser to provide /usr/bin/x-www-browser (x-www-browser) in auto mode\n",
            "update-alternatives: using /usr/bin/chromium-browser to provide /usr/bin/gnome-www-browser (gnome-www-browser) in auto mode\n",
            "Setting up chromium-chromedriver (85.0.4183.121-0ubuntu0.18.04.1) ...\n",
            "Setting up chromium-browser-l10n (85.0.4183.121-0ubuntu0.18.04.1) ...\n",
            "Processing triggers for hicolor-icon-theme (0.17-2) ...\n",
            "Processing triggers for mime-support (3.60ubuntu1) ...\n",
            "Processing triggers for man-db (2.8.3-2ubuntu0.1) ...\n",
            "cp: '/usr/lib/chromium-browser/chromedriver' and '/usr/bin/chromedriver' are the same file\n"
          ],
          "name": "stdout"
        }
      ]
    },
    {
      "cell_type": "code",
      "metadata": {
        "id": "UBXDIVYATP5w"
      },
      "source": [
        "from selenium.webdriver.support.ui import WebDriverWait\n",
        "from selenium.webdriver.support import expected_conditions as EC\n",
        "from selenium.webdriver.common.by import By\n",
        "from selenium.common.exceptions import TimeoutException"
      ],
      "execution_count": null,
      "outputs": []
    },
    {
      "cell_type": "markdown",
      "metadata": {
        "id": "X3nKWeIS7pcS"
      },
      "source": [
        "Set Up header for HTTPRequest to be used for most of requests to Job portals"
      ]
    },
    {
      "cell_type": "code",
      "metadata": {
        "id": "0Q_qoaEcUQv7"
      },
      "source": [
        "header = {  \"User-Agent\": \"Mozilla/5.0 (X11; Linux x86_64) AppleWebKit/537.36 (KHTML, like Gecko) Chrome/50.0.2661.75 Safari/537.36\",  \"X-Requested-With\": \"XMLHttpRequest\"}\n",
        "\n"
      ],
      "execution_count": null,
      "outputs": []
    },
    {
      "cell_type": "markdown",
      "metadata": {
        "id": "uIeM75gUsbHd"
      },
      "source": [
        "Function to loadSheet named \"PaceKeywords.xlsx' into python dataframe. Function expects xlsx extension file. An attempt to load another extension file can give errors"
      ]
    },
    {
      "cell_type": "code",
      "metadata": {
        "id": "UROYxlzYqSf2"
      },
      "source": [
        "import io\n",
        "def loadSheet(sheet_name):\n",
        "  search_terms = pd.read_excel(io.BytesIO(uploaded['PaceKeywords.xlsx']),sheet_name=sheet_name)\n",
        "  return search_terms\n"
      ],
      "execution_count": null,
      "outputs": []
    },
    {
      "cell_type": "markdown",
      "metadata": {
        "id": "yApmzkcV73U9"
      },
      "source": [
        "Function to analyse indeed job portal using HTTP GET Request. This function would require maintainence if underlying structure of site is changed or any additional restrictions are implemented by Indeed. "
      ]
    },
    {
      "cell_type": "code",
      "metadata": {
        "id": "4EQeuaPf436b"
      },
      "source": [
        "def indeed_analysis(sheet_name,search_terms_p):\n",
        "  search_terms = search_terms_p\n",
        "  indeed_list = []\n",
        "  indeed_list_urls = []\n",
        "  \n",
        "  search_terms.iloc[:, 0] = search_terms.iloc[:, 0].str.strip('[]')\n",
        "\n",
        "  for term in search_terms.iloc[:, 0]:\n",
        "      #print(term)\n",
        "      term = term.replace(\" \",\"%20\")\n",
        "      term = \"\\\"\"+term+\"\\\"\"\n",
        "      if sheet_name == \"\":\n",
        "        url = f'https://www.indeed.com/jobs?q={term}&l=United%20States&vjk=ea8b83a76166217a'\n",
        "      else:\n",
        "        sheet_namech = sheet_name.replace(\" \",\"%20\")\n",
        "        sheet_namech = \"\\\"\"+sheet_namech+\"\\\"\"\n",
        "        url = f'https://www.indeed.com/jobs?q={sheet_namech}%20{term}&l=United%20States&vjk=ea8b83a76166217a'\n",
        "      indeed_list_urls.append(url)\n",
        "      try:\n",
        "          r = requests.get(url, headers=header, timeout=10)\n",
        "          soup = bs(r.text, 'html.parser')\n",
        "          count_str = soup.find('div', id=\"searchCountPages\").get_text()\n",
        "          numb = count_str.split()\n",
        "          indeed_list.append(numb[-2])\n",
        "      except Exception as e:\n",
        "          #print(f'error: {e}')\n",
        "          indeed_list.append(0)\n",
        "  return [indeed_list,indeed_list_urls]\n"
      ],
      "execution_count": null,
      "outputs": []
    },
    {
      "cell_type": "markdown",
      "metadata": {
        "id": "I4o6nAe-796X"
      },
      "source": [
        "Function to analyse monster job portal using HTTP GET Request. This function would require maintainence if underlying structure of site is changed or any additional restrictions are implemented by Monster. "
      ]
    },
    {
      "cell_type": "code",
      "metadata": {
        "id": "eNrxS2u5ZI9C"
      },
      "source": [
        "def monster_analysis(sheet_name,search_terms_p):\n",
        "  monster_list = []\n",
        "  monster_list_urls = []\n",
        "  search_terms = search_terms_p\n",
        "  search_terms.iloc[:, 0] = search_terms.iloc[:, 0].str.strip('[]')\n",
        "  search_terms.iloc[:, 0] = search_terms.replace(' ', '-', regex=True)\n",
        "\n",
        "  for term in search_terms.iloc[:, 0]:\n",
        "      #print(term)\n",
        "      term = term.replace(\" \",\"%20\")\n",
        "      #term = \"\\\"\"+term+\"\\\"\"\n",
        "      if sheet_name == \"\":\n",
        "        url1 = f'https://www.monster.com/jobs/search/?q=__22{term}__22&where=USA'\n",
        "        url2 = f'https://www.monster.com/jobs/search/?q=__27{term}__27&where=USA'\n",
        "      else:\n",
        "        sheet_namech = sheet_name.replace(\" \",\"%20\")\n",
        "        #sheet_namech = \"\\\"\"+sheet_namech+\"\\\"\"\n",
        "        url1 = f'https://www.monster.com/jobs/search/?q=__22{sheet_namech}__22-__22{term}__22&where=USA'\n",
        "        url2 = f'https://www.monster.com/jobs/search/?q=__27{sheet_namech}__27-__27{term}__27&where=USA'\n",
        "      monster_list_urls.append(url1)\n",
        "      try:\n",
        "          r = requests.get(url1, headers=header, timeout=5)\n",
        "          soup = bs(r.text, 'html.parser')\n",
        "          count_str = soup.find('h2', class_=\"figure\").get_text()\n",
        "        # print(count_str)\n",
        "          numb = count_str.split()\n",
        "          monster_count = numb[0].replace(\"(\", \"\")\n",
        "          monster_list.append(monster_count)\n",
        "      except Exception as e:\n",
        "      #   print(f'error: {e}')\n",
        "          monster_list.append(0)\n",
        "  return [monster_list,monster_list_urls]\n"
      ],
      "execution_count": null,
      "outputs": []
    },
    {
      "cell_type": "markdown",
      "metadata": {
        "id": "3A435IWT8Cac"
      },
      "source": [
        "Function to analyse Simply Hired job portal using HTTP GET Request. This function would require maintainence if underlying structure of site is changed or any additional restrictions are implemented by Simply Hired. "
      ]
    },
    {
      "cell_type": "code",
      "metadata": {
        "id": "X_TMxN5BaOrq"
      },
      "source": [
        "def simplyhired_analysis(sheet_name,search_terms_p):\n",
        "  simply_list = []\n",
        "  simply_list_url = []\n",
        "  search_terms = search_terms_p\n",
        "  search_terms.iloc[:, 0] = search_terms.iloc[:, 0].str.strip('[]')\n",
        "\n",
        "  for term in search_terms.iloc[:, 0]:\n",
        "      term = term.replace(\" \",\"%20\")\n",
        "      term = \"\\\"\"+term+\"\\\"\"\n",
        "      if sheet_name == \"\":\n",
        "        url = f'https://www.simplyhired.com/search?q={term}&l=United+States'\n",
        "      else:\n",
        "        sheet_namech = sheet_name.replace(\" \",\"%20\")\n",
        "        sheet_namech = \"\\\"\"+sheet_namech+\"\\\"\"\n",
        "        url = f'https://www.simplyhired.com/search?q={sheet_namech}+{term}&l=United+States'\n",
        "      simply_list_url.append(url)\n",
        "      try:\n",
        "          r = requests.get(url, headers=header, timeout=5)\n",
        "          soup = bs(r.text, 'html.parser')\n",
        "          count_str = soup.find('span', class_=\"CategoryPath-total\").get_text()\n",
        "          print(count_str)\n",
        "          simply_list.append(count_str.replace(',',''))\n",
        "      except Exception as e:\n",
        "          #print(f'error: {e}')\n",
        "          simply_list.append(0)\n",
        "  return [simply_list,simply_list_url]\n",
        "\n"
      ],
      "execution_count": null,
      "outputs": []
    },
    {
      "cell_type": "markdown",
      "metadata": {
        "id": "-VHTZyum8F-r"
      },
      "source": [
        "Function to analyse Gartner job portal using Selenium API. This function would require maintainence if underlying structure of site is changed or any additional restrictions are implemented by Gartner. "
      ]
    },
    {
      "cell_type": "code",
      "metadata": {
        "id": "PQtMVclrU8_-"
      },
      "source": [
        "def gartner_analysis(sheet_name,search_terms_p):\n",
        "  gartner_list = []\n",
        "  gartner_list_url = []\n",
        "  search_terms=search_terms_p\n",
        "  search_terms.iloc[:, 0] = search_terms.iloc[:, 0].str.strip('[]')\n",
        "\n",
        "  for term in search_terms.iloc[:, 0]:\n",
        "      term = term.replace(\" \",\"%20\")\n",
        "      #term = \"\\\"\"+term+\"\\\"\"\n",
        "      if sheet_name == \"\":\n",
        "        url = f'https://jobs.gartner.com/search-jobs/{term}/United%20States/494/1/2/6252001/39x7599983215332/-98x5/50/2'\n",
        "      else:\n",
        "        sheet_namech = sheet_name.replace(\" \",\"%20\")\n",
        "        #sheet_namech = \"\\\"\"+sheet_namech+\"\\\"\"\n",
        "        url = f'https://jobs.gartner.com/search-jobs/{sheet_namech}%20{term}/United%20States/494/1/2/6252001/39x7599983215332/-98x5/50/2'\n",
        "      gartner_list_url.append(url)\n",
        "      try:\n",
        "          wd = webdriver.Chrome('chromedriver',options=chrome_options)\n",
        "          r = wd.get(url)\n",
        "          #print(r)\n",
        "          count_str = (wd.find_elements_by_class_name(\"results-count-heading\"))[0].text\n",
        "          #print(count_str)\n",
        "          numb = count_str.split()\n",
        "          gartner_list.append(numb[-2])\n",
        "      except Exception as e:\n",
        "          #print(f'error: {e}')\n",
        "          gartner_list.append(0)\n",
        "  return [gartner_list,gartner_list_url]\n",
        "        \n"
      ],
      "execution_count": null,
      "outputs": []
    },
    {
      "cell_type": "markdown",
      "metadata": {
        "id": "CAJpc9Hv8MS6"
      },
      "source": [
        "Function to analyse Dice job portal using Selenium API. This function would require maintainence if underlying structure of site is changed or any additional restrictions are implemented by Dice. "
      ]
    },
    {
      "cell_type": "code",
      "metadata": {
        "id": "-ZQq3Uxg5zuW"
      },
      "source": [
        "def dice_analysis(sheet_name,search_terms_p):\n",
        "  dice_list = []\n",
        "  dice_list_url = []\n",
        "  search_terms = search_terms_p\n",
        "  search_terms.iloc[0:2, 0] = search_terms.iloc[:, 0].str.strip('[]')\n",
        "  #print(\"test\")\n",
        "  for term in search_terms.iloc[:, 0]:\n",
        "      term = term.replace(\" \",\"%20\")\n",
        "      term = \"\\\"\"+term+\"\\\"\"\n",
        "      if sheet_name == \"\":\n",
        "          url = f'https://www.dice.com/jobs?q={term}&location=United%20States'\n",
        "      else:\n",
        "         sheet_namech = sheet_name.replace(\" \",\"%20\")\n",
        "         sheet_namech = \"\\\"\"+sheet_namech+\"\\\"\"\n",
        "         url = f'https://www.dice.com/jobs?q={sheet_namech}%20{term}&location=United%20States'\n",
        "      dice_list_url.append(url)\n",
        "      timeout = 5\n",
        "      try:\n",
        "       wd = webdriver.Chrome('chromedriver',options=chrome_options)\n",
        "       wd.get(url)\n",
        "       element_present = EC.presence_of_element_located((By.ID, 'totalJobCount'))\n",
        "       WebDriverWait(wd, timeout).until(element_present)\n",
        "       count_str = (wd.find_element_by_id(\"totalJobCount\")).get_attribute(\"innerText\")\n",
        "       #count_str = wd.find_element_by_xpath(\"//span[@id='totalJobCount']\");\n",
        "       #print(\"Count Str\", count_str)\n",
        "       numb = count_str.replace(\",\", \"\");\n",
        "       dice_list.append(numb)\n",
        "      except Exception as e:\n",
        "        #print(f'error: {e}')\n",
        "        dice_list.append(0)\n",
        "  return [dice_list,dice_list_url]\n",
        "\n",
        "       \n"
      ],
      "execution_count": null,
      "outputs": []
    },
    {
      "cell_type": "markdown",
      "metadata": {
        "id": "-Jh0YW368Ojx"
      },
      "source": [
        "Function to analyse Glassdoor job portal using Selenium API. This function would require maintainence if underlying structure of site is changed or any additional restrictions are implemented by Glassdoor. "
      ]
    },
    {
      "cell_type": "code",
      "metadata": {
        "id": "PEdzU6pEreVc"
      },
      "source": [
        "def glassdoor_analysis(sheet_name,search_terms_p):\n",
        "  glassdoor_list = []\n",
        "  glassdoor_list_url = []\n",
        "  search_terms = search_terms_p\n",
        "  search_terms.iloc[0:2, 0] = search_terms.iloc[:, 0].str.strip('[]')\n",
        "  #print(\"test\")\n",
        "  for term in search_terms.iloc[:, 0]:\n",
        "      term = term.replace(\" \",\"+\")\n",
        "      term = \"\\\"\"+term+\"\\\"\"\n",
        "      if sheet_name == \"\":\n",
        "          #url = f'https://www.glassdoor.com/Job/jobs.htm?suggestCount=0&suggestChosen=false&clickSource=searchBtn&typedKeyword=%22{term}%22&locT=N&locId=1&jobType=&context=Jobs&sc.keyword=%22{term}%22&dropdown=0\n",
        "          url = f'https://www.glassdoor.com/Job/jobs.htm?suggestCount=0&suggestChosen=false&clickSource=searchBtn&typedKeyword={term}&sc.keyword={term}&locT=N&locId=1'\n",
        "      else:\n",
        "         sheet_namech = sheet_name.replace(\" \",\"+\")\n",
        "         sheet_namech = \"\\\"\"+sheet_namech+\"\\\"\"\n",
        "         url = f'https://www.glassdoor.com/Job/jobs.htm?suggestCount=0&suggestChosen=false&clickSource=searchBtn&typedKeyword={sheet_namech}+{term}&sc.keyword={sheet_namech}+{term}&locT=N&locId=1'\n",
        "      glassdoor_list_url.append(url)\n",
        "      timeout = 5\n",
        "      try:\n",
        "        wd = webdriver.Chrome('chromedriver',options=chrome_options)\n",
        "        wd.get(url)\n",
        "        count_str = (wd.find_element_by_xpath(\"//div[@class='hideHH css-19rczgc e15r6eig0']\")).get_attribute(\"innerText\")\n",
        "        numb_split = count_str.split()\n",
        "        numb = numb_split[0].replace(\",\", \"\")\n",
        "        glassdoor_list.append(numb)\n",
        "      except Exception as e:\n",
        "        #print(f'error: {e}')\n",
        "        glassdoor_list.append(0)\n",
        "  return [glassdoor_list,glassdoor_list_url]\n",
        "\n",
        "       \n"
      ],
      "execution_count": null,
      "outputs": []
    },
    {
      "cell_type": "markdown",
      "metadata": {
        "id": "mbC-_tBf8Rlz"
      },
      "source": [
        "Function to analyse careerbuilder job portal using Selenium API. This function would require maintainence if underlying structure of site is changed or any additional restrictions are implemented by careerbuilder."
      ]
    },
    {
      "cell_type": "code",
      "metadata": {
        "id": "nhwkfOVSD2X-"
      },
      "source": [
        "def careerbuilderjobs_analysis(sheet_name,search_terms_p):\n",
        "  careerbuilderjobs_list = []\n",
        "  careerbuilderjobs_list_url = []\n",
        "  search_terms = search_terms_p\n",
        "  search_terms.iloc[0:2, 0] = search_terms.iloc[:, 0].str.strip('[]')\n",
        "  #print(\"test\")\n",
        "  for term in search_terms.iloc[:, 0]:\n",
        "      term = term.replace(\" \",\"%20\")\n",
        "      term = \"\\\"\"+term+\"\\\"\"\n",
        "      if sheet_name == \"\":\n",
        "        url = f'https://www.careerbuilder.com/jobs?utf8=%E2%9C%93&keywords={term}&location=United+States'\n",
        "      else:\n",
        "        sheet_namech = sheet_name.replace(\" \",\"%20\")\n",
        "        sheet_namech = \"\\\"\"+sheet_namech+\"\\\"\" \n",
        "        url = f'https://www.careerbuilder.com/jobs?utf8=%E2%9C%93&keywords={sheet_namech}+{term}&location=United+States'\n",
        "      careerbuilderjobs_list_url.append(url)\n",
        "      timeout = 5\n",
        "      try:\n",
        "        wd = webdriver.Chrome('chromedriver',options=chrome_options)\n",
        "        wd.get(url)\n",
        "        count_str = (wd.find_element_by_xpath(\"//h1[@class='fz1rem']\")).get_attribute(\"innerText\")\n",
        "        numb_split = count_str.split()\n",
        "        for i in numb_split:\n",
        "          numb = i.replace(\",\", \"\")\n",
        "          if numb.isdigit():\n",
        "            careerbuilderjobs_list.append(numb)\n",
        "            break\n",
        "      except Exception as e:\n",
        "        #print(f'error: {e}')\n",
        "        careerbuilderjobs_list.append(0)\n",
        "  return [careerbuilderjobs_list,careerbuilderjobs_list_url]\n",
        "\n",
        "       \n"
      ],
      "execution_count": null,
      "outputs": []
    },
    {
      "cell_type": "markdown",
      "metadata": {
        "id": "kOc9Euep8WFz"
      },
      "source": [
        "Function to analyse flexjobs job portal using Selenium API. This function would require maintainence if underlying structure of site is changed or any additional restrictions are implemented by flexjobs."
      ]
    },
    {
      "cell_type": "code",
      "metadata": {
        "id": "9zKdfxP-_wkl"
      },
      "source": [
        "def flexjobs_analysis(sheet_name,search_terms_p):\n",
        "  flexjobs_list = []\n",
        "  flexjobs_list_url=[]\n",
        "  search_terms = search_terms_p\n",
        "  search_terms.iloc[0:2, 0] = search_terms.iloc[:, 0].str.strip('[]')\n",
        "  #print(\"test\")\n",
        "  for term in search_terms.iloc[:, 0]:\n",
        "      term = term.replace(\" \",\"%20\")\n",
        "      term = \"\\\"\"+term+\"\\\"\"\n",
        "      if sheet_name == \"\":\n",
        "        url = f'https://www.flexjobs.com/search?search=&search={term}&location=United+States'\n",
        "      else:\n",
        "        sheet_namech = sheet_name.replace(\" \",\"%20\")\n",
        "        sheet_namech = \"\\\"\"+sheet_namech+\"\\\"\"\n",
        "        url = f'https://www.flexjobs.com/search?search=&search={sheet_namech}+{term}&location=United+States' \n",
        "      flexjobs_list_url.append(url)\n",
        "      timeout = 5\n",
        "      try:\n",
        "        wd = webdriver.Chrome('chromedriver',options=chrome_options)\n",
        "        wd.get(url)\n",
        "        count_str = (wd.find_element_by_xpath(\"//h4[@style='margin:0;font-size:14px;']\")).get_attribute(\"innerText\")\n",
        "        numb_split = count_str.split(\"of\")[1].split(\"for\")\n",
        "        numb = numb_split[0].replace(\",\", \"\")\n",
        "        flexjobs_list.append(numb)\n",
        "      except Exception as e:\n",
        "        #print(f'error: {e}')\n",
        "        flexjobs_list.append(0)\n",
        "  return [flexjobs_list,flexjobs_list_url]\n",
        "\n",
        "       \n"
      ],
      "execution_count": null,
      "outputs": []
    },
    {
      "cell_type": "markdown",
      "metadata": {
        "id": "vY2L3uKN8f5s"
      },
      "source": [
        "Function to analyse find.jobs job portal using Selenium. This function would require maintainence if underlying structure of site is changed or any additional restrictions are implemented by Find.jobs."
      ]
    },
    {
      "cell_type": "code",
      "metadata": {
        "id": "-PuBIWRkXAAI"
      },
      "source": [
        "def findjobs_analysis(sheet_name,search_terms_p):\n",
        "  usjobs_list = []\n",
        "  usjobs_list_url =[]\n",
        "  search_terms = search_terms_p\n",
        "  search_terms.iloc[0:2, 0] = search_terms.iloc[:, 0].str.strip('[]')\n",
        "  #print(\"test\")\n",
        "  for term in search_terms.iloc[:, 0]:\n",
        "      term = term.replace(\" \",\"%20\")\n",
        "      term = \"\\\"\"+term+\"\\\"\"\n",
        "      if sheet_name == \"\":\n",
        "        url = f'https://find.jobs/jobs-near-me/job-search-results/kw-{term}/co-226/'\n",
        "      else:\n",
        "        sheet_namech = sheet_name.replace(\" \",\"%20\")\n",
        "        sheet_namech = \"\\\"\"+sheet_namech+\"\\\"\"\n",
        "        url = f'https://find.jobs/jobs-near-me/job-search-results/kw-{sheet_namech}-{term}/co-226/'\n",
        "      usjobs_list_url.append(url)\n",
        "      timeout = 5\n",
        "      try:\n",
        "        wd = webdriver.Chrome('chromedriver',options=chrome_options)\n",
        "        wd.get(url)\n",
        "        count_str = (wd.find_element_by_xpath(\"//p[@class='results-count']\")).get_attribute(\"innerText\")\n",
        "        numb_split = count_str.split(\" \")[3]\n",
        "        numb = numb_split.replace(\",\", \"\")\n",
        "        usjobs_list.append(numb)\n",
        "      except Exception as e:\n",
        "        #print(f'error: {e}')\n",
        "        usjobs_list.append(0)\n",
        "  return [usjobs_list,usjobs_list_url]\n",
        "\n",
        "       \n"
      ],
      "execution_count": null,
      "outputs": []
    },
    {
      "cell_type": "markdown",
      "metadata": {
        "id": "uWoZGEQP89jj"
      },
      "source": [
        "Function to analyse USJobsGov job portal using REST API exposed by portal. This function would require maintainence if underlying API call exposed by site is changed."
      ]
    },
    {
      "cell_type": "code",
      "metadata": {
        "id": "Wsbwh4JsKAAq"
      },
      "source": [
        "import requests\n",
        "import json\n",
        "\n",
        "def jprint(obj):\n",
        "    # create a formatted string of the Python JSON object\n",
        "    text = json.dumps(obj, sort_keys=True, indent=4)\n",
        "    text_dict = json.loads(text)\n",
        "    return text_dict['SearchResult']['SearchResultCountAll']\n",
        "\n",
        "def usjobsgov_analysis(sheet_name,search_terms_p):\n",
        "    hh = {\"Host\": \"data.usajobs.gov\",\"User-Agent\": \"anju.jain@pace.edu\", \"Authorization-Key\": \"K675H4vq5k2oqeu4XSrWiNNgMtC1gKw1t0taBgzMfD0=\" }\n",
        "    usjobsgov_list = []\n",
        "    usjobsgov_list_url =[]\n",
        "    search_terms = search_terms_p\n",
        "    search_terms.iloc[0:2, 0] = search_terms.iloc[:, 0].str.strip('[]')\n",
        "    #print(\"test\")\n",
        "    for term in search_terms.iloc[:, 0]:\n",
        "      term = term.replace(\" \",\"%20\")\n",
        "      term = \"\\\"\"+term+\"\\\"\"\n",
        "      if sheet_name == \"\":\n",
        "          url = f\"https://data.usajobs.gov/api/search?Keyword={term}&PositionLocation['CountryCode']=United%20States\"\n",
        "          response = requests.get(url, headers=hh)\n",
        "      else:\n",
        "          sheet_namech = sheet_name.replace(\" \",\"%20\")\n",
        "          sheet_namech = \"\\\"\"+sheet_namech+\"\\\"\"\n",
        "          url = f\"https://data.usajobs.gov/api/search?Keyword={sheet_namech},{Railroad}&PositionLocation['CountryCode']=United%20States\"\n",
        "          response = requests.get(url, headers=hh)\n",
        "      usjobsgov_list_url.append(url)\n",
        "      numb = jprint(response.json())\n",
        "    #print(numb)\n",
        "      usjobsgov_list.append(numb)\n",
        "    return [usjobsgov_list,usjobsgov_list_url]\n",
        "\n",
        "\n"
      ],
      "execution_count": null,
      "outputs": []
    },
    {
      "cell_type": "markdown",
      "metadata": {
        "id": "6IDvi0NM8_C2"
      },
      "source": [
        "Below step invokes loadSheet function and reads tab named \"Data_Skill\". Any change to tab name in input file could result into errors or not loading expected data."
      ]
    },
    {
      "cell_type": "code",
      "metadata": {
        "id": "ZwaAKlG2Zbvm",
        "outputId": "099cdf81-b52d-4cd3-a638-d3546bef1a76",
        "colab": {
          "base_uri": "https://localhost:8080/",
          "height": 554
        }
      },
      "source": [
        "search_terms_skills = loadSheet(\"Data_Skill\")\n",
        "search_terms_skills"
      ],
      "execution_count": null,
      "outputs": [
        {
          "output_type": "execute_result",
          "data": {
            "text/html": [
              "<div>\n",
              "<style scoped>\n",
              "    .dataframe tbody tr th:only-of-type {\n",
              "        vertical-align: middle;\n",
              "    }\n",
              "\n",
              "    .dataframe tbody tr th {\n",
              "        vertical-align: top;\n",
              "    }\n",
              "\n",
              "    .dataframe thead th {\n",
              "        text-align: right;\n",
              "    }\n",
              "</style>\n",
              "<table border=\"1\" class=\"dataframe\">\n",
              "  <thead>\n",
              "    <tr style=\"text-align: right;\">\n",
              "      <th></th>\n",
              "      <th>Keywords</th>\n",
              "    </tr>\n",
              "  </thead>\n",
              "  <tbody>\n",
              "    <tr>\n",
              "      <th>0</th>\n",
              "      <td>Go</td>\n",
              "    </tr>\n",
              "    <tr>\n",
              "      <th>1</th>\n",
              "      <td>Data Mining</td>\n",
              "    </tr>\n",
              "    <tr>\n",
              "      <th>2</th>\n",
              "      <td>Data Modeling</td>\n",
              "    </tr>\n",
              "    <tr>\n",
              "      <th>3</th>\n",
              "      <td>Predictive Modelling</td>\n",
              "    </tr>\n",
              "    <tr>\n",
              "      <th>4</th>\n",
              "      <td>Statistical Modelling</td>\n",
              "    </tr>\n",
              "    <tr>\n",
              "      <th>5</th>\n",
              "      <td>Quantification</td>\n",
              "    </tr>\n",
              "    <tr>\n",
              "      <th>6</th>\n",
              "      <td>Machine Learning</td>\n",
              "    </tr>\n",
              "    <tr>\n",
              "      <th>7</th>\n",
              "      <td>SQL</td>\n",
              "    </tr>\n",
              "    <tr>\n",
              "      <th>8</th>\n",
              "      <td>Computer Science</td>\n",
              "    </tr>\n",
              "    <tr>\n",
              "      <th>9</th>\n",
              "      <td>Database</td>\n",
              "    </tr>\n",
              "    <tr>\n",
              "      <th>10</th>\n",
              "      <td>Statistics</td>\n",
              "    </tr>\n",
              "    <tr>\n",
              "      <th>11</th>\n",
              "      <td>Big Data</td>\n",
              "    </tr>\n",
              "    <tr>\n",
              "      <th>12</th>\n",
              "      <td>Spark</td>\n",
              "    </tr>\n",
              "    <tr>\n",
              "      <th>13</th>\n",
              "      <td>Tableau</td>\n",
              "    </tr>\n",
              "    <tr>\n",
              "      <th>14</th>\n",
              "      <td>Data Analytics</td>\n",
              "    </tr>\n",
              "    <tr>\n",
              "      <th>15</th>\n",
              "      <td>Statistical Analysis</td>\n",
              "    </tr>\n",
              "    <tr>\n",
              "      <th>16</th>\n",
              "      <td>Office 365</td>\n",
              "    </tr>\n",
              "  </tbody>\n",
              "</table>\n",
              "</div>"
            ],
            "text/plain": [
              "                 Keywords\n",
              "0                      Go\n",
              "1             Data Mining\n",
              "2           Data Modeling\n",
              "3    Predictive Modelling\n",
              "4   Statistical Modelling\n",
              "5          Quantification\n",
              "6        Machine Learning\n",
              "7                     SQL\n",
              "8        Computer Science\n",
              "9                Database\n",
              "10             Statistics\n",
              "11               Big Data\n",
              "12                  Spark\n",
              "13                Tableau\n",
              "14         Data Analytics\n",
              "15   Statistical Analysis\n",
              "16             Office 365"
            ]
          },
          "metadata": {
            "tags": []
          },
          "execution_count": 19
        }
      ]
    },
    {
      "cell_type": "markdown",
      "metadata": {
        "id": "6AAhTqUp9Edi"
      },
      "source": [
        "Below step invokes loadSheet function and reads tab named \"Data_Positions\". Any change to tab name in input file could result into errors or not loading expected data."
      ]
    },
    {
      "cell_type": "code",
      "metadata": {
        "id": "8ieqwZhawygu",
        "outputId": "a82d0882-a517-411f-a190-24085e9511f1",
        "colab": {
          "base_uri": "https://localhost:8080/",
          "height": 286
        }
      },
      "source": [
        "search_terms_positions = loadSheet(\"Data_Positions\")\n",
        "search_terms_positions"
      ],
      "execution_count": null,
      "outputs": [
        {
          "output_type": "execute_result",
          "data": {
            "text/html": [
              "<div>\n",
              "<style scoped>\n",
              "    .dataframe tbody tr th:only-of-type {\n",
              "        vertical-align: middle;\n",
              "    }\n",
              "\n",
              "    .dataframe tbody tr th {\n",
              "        vertical-align: top;\n",
              "    }\n",
              "\n",
              "    .dataframe thead th {\n",
              "        text-align: right;\n",
              "    }\n",
              "</style>\n",
              "<table border=\"1\" class=\"dataframe\">\n",
              "  <thead>\n",
              "    <tr style=\"text-align: right;\">\n",
              "      <th></th>\n",
              "      <th>Keywords</th>\n",
              "    </tr>\n",
              "  </thead>\n",
              "  <tbody>\n",
              "    <tr>\n",
              "      <th>0</th>\n",
              "      <td>Data Scientist</td>\n",
              "    </tr>\n",
              "    <tr>\n",
              "      <th>1</th>\n",
              "      <td>Data Analyst</td>\n",
              "    </tr>\n",
              "    <tr>\n",
              "      <th>2</th>\n",
              "      <td>Data Engineer</td>\n",
              "    </tr>\n",
              "    <tr>\n",
              "      <th>3</th>\n",
              "      <td>Data Architect</td>\n",
              "    </tr>\n",
              "    <tr>\n",
              "      <th>4</th>\n",
              "      <td>Data Infrastructure Engineer</td>\n",
              "    </tr>\n",
              "    <tr>\n",
              "      <th>5</th>\n",
              "      <td>Data Solution Manager</td>\n",
              "    </tr>\n",
              "    <tr>\n",
              "      <th>6</th>\n",
              "      <td>Data BI Engineer</td>\n",
              "    </tr>\n",
              "    <tr>\n",
              "      <th>7</th>\n",
              "      <td>Data Tableau Developer</td>\n",
              "    </tr>\n",
              "  </tbody>\n",
              "</table>\n",
              "</div>"
            ],
            "text/plain": [
              "                       Keywords\n",
              "0                Data Scientist\n",
              "1                  Data Analyst\n",
              "2                 Data Engineer\n",
              "3                Data Architect\n",
              "4  Data Infrastructure Engineer\n",
              "5         Data Solution Manager\n",
              "6              Data BI Engineer\n",
              "7        Data Tableau Developer"
            ]
          },
          "metadata": {
            "tags": []
          },
          "execution_count": 20
        }
      ]
    },
    {
      "cell_type": "markdown",
      "metadata": {
        "id": "1m9TJBct9HiM"
      },
      "source": [
        "Below step invokes loadSheet function and reads tab named \"Data_BadgesAndCert\". Any change to tab name in input file could result into errors or not loading expected data."
      ]
    },
    {
      "cell_type": "code",
      "metadata": {
        "id": "nJ6B97hVw-H1",
        "outputId": "9187bb03-95e1-4289-cc91-bd2a900963cd",
        "colab": {
          "base_uri": "https://localhost:8080/",
          "height": 345
        }
      },
      "source": [
        "search_terms_BC = loadSheet(\"Data_BadgesAndCert\")\n",
        "search_terms_BC"
      ],
      "execution_count": null,
      "outputs": [
        {
          "output_type": "execute_result",
          "data": {
            "text/html": [
              "<div>\n",
              "<style scoped>\n",
              "    .dataframe tbody tr th:only-of-type {\n",
              "        vertical-align: middle;\n",
              "    }\n",
              "\n",
              "    .dataframe tbody tr th {\n",
              "        vertical-align: top;\n",
              "    }\n",
              "\n",
              "    .dataframe thead th {\n",
              "        text-align: right;\n",
              "    }\n",
              "</style>\n",
              "<table border=\"1\" class=\"dataframe\">\n",
              "  <thead>\n",
              "    <tr style=\"text-align: right;\">\n",
              "      <th></th>\n",
              "      <th>Keywords</th>\n",
              "    </tr>\n",
              "  </thead>\n",
              "  <tbody>\n",
              "    <tr>\n",
              "      <th>0</th>\n",
              "      <td>IBM Data Science Professional Certificate</td>\n",
              "    </tr>\n",
              "    <tr>\n",
              "      <th>1</th>\n",
              "      <td>Google Data and Machine Learning</td>\n",
              "    </tr>\n",
              "    <tr>\n",
              "      <th>2</th>\n",
              "      <td>Dell EMC Data Science Track</td>\n",
              "    </tr>\n",
              "    <tr>\n",
              "      <th>3</th>\n",
              "      <td>Google Certified Professional Data Engineer</td>\n",
              "    </tr>\n",
              "    <tr>\n",
              "      <th>4</th>\n",
              "      <td>Microsoft Certified Azure Data Scientist Assoc...</td>\n",
              "    </tr>\n",
              "    <tr>\n",
              "      <th>5</th>\n",
              "      <td>Open Certified Data Scientist</td>\n",
              "    </tr>\n",
              "    <tr>\n",
              "      <th>6</th>\n",
              "      <td>AWS Certified Data Analytics</td>\n",
              "    </tr>\n",
              "    <tr>\n",
              "      <th>7</th>\n",
              "      <td>AWS Certified Machine Learning</td>\n",
              "    </tr>\n",
              "    <tr>\n",
              "      <th>8</th>\n",
              "      <td>MSCA</td>\n",
              "    </tr>\n",
              "    <tr>\n",
              "      <th>9</th>\n",
              "      <td>MSCE</td>\n",
              "    </tr>\n",
              "  </tbody>\n",
              "</table>\n",
              "</div>"
            ],
            "text/plain": [
              "                                            Keywords\n",
              "0          IBM Data Science Professional Certificate\n",
              "1                   Google Data and Machine Learning\n",
              "2                        Dell EMC Data Science Track\n",
              "3        Google Certified Professional Data Engineer\n",
              "4  Microsoft Certified Azure Data Scientist Assoc...\n",
              "5                      Open Certified Data Scientist\n",
              "6                       AWS Certified Data Analytics\n",
              "7                     AWS Certified Machine Learning\n",
              "8                                               MSCA\n",
              "9                                               MSCE"
            ]
          },
          "metadata": {
            "tags": []
          },
          "execution_count": 21
        }
      ]
    },
    {
      "cell_type": "code",
      "metadata": {
        "id": "owZB8KW6XUMK"
      },
      "source": [
        "#glassdoor_skills_listOflist = glassdoor_analysis(\"\",search_terms_skills)    \n",
        "#glassdoor_skills_list=glassdoor_skills_listOflist[0]\n",
        "#glassdoor_skills_list_url = glassdoor_skills_listOflist[1]"
      ],
      "execution_count": null,
      "outputs": []
    },
    {
      "cell_type": "markdown",
      "metadata": {
        "id": "IDgW8Uq99LCf"
      },
      "source": [
        "Below calls executes functions against job portals for skills as read from input file"
      ]
    },
    {
      "cell_type": "code",
      "metadata": {
        "id": "hdbfZ_0BVSQ9",
        "outputId": "6b703abb-5ed1-461a-bed9-92ea0fae9184",
        "colab": {
          "base_uri": "https://localhost:8080/",
          "height": 301
        }
      },
      "source": [
        "indeed_Skills_listOflist = indeed_analysis(\"\",search_terms_skills)\n",
        "indeed_Skills_list=indeed_Skills_listOflist[0]\n",
        "indeed_Skills_list_url = indeed_Skills_listOflist[1]\n",
        "\n",
        "monster_skills_listOflist = monster_analysis(\"\",search_terms_skills)    \n",
        "monster_skills_list=monster_skills_listOflist[0]\n",
        "monster_skills_list_url = monster_skills_listOflist[1]\n",
        "\n",
        "careerbuilderjobs_skills_listOflist = careerbuilderjobs_analysis(\"\",search_terms_skills)    \n",
        "careerbuilderjobs_skills_list=careerbuilderjobs_skills_listOflist[0]\n",
        "careerbuilderjobs_skills_list_url = careerbuilderjobs_skills_listOflist[1]\n",
        "careerbuilderjobs_skills_list\n",
        "\n",
        "flexjobs_Skill_listOflist = flexjobs_analysis(\"\",search_terms_skills)    \n",
        "flexjobs_Skill_list=flexjobs_Skill_listOflist[0]\n",
        "flexjobs_Skill_list_url = flexjobs_Skill_listOflist[1]\n",
        "\n",
        "simply_skills_listOflist = simplyhired_analysis(\"\",search_terms_skills)    \n",
        "simply_skills_list=simply_skills_listOflist[0]\n",
        "simply_skills_list_url = simply_skills_listOflist[1]\n",
        "\n",
        "gartner_skills_listOflist = gartner_analysis(\"\",search_terms_skills)    \n",
        "gartner_skills_list=gartner_skills_listOflist[0]\n",
        "gartner_skills_list_url = gartner_skills_listOflist[1]\n",
        "\n",
        "dice_skills_listOflist = dice_analysis(\"\",search_terms_skills)    \n",
        "dice_skills_list=dice_skills_listOflist[0]\n",
        "dice_skills_list_url = dice_skills_listOflist[1]\n",
        "\n",
        "usjobsgov_listOflist = usjobsgov_analysis(\"\",search_terms_skills)\n",
        "usjobsgov_list=usjobsgov_listOflist[0]\n",
        "usjobsgov_list_url = usjobsgov_listOflist[1]\n",
        "\n",
        "findjobs_skills_listOflist = findjobs_analysis(\"\",search_terms_skills)    \n",
        "findjobs_skills_list=findjobs_skills_listOflist[0]\n",
        "findjobs_skills_list_url = findjobs_skills_listOflist[1]\n"
      ],
      "execution_count": null,
      "outputs": [
        {
          "output_type": "stream",
          "text": [
            "108,039\n",
            "5,150\n",
            "5,384\n",
            "93\n",
            "109\n",
            "891\n",
            "17,512\n",
            "52,721\n",
            "82,297\n",
            "95,552\n",
            "34,699\n",
            "11,489\n",
            "8,486\n",
            "11,476\n",
            "16,984\n",
            "8,397\n",
            "6\n"
          ],
          "name": "stdout"
        }
      ]
    },
    {
      "cell_type": "markdown",
      "metadata": {
        "id": "EzqBSvvE9O5T"
      },
      "source": [
        "Below steps prepare output file from results recieved of counts from portals and write to excel file."
      ]
    },
    {
      "cell_type": "code",
      "metadata": {
        "id": "5jD2MkFN5Fkz"
      },
      "source": [
        "df_skills = pd.DataFrame(indeed_Skills_list, index=search_terms_skills.iloc[:,0], columns=['Indeed'])\n",
        "df_skills_url = pd.DataFrame(indeed_Skills_list_url, index=search_terms_skills.iloc[:,0], columns=['Indeed'])\n"
      ],
      "execution_count": null,
      "outputs": []
    },
    {
      "cell_type": "code",
      "metadata": {
        "id": "TUNb9Bt6Ysep"
      },
      "source": [
        "df_skills.rename(index={'':'Data_Skill'},inplace=True)\n",
        "df_skills_url.rename(index={'':'Data_Skill'},inplace=True)\n"
      ],
      "execution_count": null,
      "outputs": []
    },
    {
      "cell_type": "code",
      "metadata": {
        "id": "P0SIKePZY04o"
      },
      "source": [
        "df_skills['Gartner'] = gartner_skills_list\n",
        "df_skills['Dice'] = dice_skills_list\n",
        "df_skills['Monster'] = monster_skills_list\n",
        "df_skills['SimplyHired'] = simply_skills_list\n",
        "#df_skills['Glassdoor'] = glassdoor_skills_list\n",
        "df_skills['flexjobs'] = flexjobs_Skill_list\n",
        "df_skills['CareerBuilder'] = careerbuilderjobs_skills_list\n",
        "df_skills['findJobs'] = findjobs_skills_list\n",
        "df_skills['USJobsGov'] = usjobsgov_list\n",
        "df_skills['Date'] = date.today()\n",
        "new_order = [-1,0,1,2,3,4,5,6,7,8]\n",
        "df_skills = df_skills[df_skills.columns[new_order]]\n",
        "                      \n",
        "with pd.ExcelWriter('PortalsKeywordsCounts.xlsx') as writer:  \n",
        "    df_skills.to_excel(writer, sheet_name='SkillsAnalysis')\n",
        "\n",
        "df_skills_url['Gartner'] = gartner_skills_list_url\n",
        "df_skills_url['Dice'] = dice_skills_list_url\n",
        "df_skills_url['Monster'] = monster_skills_list_url\n",
        "df_skills_url['SimplyHired'] = simply_skills_list_url\n",
        "#df_skills_url['Glassdoor'] = glassdoor_skills_list\n",
        "df_skills_url['flexjobs'] = flexjobs_Skill_list_url\n",
        "df_skills_url['CareerBuilder'] = careerbuilderjobs_skills_list_url\n",
        "df_skills_url['findJobs'] = findjobs_skills_list_url\n",
        "df_skills_url['USJobsGov'] = findjobs_skills_list_url\n",
        "df_skills_url['Date'] = date.today()\n",
        "df_skills_url = df_skills_url[df_skills_url.columns[new_order]]\n",
        "\n",
        "with pd.ExcelWriter('PortalsKeywordsCountsURL.xlsx') as writer:  \n",
        "    df_skills_url.to_excel(writer, sheet_name='SkillsAnalysisURL')\n",
        "\n"
      ],
      "execution_count": null,
      "outputs": []
    },
    {
      "cell_type": "markdown",
      "metadata": {
        "id": "yo854WVZ9foS"
      },
      "source": [
        "Below steps executes functions against job portals for skills per position as read from input file. Also, Prepare output file from results recieved of counts from portals for skills per first 3 positions( as in input excel) and write to excel file."
      ]
    },
    {
      "cell_type": "code",
      "metadata": {
        "id": "gmU_VlUysPgK",
        "outputId": "314f155f-b5af-471e-a593-8d13b9fcb355",
        "colab": {
          "base_uri": "https://localhost:8080/",
          "height": 853
        }
      },
      "source": [
        "df_skills_r = None\n",
        "Ct = 1\n",
        "\n",
        "for role in search_terms_positions.iloc[0:3,0]:\n",
        "  roleFinal = role\n",
        "  print(roleFinal)\n",
        "  indeed_Skills_listOflist = indeed_analysis(roleFinal,search_terms_skills)\n",
        "  indeed_Skills_list1=indeed_Skills_listOflist[0]\n",
        "  indeed_Skills_list_url1 = indeed_Skills_listOflist[1]\n",
        "\n",
        "  monster_skills_listOflist = monster_analysis(roleFinal,search_terms_skills)    \n",
        "  monster_skills_list1=monster_skills_listOflist[0]\n",
        "  monster_skills_list_url1 = monster_skills_listOflist[1]\n",
        "\n",
        "  careerbuilderjobs_skills_listOflist = careerbuilderjobs_analysis(roleFinal,search_terms_skills)    \n",
        "  careerbuilderjobs_skills_list1=careerbuilderjobs_skills_listOflist[0]\n",
        "  careerbuilderjobs_skills_list_url1 = careerbuilderjobs_skills_listOflist[1]\n",
        "\n",
        "  flexjobs_Skill_listOflist = flexjobs_analysis(roleFinal,search_terms_skills)    \n",
        "  flexjobs_Skill_list1=flexjobs_Skill_listOflist[0]\n",
        "  flexjobs_Skill_list_url1 = flexjobs_Skill_listOflist[1]\n",
        "\n",
        "  simply_skills_listOflist = simplyhired_analysis(roleFinal,search_terms_skills)    \n",
        "  simply_skills_list1=simply_skills_listOflist[0]\n",
        "  simply_skills_list_url1 = simply_skills_listOflist[1]\n",
        "\n",
        "  dice_skills_listOflist = dice_analysis(roleFinal,search_terms_skills)    \n",
        "  dice_skills_list1=dice_skills_listOflist[0]\n",
        "  dice_skills_list_url1 = dice_skills_listOflist[1]\n",
        "\n",
        "  findjobs_skills_listOflist = findjobs_analysis(roleFinal,search_terms_skills)    \n",
        "  findjobs_skills_list1=findjobs_skills_listOflist[0]\n",
        "  findjobs_skills_list_url1 = findjobs_skills_listOflist[1]\n",
        "\n",
        "  usjobsgov_skills_listOflist = usjobsgov_analysis(\"\",search_terms_skills)    \n",
        "  usjobsgov_skills_list1=usjobsgov_skills_listOflist[0]\n",
        "  usjobsgov_skills_list_url1 = usjobsgov_skills_listOflist[1]\n",
        "\n",
        "  #if df_skills_r is None:\n",
        "  df_skills_r = pd.DataFrame(indeed_Skills_list1, index=search_terms_skills.iloc[:,0], columns=['Indeed'])\n",
        "  df_skills_r.rename(index={'':'Data_Skill_r'},inplace=True)\n",
        "  # GARTNER Double Qutoes with postion and skill does not work . df_skills_r['Gartner'] = gartner_skills_list1\n",
        "  df_skills_r['Dice'] = dice_skills_list1\n",
        "  df_skills_r['Monster'] = monster_skills_list1\n",
        "  df_skills_r['SimplyHired'] = simply_skills_list1\n",
        "  #df_skills_r['Glassdoor'] = glassdoor_skills_list1\n",
        "  df_skills_r['flexjobs'] = flexjobs_Skill_list1\n",
        "  df_skills_r['CareerBuilder'] = careerbuilderjobs_skills_list1\n",
        "  df_skills_r['findJobs'] = findjobs_skills_list1\n",
        "  df_skills_r['UsjobsGov'] = usjobsgov_skills_list1\n",
        "  df_skills_r['Date'] = date.today()\n",
        "  new_order = [-1,0,1,2,3,4,5,6,7]\n",
        "  df_skills_r = df_skills_r[df_skills_r.columns[new_order]]\n",
        "  \n",
        "  df_skills_url = pd.DataFrame(indeed_Skills_list_url1, index=search_terms_skills.iloc[:,0], columns=['Indeed'])\n",
        "  df_skills_url.rename(index={'':'Data_Skill_r'},inplace=True)\n",
        "  # GARTNER Double Qutoes with postion and skill does not work .df_skills_url['Gartner'] = gartner_skills_list_url1\n",
        "  df_skills_url['Dice'] = dice_skills_list_url1\n",
        "  df_skills_url['Monster'] = monster_skills_list_url1\n",
        "  df_skills_url['SimplyHired'] = simply_skills_list_url1\n",
        "  #df_skills_url['Glassdoor'] = glassdoor_skills_list\n",
        "  df_skills_url['flexjobs'] = flexjobs_Skill_list_url1\n",
        "  df_skills_url['CareerBuilder'] = careerbuilderjobs_skills_list_url1\n",
        "  df_skills_url['findJobs'] = findjobs_skills_list_url1\n",
        "  df_skills_url['UsjobsGov'] = usjobsgov_skills_list_url1\n",
        "  df_skills_url['Date'] = date.today()\n",
        "  df_skills_url = df_skills_url[df_skills_url.columns[new_order]]\n",
        "  if Ct == 1:\n",
        "    with pd.ExcelWriter('PortalsKeywordsCounts.xlsx',mode='a') as writer:  \n",
        "       df_skills_r.to_excel(writer, sheet_name=roleFinal+'_S')\n",
        "    with pd.ExcelWriter('PortalsKeywordsCountsURL.xlsx',mode='a') as writer:  \n",
        "       df_skills_url.to_excel(writer, sheet_name=roleFinal+'_URL')\n",
        "  else:\n",
        "    with pd.ExcelWriter('PortalsKeywordsCounts.xlsx',mode='a') as writer:  \n",
        "       df_skills_r.to_excel(writer, sheet_name=roleFinal+'_S')\n",
        "    with pd.ExcelWriter('PortalsKeywordsCountsURL.xlsx',mode='a') as writer:  \n",
        "       df_skills_url.to_excel(writer, sheet_name=roleFinal+'_URL')\n",
        "\n",
        "\n",
        "  Ct = Ct+1\n",
        "  #df_skills_r = None\n",
        "\n",
        "\n",
        "\n",
        "\n",
        "  "
      ],
      "execution_count": null,
      "outputs": [
        {
          "output_type": "stream",
          "text": [
            "Data Scientist\n",
            "261\n",
            "681\n",
            "263\n",
            "24\n",
            "17\n",
            "10\n",
            "2,035\n",
            "1,777\n",
            "1,682\n",
            "658\n",
            "1,767\n",
            "901\n",
            "840\n",
            "734\n",
            "683\n",
            "500\n",
            "Data Analyst\n",
            "229\n",
            "452\n",
            "289\n",
            "6\n",
            "10\n",
            "3\n",
            "359\n",
            "2,154\n",
            "1,117\n",
            "1,260\n",
            "1,173\n",
            "266\n",
            "128\n",
            "1,112\n",
            "797\n",
            "398\n",
            "Data Engineer\n",
            "236\n",
            "147\n",
            "584\n",
            "7\n",
            "4\n",
            "704\n",
            "1,808\n",
            "1,374\n",
            "951\n",
            "405\n",
            "1,147\n",
            "1,164\n",
            "461\n",
            "450\n",
            "72\n"
          ],
          "name": "stdout"
        }
      ]
    },
    {
      "cell_type": "markdown",
      "metadata": {
        "id": "2QOYncps98Od"
      },
      "source": [
        "Below steps executes functions against job portals for position as read from input file."
      ]
    },
    {
      "cell_type": "code",
      "metadata": {
        "id": "7xFe0lteHSdC",
        "outputId": "3665561e-2f94-45a6-ccb1-e1be267b6b26",
        "colab": {
          "base_uri": "https://localhost:8080/",
          "height": 134
        }
      },
      "source": [
        "careerbuilderjobs_positions_listOflist = careerbuilderjobs_analysis(\"\",search_terms_positions)    \n",
        "careerbuilderjobs_positions_list=careerbuilderjobs_positions_listOflist[0]\n",
        "careerbuilderjobs_positions_list_url = careerbuilderjobs_positions_listOflist[1]\n",
        "\n",
        "flexjobs_positions_listOflist = flexjobs_analysis(\"\",search_terms_positions)    \n",
        "flexjobs_positions_list=flexjobs_positions_listOflist[0]\n",
        "flexjobs_positions_list_url = flexjobs_positions_listOflist[1]\n",
        "\n",
        "#glassdoor_positions_list = glassdoor_analysis(\"Data\",search_terms_positions)\n",
        "findJobs_positions_listOflist = findjobs_analysis(\"\",search_terms_positions)\n",
        "findjobs_positions_list=findJobs_positions_listOflist[0]\n",
        "findjobs_positions_list_url = findJobs_positions_listOflist[1]\n",
        "\n",
        "gartner_positions_listOflist = gartner_analysis(\"\",search_terms_positions)    \n",
        "gartner_positions_list=gartner_positions_listOflist[0]\n",
        "gartner_positions_list_url = gartner_positions_listOflist[1]\n",
        "\n",
        "indeed_positions_listOflist = indeed_analysis(\"\",search_terms_positions)\n",
        "indeed_positions_list=indeed_positions_listOflist[0]\n",
        "indeed_positions_list_url = indeed_positions_listOflist[1]\n",
        "\n",
        "monster_positions_listOflist = monster_analysis(\"\",search_terms_positions)    \n",
        "monster_positions_list=monster_positions_listOflist[0]\n",
        "monster_positions_list_url = monster_positions_listOflist[1]\n",
        "\n",
        "careerbuilderjobs_positions_listOflist = careerbuilderjobs_analysis(\"\",search_terms_positions)    \n",
        "careerbuilderjobs_positions_list=careerbuilderjobs_positions_listOflist[0]\n",
        "careerbuilderjobs_positions_list_url = careerbuilderjobs_positions_listOflist[1]\n",
        "\n",
        "simply_positions_listOflist = simplyhired_analysis(\"\",search_terms_positions)    \n",
        "simply_positions_list=simply_positions_listOflist[0]\n",
        "simply_positions_list_url = simply_positions_listOflist[1]\n",
        "\n",
        "dice_positions_listOflist = dice_analysis(\"\",search_terms_positions)    \n",
        "dice_positions_list=dice_positions_listOflist[0]\n",
        "dice_positions_list_url = dice_positions_listOflist[1]\n",
        "\n",
        "findjobs_positions_listOflist = findjobs_analysis(\"\",search_terms_positions)    \n",
        "findjobs_positions_list=findjobs_positions_listOflist[0]\n",
        "findjobs_positions_list_url = findjobs_positions_listOflist[1]\n",
        "\n",
        "usjobsgov_positions_listOflist = usjobsgov_analysis(\"\",search_terms_positions)    \n",
        "usjobsgov_positions_list=usjobsgov_positions_listOflist[0]\n",
        "usjobsgov_positions_list_url = usjobsgov_positions_listOflist[1]"
      ],
      "execution_count": null,
      "outputs": [
        {
          "output_type": "stream",
          "text": [
            "3,155\n",
            "4,033\n",
            "2,579\n",
            "890\n",
            "19\n",
            "2\n",
            "1\n"
          ],
          "name": "stdout"
        }
      ]
    },
    {
      "cell_type": "markdown",
      "metadata": {
        "id": "D8g3YQBy99gF"
      },
      "source": [
        "Below steps prepare output file from results recieved of counts from portals for positions and write to excel file."
      ]
    },
    {
      "cell_type": "code",
      "metadata": {
        "id": "jtg9XvDf9Sw7"
      },
      "source": [
        "df_positions = pd.DataFrame(indeed_positions_list, index=search_terms_positions.iloc[:, 0], columns=['Indeed'])\n",
        "df_positions.rename(index={'':'Data_positions'},inplace=True)\n",
        "\n",
        "df_positions_url = pd.DataFrame(indeed_positions_list_url, index=search_terms_positions.iloc[:, 0], columns=['Indeed'])\n",
        "df_positions_url.rename(index={'':'Data_positions url'},inplace=True)\n",
        "\n",
        "\n",
        "\n",
        "df_positions['Gartner'] = gartner_positions_list\n",
        "df_positions['Dice'] = dice_positions_list\n",
        "df_positions['Monster'] = monster_positions_list\n",
        "df_positions['SimplyHired'] = simply_positions_list\n",
        "#df_positions['Glassdoor'] = glassdoor_positions_list\n",
        "df_positions['flexjobs'] = flexjobs_positions_list\n",
        "df_positions['CareerBuilder'] = careerbuilderjobs_positions_list\n",
        "df_positions['findJobs'] = findjobs_positions_list\n",
        "df_positions['UsjobsGov'] = usjobsgov_positions_list\n",
        "df_positions['Date'] = date.today()\n",
        "new_order = [-1,0,1,2,3,4,5,6,7,8] \n",
        "df_positions = df_positions[df_positions.columns[new_order]]\n",
        "\n",
        "df_positions_url['Gartner'] = gartner_positions_list_url\n",
        "df_positions_url['Dice'] = dice_positions_list_url\n",
        "df_positions_url['Monster'] = monster_positions_list_url\n",
        "df_positions_url['SimplyHired'] = simply_positions_list_url\n",
        "#df_positions_url['Glassdoor'] = glassdoor_positions_list\n",
        "df_positions_url['flexjobs'] = flexjobs_positions_list_url\n",
        "df_positions_url['CareerBuilder'] = careerbuilderjobs_positions_list_url\n",
        "df_positions_url['Usjobs'] = findjobs_positions_list_url\n",
        "df_positions_url['UsjobsGov'] = usjobsgov_positions_list_url\n",
        "df_positions_url['Date'] = date.today()\n",
        "df_positions_url = df_positions_url[df_positions_url.columns[new_order]]\n",
        "\n",
        "with pd.ExcelWriter('PortalsKeywordsCounts.xlsx',mode='a') as writer:  \n",
        "    df_positions.to_excel(writer, sheet_name='DataSciencePositionsAnalysis')\n",
        "with pd.ExcelWriter('PortalsKeywordsCountsURL.xlsx',mode='a') as writer:  \n",
        "    df_positions_url.to_excel(writer, sheet_name='DataSciencePositionsAnalysisUrl')\n",
        "\n"
      ],
      "execution_count": null,
      "outputs": []
    },
    {
      "cell_type": "code",
      "metadata": {
        "id": "L2rbA3DWo0jq",
        "outputId": "d0876d86-8415-4fff-9015-815a9e89853e",
        "colab": {
          "base_uri": "https://localhost:8080/",
          "height": 33
        }
      },
      "source": [
        "findjobs_positions_list"
      ],
      "execution_count": null,
      "outputs": [
        {
          "output_type": "execute_result",
          "data": {
            "text/plain": [
              "['150', '72', '131', '74', '3', 0, 0, 0]"
            ]
          },
          "metadata": {
            "tags": []
          },
          "execution_count": 30
        }
      ]
    },
    {
      "cell_type": "markdown",
      "metadata": {
        "id": "TWO_P-RO-PCe"
      },
      "source": [
        "Below steps executes functions against job portals for Badges And Certificates as read from input file."
      ]
    },
    {
      "cell_type": "code",
      "metadata": {
        "id": "BkarLwTwHQsp",
        "outputId": "421fc42a-8e0c-4977-bfdb-c4fc430c47c6",
        "colab": {
          "base_uri": "https://localhost:8080/",
          "height": 100
        }
      },
      "source": [
        "careerbuilder_BC_listOflist = careerbuilderjobs_analysis(\"\",search_terms_BC)\n",
        "careerbuilder_BC_list=careerbuilder_BC_listOflist[0]\n",
        "careerbuilder_BC_list_url = careerbuilder_BC_listOflist[1]\n",
        "\n",
        "flexjobs_BC_listOflist = flexjobs_analysis(\"\",search_terms_BC)\n",
        "flexjobs_BC_list=flexjobs_BC_listOflist[0]\n",
        "flexjobs_BC_list_url = flexjobs_BC_listOflist[1]\n",
        "\n",
        "indeed_BC_listOflist = indeed_analysis(\"\",search_terms_BC)\n",
        "indeed_BC_list=indeed_BC_listOflist[0]\n",
        "indeed_BC_list_url = indeed_BC_listOflist[1]\n",
        "\n",
        "indeed_BC_listOflist = indeed_analysis(\"\",search_terms_BC)\n",
        "indeed_BC_list=indeed_BC_listOflist[0]\n",
        "indeed_BC_list_url = indeed_BC_listOflist[1]\n",
        "\n",
        "monster_BC_listOflist = monster_analysis(\"\",search_terms_BC)    \n",
        "monster_BC_list=monster_BC_listOflist[0]\n",
        "monster_BC_list_url = monster_BC_listOflist[1]\n",
        "\n",
        "gartner_BC_listOflist = gartner_analysis(\"\",search_terms_BC)    \n",
        "gartner_BC_list=gartner_BC_listOflist[0]\n",
        "gartner_BC_list_url = gartner_BC_listOflist[1]\n",
        "\n",
        "simply_BC_listOflist = simplyhired_analysis(\"\",search_terms_BC)    \n",
        "simply_BC_list=simply_BC_listOflist[0]\n",
        "simply_BC_list_url = simply_BC_listOflist[1]\n",
        "\n",
        "dice_BC_listOflist = dice_analysis(\"\",search_terms_BC)    \n",
        "dice_BC_list=dice_BC_listOflist[0]\n",
        "dice_BC_list_url = dice_BC_listOflist[1]\n",
        "\n",
        "findjobs_BC_listOflist = findjobs_analysis(\"\",search_terms_BC)    \n",
        "findjobs_BC_list=findjobs_BC_listOflist[0]\n",
        "findjobs_BC_list_url = findjobs_BC_listOflist[1]\n",
        "\n",
        "usjobsgov_BC_listOflist = usjobsgov_analysis(\"\",search_terms_BC)    \n",
        "usjobsgov_BC_list=usjobsgov_BC_listOflist[0]\n",
        "usjobsgov_BC_list_url = usjobsgov_BC_listOflist[1]\n"
      ],
      "execution_count": null,
      "outputs": [
        {
          "output_type": "stream",
          "text": [
            "4\n",
            "1\n",
            "2\n",
            "77\n",
            "275\n"
          ],
          "name": "stdout"
        }
      ]
    },
    {
      "cell_type": "markdown",
      "metadata": {
        "id": "LW2oewsy-RBm"
      },
      "source": [
        "Below steps prepare output file from results recieved of counts from portals for Badegs and certificates and write to excel file."
      ]
    },
    {
      "cell_type": "code",
      "metadata": {
        "id": "Cn_0AGaW9SkQ"
      },
      "source": [
        "df_BC = pd.DataFrame(indeed_BC_list, index=search_terms_BC.iloc[:, 0], columns=['Indeed '])\n",
        "\n",
        "df_BC.rename(index={'':'Data_BC'},inplace=True)\n",
        "\n",
        "df_BC_url = pd.DataFrame(indeed_BC_list_url, index=search_terms_BC.iloc[:, 0], columns=['Indeed '])\n",
        "\n",
        "df_BC_url.rename(index={'':'Data_BC_url'},inplace=True)\n",
        "\n",
        "df_BC['Dice'] = dice_BC_list\n",
        "df_BC['Gartner'] = gartner_BC_list\n",
        "df_BC['Monster'] = monster_BC_list\n",
        "df_BC['SimplyHired'] = simply_BC_list\n",
        "#df_BC['Glassdoor'] = glassdoor_BC_list\n",
        "df_BC['flexjobs'] = flexjobs_BC_list\n",
        "df_BC['CareerBuilder'] = careerbuilder_BC_list\n",
        "df_BC['findJobs'] = findjobs_BC_list\n",
        "df_BC['Usjobs'] = usjobsgov_BC_list\n",
        "df_BC['Date'] = date.today()\n",
        "new_order = [-1,0,1,2,3,4,5,6,7,8]\n",
        "df_BC = df_BC[df_BC.columns[new_order]]\n",
        "\n",
        "df_BC_url['Gartner'] = gartner_BC_list_url\n",
        "df_BC_url['Dice'] = dice_BC_list_url\n",
        "df_BC_url['Monster'] = monster_BC_list_url\n",
        "df_BC_url['SimplyHired'] = simply_BC_list_url\n",
        "#df_BC_url['Glassdoor'] = glassdoor_BC_list\n",
        "df_BC_url['flexjobs'] = flexjobs_BC_list_url\n",
        "df_BC_url['CareerBuilder'] = careerbuilder_BC_list_url\n",
        "df_BC_url['findJobs'] = findjobs_BC_list_url\n",
        "df_BC_url['Usjobs'] = usjobsgov_BC_list_url\n",
        "df_BC_url['Date'] = date.today()\n",
        "df_BC_url = df_BC_url[df_BC_url.columns[new_order]]\n",
        "\n",
        "with pd.ExcelWriter('PortalsKeywordsCounts.xlsx',mode='a') as writer:  \n",
        "    df_BC.to_excel(writer, sheet_name='DataScienceBCAnalysis')\n",
        "\n",
        "with pd.ExcelWriter('PortalsKeywordsCountsURL.xlsx',mode='a') as writer:  \n",
        "    df_BC_url.to_excel(writer, sheet_name='DataScienceBCAnalysisUrl')"
      ],
      "execution_count": null,
      "outputs": []
    },
    {
      "cell_type": "markdown",
      "metadata": {
        "id": "1I0bPcgC-moN"
      },
      "source": [
        "Download xlsx in computer"
      ]
    },
    {
      "cell_type": "code",
      "metadata": {
        "id": "8kn1Xa5LgT-H",
        "outputId": "6855e80b-3b03-485b-b920-b6684c7eeb60",
        "colab": {
          "base_uri": "https://localhost:8080/",
          "height": 17
        }
      },
      "source": [
        "from google.colab import files\n",
        "files.download('PortalsKeywordsCounts.xlsx')\n",
        "\n",
        "from google.colab import files\n",
        "files.download('PortalsKeywordsCountsURL.xlsx')"
      ],
      "execution_count": null,
      "outputs": [
        {
          "output_type": "display_data",
          "data": {
            "application/javascript": [
              "\n",
              "    async function download(id, filename, size) {\n",
              "      if (!google.colab.kernel.accessAllowed) {\n",
              "        return;\n",
              "      }\n",
              "      const div = document.createElement('div');\n",
              "      const label = document.createElement('label');\n",
              "      label.textContent = `Downloading \"${filename}\": `;\n",
              "      div.appendChild(label);\n",
              "      const progress = document.createElement('progress');\n",
              "      progress.max = size;\n",
              "      div.appendChild(progress);\n",
              "      document.body.appendChild(div);\n",
              "\n",
              "      const buffers = [];\n",
              "      let downloaded = 0;\n",
              "\n",
              "      const channel = await google.colab.kernel.comms.open(id);\n",
              "      // Send a message to notify the kernel that we're ready.\n",
              "      channel.send({})\n",
              "\n",
              "      for await (const message of channel.messages) {\n",
              "        // Send a message to notify the kernel that we're ready.\n",
              "        channel.send({})\n",
              "        if (message.buffers) {\n",
              "          for (const buffer of message.buffers) {\n",
              "            buffers.push(buffer);\n",
              "            downloaded += buffer.byteLength;\n",
              "            progress.value = downloaded;\n",
              "          }\n",
              "        }\n",
              "      }\n",
              "      const blob = new Blob(buffers, {type: 'application/binary'});\n",
              "      const a = document.createElement('a');\n",
              "      a.href = window.URL.createObjectURL(blob);\n",
              "      a.download = filename;\n",
              "      div.appendChild(a);\n",
              "      a.click();\n",
              "      div.remove();\n",
              "    }\n",
              "  "
            ],
            "text/plain": [
              "<IPython.core.display.Javascript object>"
            ]
          },
          "metadata": {
            "tags": []
          }
        },
        {
          "output_type": "display_data",
          "data": {
            "application/javascript": [
              "download(\"download_cc93785d-9833-4b2e-a9b4-1206e6d73a52\", \"PortalsKeywordsCounts.xlsx\", 13809)"
            ],
            "text/plain": [
              "<IPython.core.display.Javascript object>"
            ]
          },
          "metadata": {
            "tags": []
          }
        },
        {
          "output_type": "display_data",
          "data": {
            "application/javascript": [
              "\n",
              "    async function download(id, filename, size) {\n",
              "      if (!google.colab.kernel.accessAllowed) {\n",
              "        return;\n",
              "      }\n",
              "      const div = document.createElement('div');\n",
              "      const label = document.createElement('label');\n",
              "      label.textContent = `Downloading \"${filename}\": `;\n",
              "      div.appendChild(label);\n",
              "      const progress = document.createElement('progress');\n",
              "      progress.max = size;\n",
              "      div.appendChild(progress);\n",
              "      document.body.appendChild(div);\n",
              "\n",
              "      const buffers = [];\n",
              "      let downloaded = 0;\n",
              "\n",
              "      const channel = await google.colab.kernel.comms.open(id);\n",
              "      // Send a message to notify the kernel that we're ready.\n",
              "      channel.send({})\n",
              "\n",
              "      for await (const message of channel.messages) {\n",
              "        // Send a message to notify the kernel that we're ready.\n",
              "        channel.send({})\n",
              "        if (message.buffers) {\n",
              "          for (const buffer of message.buffers) {\n",
              "            buffers.push(buffer);\n",
              "            downloaded += buffer.byteLength;\n",
              "            progress.value = downloaded;\n",
              "          }\n",
              "        }\n",
              "      }\n",
              "      const blob = new Blob(buffers, {type: 'application/binary'});\n",
              "      const a = document.createElement('a');\n",
              "      a.href = window.URL.createObjectURL(blob);\n",
              "      a.download = filename;\n",
              "      div.appendChild(a);\n",
              "      a.click();\n",
              "      div.remove();\n",
              "    }\n",
              "  "
            ],
            "text/plain": [
              "<IPython.core.display.Javascript object>"
            ]
          },
          "metadata": {
            "tags": []
          }
        },
        {
          "output_type": "display_data",
          "data": {
            "application/javascript": [
              "download(\"download_0b0afae2-356b-4027-b1e9-d0fbebf54ecc\", \"PortalsKeywordsCountsURL.xlsx\", 15856)"
            ],
            "text/plain": [
              "<IPython.core.display.Javascript object>"
            ]
          },
          "metadata": {
            "tags": []
          }
        }
      ]
    }
  ]
}
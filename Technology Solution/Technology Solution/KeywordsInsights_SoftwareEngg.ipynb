{
  "nbformat": 4,
  "nbformat_minor": 0,
  "metadata": {
    "colab": {
      "name": "KeywordsInsights_SoftwareEngg.ipynb",
      "provenance": [],
      "collapsed_sections": []
    },
    "kernelspec": {
      "name": "python3",
      "display_name": "Python 3"
    }
  },
  "cells": [
    {
      "cell_type": "markdown",
      "metadata": {
        "id": "YSDHB6XWUfk_"
      },
      "source": [
        "The workforce in new emerging technologies are using\n",
        "disruptive approaches to win the best jobs, ones with high pay\n",
        "and with good work life balance. This utility will provide real time analytics on how innovative the workforce is when trying to show that they are\n",
        "right for the job, especially in the brand new subjects.This real time analystics solution will bring insights on most sought after skills, badges and certifications in the field of Software Engineering, Cybersecurity and Data\n",
        "Science and showcase real time analytic of similar skills from\n",
        "leading job portals focusing on what measures of talent are\n",
        "highly valued by the tech industry today.\n",
        "\n",
        "\n",
        "\n"
      ]
    },
    {
      "cell_type": "markdown",
      "metadata": {
        "id": "IQIWIVLf63Jt"
      },
      "source": [
        "\n",
        "\n",
        "> STEPS\n",
        "\n",
        "---\n",
        "\n",
        "\n",
        "\n",
        "\n",
        "\n",
        "\n"
      ]
    },
    {
      "cell_type": "markdown",
      "metadata": {
        "id": "rCcv4QRE6bqG"
      },
      "source": [
        "Below step will request you to upload keywords file named \"PaceKeywords.xlsx\" from your machine. Make sure that you have three tabs in excel named \"Software_BadgeAndCert\",\"Software_Skill\",\"Software_Positions\""
      ]
    },
    {
      "cell_type": "code",
      "metadata": {
        "id": "sIGQblS7qJTd",
        "outputId": "daf3e06a-f079-4166-a882-d00777a7c08d",
        "colab": {
          "resources": {
            "http://localhost:8080/nbextensions/google.colab/files.js": {
              "data": "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",
              "ok": true,
              "headers": [
                [
                  "content-type",
                  "application/javascript"
                ]
              ],
              "status": 200,
              "status_text": ""
            }
          },
          "base_uri": "https://localhost:8080/",
          "height": 73
        }
      },
      "source": [
        "from google.colab import files\n",
        "!rm PaceKeywords.xlsx\n",
        "uploaded = files.upload()"
      ],
      "execution_count": null,
      "outputs": [
        {
          "output_type": "display_data",
          "data": {
            "text/html": [
              "\n",
              "     <input type=\"file\" id=\"files-ae0cc8b9-62d2-4726-bb9b-510962624528\" name=\"files[]\" multiple disabled\n",
              "        style=\"border:none\" />\n",
              "     <output id=\"result-ae0cc8b9-62d2-4726-bb9b-510962624528\">\n",
              "      Upload widget is only available when the cell has been executed in the\n",
              "      current browser session. Please rerun this cell to enable.\n",
              "      </output>\n",
              "      <script src=\"/nbextensions/google.colab/files.js\"></script> "
            ],
            "text/plain": [
              "<IPython.core.display.HTML object>"
            ]
          },
          "metadata": {
            "tags": []
          }
        },
        {
          "output_type": "stream",
          "text": [
            "Saving PaceKeywords.xlsx to PaceKeywords.xlsx\n"
          ],
          "name": "stdout"
        }
      ]
    },
    {
      "cell_type": "markdown",
      "metadata": {
        "id": "verrTnbsSnFo"
      },
      "source": [
        "Prerequisite: Below steps installs Selenium , imports python libraries and set up chrome driver for utility "
      ]
    },
    {
      "cell_type": "code",
      "metadata": {
        "id": "IfZ2g34nc0Fv",
        "outputId": "8b2375ad-8dee-4127-c9a8-2fc579b3912f",
        "colab": {
          "base_uri": "https://localhost:8080/",
          "height": 50
        }
      },
      "source": [
        "pip install selenium\n"
      ],
      "execution_count": null,
      "outputs": [
        {
          "output_type": "stream",
          "text": [
            "Requirement already satisfied: selenium in /usr/local/lib/python3.6/dist-packages (3.141.0)\n",
            "Requirement already satisfied: urllib3 in /usr/local/lib/python3.6/dist-packages (from selenium) (1.24.3)\n"
          ],
          "name": "stdout"
        }
      ]
    },
    {
      "cell_type": "code",
      "metadata": {
        "id": "KY6fu9pJMxZ_"
      },
      "source": [
        "# Import necessary libraries\n",
        "import pandas as pd\n",
        "import numpy as np\n",
        "from bs4 import BeautifulSoup as bs\n",
        "import requests\n",
        "import matplotlib.pyplot as plt\n",
        "import openpyxl as pxl"
      ],
      "execution_count": null,
      "outputs": []
    },
    {
      "cell_type": "code",
      "metadata": {
        "id": "A0_8cqQZc79M"
      },
      "source": [
        "from selenium import webdriver\n",
        "from selenium.webdriver.common.keys import Keys\n",
        "import time"
      ],
      "execution_count": null,
      "outputs": []
    },
    {
      "cell_type": "code",
      "metadata": {
        "id": "JePVdW47dNQE",
        "outputId": "e0fbf337-3883-4757-8e3c-88d84df07b8c",
        "colab": {
          "base_uri": "https://localhost:8080/",
          "height": 334
        }
      },
      "source": [
        "!apt-get update # to update ubuntu to correctly run apt install\n",
        "!apt install chromium-chromedriver\n",
        "!cp /usr/lib/chromium-browser/chromedriver /usr/bin\n",
        "import sys\n",
        "sys.path.insert(0,'/usr/lib/chromium-browser/chromedriver')\n",
        "from selenium import webdriver\n",
        "chrome_options = webdriver.ChromeOptions()\n",
        "chrome_options.add_argument('--headless')\n",
        "chrome_options.add_argument('--no-sandbox')\n",
        "chrome_options.add_argument('--disable-dev-shm-usage')\n",
        "\n"
      ],
      "execution_count": null,
      "outputs": [
        {
          "output_type": "stream",
          "text": [
            "\r0% [Working]\r            \rGet:1 http://security.ubuntu.com/ubuntu bionic-security InRelease [88.7 kB]\n",
            "\r0% [Connecting to archive.ubuntu.com (91.189.88.142)] [1 InRelease 14.2 kB/88.7\r                                                                               \rIgn:2 https://developer.download.nvidia.com/compute/cuda/repos/ubuntu1804/x86_64  InRelease\n",
            "\r0% [Waiting for headers] [1 InRelease 88.7 kB/88.7 kB 100%] [Connected to cloud\r0% [Waiting for headers] [Connected to cloud.r-project.org (13.32.85.106)] [Wai\r0% [1 InRelease gpgv 88.7 kB] [Waiting for headers] [Connected to cloud.r-proje\r                                                                               \rHit:3 https://cloud.r-project.org/bin/linux/ubuntu bionic-cran40/ InRelease\n",
            "\r0% [1 InRelease gpgv 88.7 kB] [Waiting for headers] [Waiting for headers] [Wait\r                                                                               \rIgn:4 https://developer.download.nvidia.com/compute/machine-learning/repos/ubuntu1804/x86_64  InRelease\n",
            "\r                                                                               \r0% [1 InRelease gpgv 88.7 kB] [Waiting for headers] [Waiting for headers]\r                                                                         \rHit:5 http://ppa.launchpad.net/c2d4u.team/c2d4u4.0+/ubuntu bionic InRelease\n",
            "\r0% [1 InRelease gpgv 88.7 kB] [Waiting for headers] [Waiting for headers]\r                                                                         \rHit:6 http://archive.ubuntu.com/ubuntu bionic InRelease\n",
            "Hit:7 https://developer.download.nvidia.com/compute/cuda/repos/ubuntu1804/x86_64  Release\n",
            "Hit:8 https://developer.download.nvidia.com/compute/machine-learning/repos/ubuntu1804/x86_64  Release\n",
            "Get:9 http://archive.ubuntu.com/ubuntu bionic-updates InRelease [88.7 kB]\n",
            "Hit:10 http://ppa.launchpad.net/graphics-drivers/ppa/ubuntu bionic InRelease\n",
            "Get:11 http://archive.ubuntu.com/ubuntu bionic-backports InRelease [74.6 kB]\n",
            "Fetched 252 kB in 2s (116 kB/s)\n",
            "Reading package lists... Done\n",
            "Reading package lists... Done\n",
            "Building dependency tree       \n",
            "Reading state information... Done\n",
            "chromium-chromedriver is already the newest version (85.0.4183.121-0ubuntu0.18.04.1).\n",
            "0 upgraded, 0 newly installed, 0 to remove and 22 not upgraded.\n",
            "cp: '/usr/lib/chromium-browser/chromedriver' and '/usr/bin/chromedriver' are the same file\n"
          ],
          "name": "stdout"
        }
      ]
    },
    {
      "cell_type": "code",
      "metadata": {
        "id": "UBXDIVYATP5w"
      },
      "source": [
        "from selenium.webdriver.support.ui import WebDriverWait\n",
        "from selenium.webdriver.support import expected_conditions as EC\n",
        "from selenium.webdriver.common.by import By\n",
        "from selenium.common.exceptions import TimeoutException\n",
        "from datetime import date"
      ],
      "execution_count": null,
      "outputs": []
    },
    {
      "cell_type": "markdown",
      "metadata": {
        "id": "BS7mk9LvUE1V"
      },
      "source": [
        "Set Up header for HTTPRequest to be used for most of requests to Job portals"
      ]
    },
    {
      "cell_type": "code",
      "metadata": {
        "id": "0Q_qoaEcUQv7"
      },
      "source": [
        "header = {  \"User-Agent\": \"Mozilla/5.0 (X11; Linux x86_64) AppleWebKit/537.36 (KHTML, like Gecko) Chrome/50.0.2661.75 Safari/537.36\",  \"X-Requested-With\": \"XMLHttpRequest\"}\n",
        "\n"
      ],
      "execution_count": null,
      "outputs": []
    },
    {
      "cell_type": "markdown",
      "metadata": {
        "id": "uIeM75gUsbHd"
      },
      "source": [
        "Function to loadSheet named \"PaceKeywords.xlsx' into python dataframe. Function expects xlsx extension file. An attempt to load another extension file can give errors"
      ]
    },
    {
      "cell_type": "code",
      "metadata": {
        "id": "UROYxlzYqSf2"
      },
      "source": [
        "import io\n",
        "def loadSheet(sheet_name):\n",
        "  search_terms = pd.read_excel(io.BytesIO(uploaded['PaceKeywords.xlsx']),sheet_name=sheet_name)\n",
        "  return search_terms\n"
      ],
      "execution_count": null,
      "outputs": []
    },
    {
      "cell_type": "markdown",
      "metadata": {
        "id": "cUCefIt9U6-T"
      },
      "source": [
        "Function to analyse indeed job portal using HTTP GET Request. This function would require maintainence if underlying structure of site is changed or any additional restrictions are implemented by Indeed. "
      ]
    },
    {
      "cell_type": "code",
      "metadata": {
        "id": "4EQeuaPf436b"
      },
      "source": [
        "def indeed_analysis(sheet_name,search_terms_p):\n",
        "  search_terms = search_terms_p\n",
        "  indeed_list = []\n",
        "  indeed_list_urls = []\n",
        "  \n",
        "  search_terms.iloc[:, 0] = search_terms.iloc[:, 0].str.strip('[]')\n",
        "\n",
        "  for term in search_terms.iloc[:, 0]:\n",
        "      term = term.replace(\" \",\"%20\")\n",
        "      term = \"\\\"\"+term+\"\\\"\"\n",
        "      if sheet_name == \"\":\n",
        "        url = f'https://www.indeed.com/jobs?q={term}&l=United%20States&vjk=ea8b83a76166217a'\n",
        "      else:\n",
        "        sheet_namech = sheet_name.replace(\" \",\"%20\")\n",
        "        sheet_namech = \"\\\"\"+sheet_namech+\"\\\"\"\n",
        "        url = f'https://www.indeed.com/jobs?q={sheet_namech}%20{term}&l=United%20States&vjk=ea8b83a76166217a'\n",
        "      indeed_list_urls.append(url)\n",
        "      try:\n",
        "          r = requests.get(url, headers=header, timeout=10)\n",
        "          soup = bs(r.text, 'html.parser')\n",
        "          count_str = soup.find('div', id=\"searchCountPages\").get_text()\n",
        "          numb = count_str.split()\n",
        "          indeed_list.append(numb[-2])\n",
        "      except Exception as e:\n",
        "          #print(f'error: {e}')\n",
        "          indeed_list.append(0)\n",
        "  return [indeed_list,indeed_list_urls]\n"
      ],
      "execution_count": null,
      "outputs": []
    },
    {
      "cell_type": "markdown",
      "metadata": {
        "id": "3G6ifJ9YVfBx"
      },
      "source": [
        "Function to analyse monster job portal using HTTP GET Request. This function would require maintainence if underlying structure of site is changed or any additional restrictions are implemented by Monster. "
      ]
    },
    {
      "cell_type": "code",
      "metadata": {
        "id": "eNrxS2u5ZI9C"
      },
      "source": [
        "def monster_analysis(sheet_name,search_terms_p):\n",
        "  monster_list = []\n",
        "  monster_list_urls = []\n",
        "  search_terms = search_terms_p\n",
        "  search_terms.iloc[:, 0] = search_terms.iloc[:, 0].str.strip('[]')\n",
        "  search_terms.iloc[:, 0] = search_terms.replace(' ', '-', regex=True)\n",
        "\n",
        "  for term in search_terms.iloc[:, 0]:\n",
        "      #print(term)\n",
        "      term = term.replace(\" \",\"%20\")\n",
        "      #term = \"\\\"\"+term+\"\\\"\"\n",
        "      if sheet_name == \"\":\n",
        "        url1 = f'https://www.monster.com/jobs/search/?q=__22{term}__22&where=USA'\n",
        "        url2 = f'https://www.monster.com/jobs/search/?q=__27{term}__27&where=USA'\n",
        "      else:\n",
        "        sheet_namech = sheet_name.replace(\" \",\"%20\")\n",
        "        url1 = f'https://www.monster.com/jobs/search/?q=__22{sheet_namech}__22-__22{term}__22&where=USA'\n",
        "        url2 = f'https://www.monster.com/jobs/search/?q=__27{sheet_namech}__27-__27{term}__27&where=USA'\n",
        "      monster_list_urls.append(url1)\n",
        "      try:\n",
        "          r = requests.get(url1, headers=header, timeout=5)\n",
        "          soup = bs(r.text, 'html.parser')\n",
        "          count_str = soup.find('h2', class_=\"figure\").get_text()\n",
        "        # print(count_str)\n",
        "          numb = count_str.split()\n",
        "          monster_count = numb[0].replace(\"(\", \"\")\n",
        "          monster_list.append(monster_count)\n",
        "      except Exception as e:\n",
        "      #   print(f'error: {e}')\n",
        "          monster_list.append(0)\n",
        "  return [monster_list,monster_list_urls]\n"
      ],
      "execution_count": null,
      "outputs": []
    },
    {
      "cell_type": "markdown",
      "metadata": {
        "id": "c8ZNksgTXWpa"
      },
      "source": [
        "Function to analyse Simply Hired job portal using HTTP GET Request. This function would require maintainence if underlying structure of site is changed or any additional restrictions are implemented by Simply Hired. "
      ]
    },
    {
      "cell_type": "code",
      "metadata": {
        "id": "X_TMxN5BaOrq"
      },
      "source": [
        "def simplyhired_analysis(sheet_name,search_terms_p):\n",
        "  simply_list = []\n",
        "  simply_list_url = []\n",
        "  search_terms = search_terms_p\n",
        "  search_terms.iloc[:, 0] = search_terms.iloc[:, 0].str.strip('[]')\n",
        "\n",
        "  for term in search_terms.iloc[:, 0]:\n",
        "      term = term.replace(\" \",\"%20\")\n",
        "      term = \"\\\"\"+term+\"\\\"\"\n",
        "      if sheet_name == \"\":\n",
        "        url = f'https://www.simplyhired.com/search?q={term}&l=United+States'\n",
        "      else:\n",
        "        sheet_namech = sheet_name.replace(\" \",\"%20\")\n",
        "        sheet_namech = \"\\\"\"+sheet_namech+\"\\\"\"\n",
        "        url = f'https://www.simplyhired.com/search?q={sheet_namech}+{term}&l=United+States'\n",
        "      simply_list_url.append(url)\n",
        "      try:\n",
        "          r = requests.get(url, headers=header, timeout=5)\n",
        "          soup = bs(r.text, 'html.parser')\n",
        "          count_str = soup.find('span', class_=\"CategoryPath-total\").get_text()\n",
        "          #print(count_str)\n",
        "          simply_list.append(count_str.replace(',',''))\n",
        "      except Exception as e:\n",
        "          #print(f'error: {e}')\n",
        "          simply_list.append(0)\n",
        "  return [simply_list,simply_list_url]\n",
        "\n"
      ],
      "execution_count": null,
      "outputs": []
    },
    {
      "cell_type": "markdown",
      "metadata": {
        "id": "L2mOyBqGVurQ"
      },
      "source": [
        "Function to analyse Gartner job portal using Selenium API. This function would require maintainence if underlying structure of site is changed or any additional restrictions are implemented by Gartner. "
      ]
    },
    {
      "cell_type": "code",
      "metadata": {
        "id": "PQtMVclrU8_-"
      },
      "source": [
        "def gartner_analysis(sheet_name,search_terms_p):\n",
        "  gartner_list = []\n",
        "  gartner_list_url = []\n",
        "  search_terms=search_terms_p\n",
        "  search_terms.iloc[:, 0] = search_terms.iloc[:, 0].str.strip('[]')\n",
        "\n",
        "  for term in search_terms.iloc[:, 0]:\n",
        "      term = term.replace(\" \",\"%20\")\n",
        "      if sheet_name == \"\":\n",
        "        url = f'https://jobs.gartner.com/search-jobs/{term}/United%20States/494/1/2/6252001/39x7599983215332/-98x5/50/2'\n",
        "      else:\n",
        "        sheet_namech = sheet_name.replace(\" \",\"%20\")\n",
        "        url = f'https://jobs.gartner.com/search-jobs/{sheet_namech}%20{term}/United%20States/494/1/2/6252001/39x7599983215332/-98x5/50/2'\n",
        "      gartner_list_url.append(url)\n",
        "      try:\n",
        "          wd = webdriver.Chrome('chromedriver',options=chrome_options)\n",
        "          r = wd.get(url)\n",
        "          #print(r)\n",
        "          count_str = (wd.find_elements_by_class_name(\"results-count-heading\"))[0].text\n",
        "          #print(count_str)\n",
        "          numb = count_str.split()\n",
        "          gartner_list.append(numb[-2])\n",
        "      except Exception as e:\n",
        "          #print(f'error: {e}')\n",
        "          gartner_list.append(0)\n",
        "  return [gartner_list,gartner_list_url]\n",
        "        \n"
      ],
      "execution_count": null,
      "outputs": []
    },
    {
      "cell_type": "markdown",
      "metadata": {
        "id": "GLiaquL3V3Sm"
      },
      "source": [
        "Function to analyse Dice job portal using Selenium API. This function would require maintainence if underlying structure of site is changed or any additional restrictions are implemented by Dice. "
      ]
    },
    {
      "cell_type": "code",
      "metadata": {
        "id": "-ZQq3Uxg5zuW"
      },
      "source": [
        "def dice_analysis(sheet_name,search_terms_p):\n",
        "  dice_list = []\n",
        "  dice_list_url = []\n",
        "  search_terms = search_terms_p\n",
        "  search_terms.iloc[0:2, 0] = search_terms.iloc[:, 0].str.strip('[]')\n",
        "  #print(\"test\")\n",
        "  for term in search_terms.iloc[:, 0]:\n",
        "      term = term.replace(\" \",\"%20\")\n",
        "      term = \"\\\"\"+term+\"\\\"\"\n",
        "      if sheet_name == \"\":\n",
        "          url = f'https://www.dice.com/jobs?q={term}&location=United%20States'\n",
        "      else:\n",
        "         sheet_namech = sheet_name.replace(\" \",\"%20\")\n",
        "         sheet_namech = \"\\\"\"+sheet_namech+\"\\\"\"\n",
        "         url = f'https://www.dice.com/jobs?q={sheet_namech}%20{term}&location=United%20States'\n",
        "      dice_list_url.append(url)\n",
        "      timeout = 5\n",
        "      try:\n",
        "       wd = webdriver.Chrome('chromedriver',options=chrome_options)\n",
        "       wd.get(url)\n",
        "       element_present = EC.presence_of_element_located((By.ID, 'totalJobCount'))\n",
        "       WebDriverWait(wd, timeout).until(element_present)\n",
        "       count_str = (wd.find_element_by_id(\"totalJobCount\")).get_attribute(\"innerText\")\n",
        "       numb = count_str.replace(\",\", \"\");\n",
        "       dice_list.append(numb)\n",
        "      except Exception as e:\n",
        "        #print(f'error: {e}')\n",
        "        dice_list.append(0)\n",
        "  return [dice_list,dice_list_url]\n",
        "\n",
        "       \n"
      ],
      "execution_count": null,
      "outputs": []
    },
    {
      "cell_type": "markdown",
      "metadata": {
        "id": "Tg04KX2TV6HD"
      },
      "source": [
        "Function to analyse Glassdoor job portal using Selenium API. This function would require maintainence if underlying structure of site is changed or any additional restrictions are implemented by Glassdoor. "
      ]
    },
    {
      "cell_type": "code",
      "metadata": {
        "id": "PEdzU6pEreVc"
      },
      "source": [
        "def glassdoor_analysis(sheet_name,search_terms_p):\n",
        "  glassdoor_list = []\n",
        "  glassdoor_list_url = []\n",
        "  search_terms = search_terms_p\n",
        "  search_terms.iloc[0:2, 0] = search_terms.iloc[:, 0].str.strip('[]')\n",
        "  #print(\"test\")\n",
        "  for term in search_terms.iloc[:, 0]:\n",
        "      term = term.replace(\" \",\"+\")\n",
        "      term = \"\\\"\"+term+\"\\\"\"\n",
        "      if sheet_name == \"\":\n",
        "          #url = f'https://www.glassdoor.com/Job/jobs.htm?suggestCount=0&suggestChosen=false&clickSource=searchBtn&typedKeyword=%22{term}%22&locT=N&locId=1&jobType=&context=Jobs&sc.keyword=%22{term}%22&dropdown=0\n",
        "          url = f'https://www.glassdoor.com/Job/jobs.htm?suggestCount=0&suggestChosen=false&clickSource=searchBtn&typedKeyword={term}&sc.keyword={term}&locT=N&locId=1'\n",
        "      else:\n",
        "         sheet_namech = sheet_name.replace(\" \",\"+\")\n",
        "         sheet_namech = \"\\\"\"+sheet_namech+\"\\\"\"\n",
        "         url = f'https://www.glassdoor.com/Job/jobs.htm?suggestCount=0&suggestChosen=false&clickSource=searchBtn&typedKeyword={sheet_namech}+{term}&sc.keyword={sheet_namech}+{term}&locT=N&locId=1'\n",
        "      glassdoor_list_url.append(url)\n",
        "      timeout = 5\n",
        "      try:\n",
        "        wd = webdriver.Chrome('chromedriver',options=chrome_options)\n",
        "        wd.get(url)\n",
        "        count_str = (wd.find_element_by_xpath(\"//div[@class='hideHH css-19rczgc e15r6eig0']\")).get_attribute(\"innerText\")\n",
        "        numb_split = count_str.split()\n",
        "        numb = numb_split[0].replace(\",\", \"\")\n",
        "        glassdoor_list.append(numb)\n",
        "      except Exception as e:\n",
        "        #print(f'error: {e}')\n",
        "        glassdoor_list.append(0)\n",
        "  return [glassdoor_list,glassdoor_list_url]\n",
        "\n",
        "       \n"
      ],
      "execution_count": null,
      "outputs": []
    },
    {
      "cell_type": "markdown",
      "metadata": {
        "id": "eAVCjxtlV_Ge"
      },
      "source": [
        "Function to analyse careerbuilder job portal using Selenium API. This function would require maintainence if underlying structure of site is changed or any additional restrictions are implemented by careerbuilder."
      ]
    },
    {
      "cell_type": "code",
      "metadata": {
        "id": "nhwkfOVSD2X-"
      },
      "source": [
        "def careerbuilderjobs_analysis(sheet_name,search_terms_p):\n",
        "  careerbuilderjobs_list = []\n",
        "  careerbuilderjobs_list_url = []\n",
        "  search_terms = search_terms_p\n",
        "  search_terms.iloc[0:2, 0] = search_terms.iloc[:, 0].str.strip('[]')\n",
        "  #print(\"test\")\n",
        "  for term in search_terms.iloc[:, 0]:\n",
        "      term = term.replace(\" \",\"%20\")\n",
        "      term = \"\\\"\"+term+\"\\\"\"\n",
        "      if sheet_name == \"\":\n",
        "        url = f'https://www.careerbuilder.com/jobs?utf8=%E2%9C%93&keywords={term}&location=United+States'\n",
        "      else:\n",
        "        sheet_namech = sheet_name.replace(\" \",\"%20\")\n",
        "        sheet_namech = \"\\\"\"+sheet_namech+\"\\\"\" \n",
        "        url = f'https://www.careerbuilder.com/jobs?utf8=%E2%9C%93&keywords={sheet_namech}+{term}&location=United+States'\n",
        "      careerbuilderjobs_list_url.append(url)\n",
        "      timeout = 5\n",
        "      try:\n",
        "        wd = webdriver.Chrome('chromedriver',options=chrome_options)\n",
        "        wd.get(url)\n",
        "        count_str = (wd.find_element_by_xpath(\"//h1[@class='fz1rem']\")).get_attribute(\"innerText\")\n",
        "        numb_split = count_str.split()\n",
        "        for i in numb_split:\n",
        "          numb = i.replace(\",\", \"\")\n",
        "          if numb.isdigit():\n",
        "            careerbuilderjobs_list.append(numb)\n",
        "            break\n",
        "      except Exception as e:\n",
        "        #print(f'error: {e}')\n",
        "        careerbuilderjobs_list.append(0)\n",
        "  return [careerbuilderjobs_list,careerbuilderjobs_list_url]\n",
        "\n",
        "       \n"
      ],
      "execution_count": null,
      "outputs": []
    },
    {
      "cell_type": "markdown",
      "metadata": {
        "id": "cO0KcVzPWIQw"
      },
      "source": [
        "Function to analyse flexjobs job portal using Selenium API. This function would require maintainence if underlying structure of site is changed or any additional restrictions are implemented by flexjobs."
      ]
    },
    {
      "cell_type": "code",
      "metadata": {
        "id": "9zKdfxP-_wkl"
      },
      "source": [
        "def flexjobs_analysis(sheet_name,search_terms_p):\n",
        "  flexjobs_list = []\n",
        "  flexjobs_list_url=[]\n",
        "  search_terms = search_terms_p\n",
        "  search_terms.iloc[0:2, 0] = search_terms.iloc[:, 0].str.strip('[]')\n",
        "  #print(\"test\")\n",
        "  for term in search_terms.iloc[:, 0]:\n",
        "      term = term.replace(\" \",\"%20\")\n",
        "      term = \"\\\"\"+term+\"\\\"\"\n",
        "      if sheet_name == \"\":\n",
        "        url = f'https://www.flexjobs.com/search?search=&search={term}&location=United+States'\n",
        "      else:\n",
        "        sheet_namech = sheet_name.replace(\" \",\"%20\")\n",
        "        sheet_namech = \"\\\"\"+sheet_namech+\"\\\"\"\n",
        "        url = f'https://www.flexjobs.com/search?search=&search={sheet_namech}+{term}&location=United+States' \n",
        "      flexjobs_list_url.append(url)\n",
        "      timeout = 5\n",
        "      try:\n",
        "        wd = webdriver.Chrome('chromedriver',options=chrome_options)\n",
        "        wd.get(url)\n",
        "        count_str = (wd.find_element_by_xpath(\"//h4[@style='margin:0;font-size:14px;']\")).get_attribute(\"innerText\")\n",
        "        numb_split = count_str.split(\"of\")[1].split(\"for\")\n",
        "        numb = numb_split[0].replace(\",\", \"\")\n",
        "        flexjobs_list.append(numb)\n",
        "      except Exception as e:\n",
        "        #print(f'error: {e}')\n",
        "        flexjobs_list.append(0)\n",
        "  return [flexjobs_list,flexjobs_list_url]\n",
        "\n",
        "       \n"
      ],
      "execution_count": null,
      "outputs": []
    },
    {
      "cell_type": "markdown",
      "metadata": {
        "id": "ghiC0K_DWO_U"
      },
      "source": [
        "Function to analyse find.jobs job portal using Selenium. This function would require maintainence if underlying structure of site is changed or any additional restrictions are implemented by Find.jobs."
      ]
    },
    {
      "cell_type": "code",
      "metadata": {
        "id": "-PuBIWRkXAAI"
      },
      "source": [
        "def findjobs_analysis(sheet_name,search_terms_p):\n",
        "  usjobs_list = []\n",
        "  usjobs_list_url =[]\n",
        "  search_terms = search_terms_p\n",
        "  search_terms.iloc[0:2, 0] = search_terms.iloc[:, 0].str.strip('[]')\n",
        "  #print(\"test\")\n",
        "  for term in search_terms.iloc[:, 0]:\n",
        "      term = term.replace(\" \",\"%20\")\n",
        "      term = \"\\\"\"+term+\"\\\"\"\n",
        "      if sheet_name == \"\":\n",
        "        url = f'https://find.jobs/jobs-near-me/job-search-results/kw-{term}/co-226/'\n",
        "      else:\n",
        "        sheet_namech = sheet_name.replace(\" \",\"%20\")\n",
        "        sheet_namech = \"\\\"\"+sheet_namech+\"\\\"\"\n",
        "        url = f'https://find.jobs/jobs-near-me/job-search-results/kw-{sheet_namech}-{term}/co-226/'\n",
        "      usjobs_list_url.append(url)\n",
        "      timeout = 5\n",
        "      try:\n",
        "        wd = webdriver.Chrome('chromedriver',options=chrome_options)\n",
        "        wd.get(url)\n",
        "        count_str = (wd.find_element_by_xpath(\"//p[@class='results-count']\")).get_attribute(\"innerText\")\n",
        "        numb_split = count_str.split(\" \")[3]\n",
        "        numb = numb_split.replace(\",\", \"\")\n",
        "        usjobs_list.append(numb)\n",
        "      except Exception as e:\n",
        "        #print(f'error: {e}')\n",
        "        usjobs_list.append(0)\n",
        "  return [usjobs_list,usjobs_list_url]\n",
        "\n",
        "       \n"
      ],
      "execution_count": null,
      "outputs": []
    },
    {
      "cell_type": "markdown",
      "metadata": {
        "id": "CmPM09YmWyMr"
      },
      "source": [
        "Function to analyse USJobsGov job portal using REST API exposed by portal. This function would require maintainence if underlying API call exposed by site is changed."
      ]
    },
    {
      "cell_type": "code",
      "metadata": {
        "id": "Wsbwh4JsKAAq"
      },
      "source": [
        "import requests\n",
        "import json\n",
        "\n",
        "def jprint(obj):\n",
        "    # create a formatted string of the Python JSON object\n",
        "    text = json.dumps(obj, sort_keys=True, indent=4)\n",
        "    text_dict = json.loads(text)\n",
        "    return text_dict['SearchResult']['SearchResultCountAll']\n",
        "\n",
        "def usjobsgov_analysis(sheet_name,search_terms_p):\n",
        "    hh = {\"Host\": \"data.usajobs.gov\",\"User-Agent\": \"anju.jain@pace.edu\", \"Authorization-Key\": \"K675H4vq5k2oqeu4XSrWiNNgMtC1gKw1t0taBgzMfD0=\" }\n",
        "    usjobsgov_list = []\n",
        "    usjobsgov_list_url =[]\n",
        "    search_terms = search_terms_p\n",
        "    search_terms.iloc[0:2, 0] = search_terms.iloc[:, 0].str.strip('[]')\n",
        "    #print(\"test\")\n",
        "    for term in search_terms.iloc[:, 0]:\n",
        "      term = term.replace(\" \",\"%20\")\n",
        "      term = \"\\\"\"+term+\"\\\"\"\n",
        "      if sheet_name == \"\":\n",
        "          url = f\"https://data.usajobs.gov/api/search?Keyword={term}&PositionLocation['CountryCode']=United%20States\"\n",
        "          response = requests.get(url, headers=hh)\n",
        "      else:\n",
        "          sheet_namech = sheet_name.replace(\" \",\"%20\")\n",
        "          sheet_namech = \"\\\"\"+sheet_namech+\"\\\"\"\n",
        "          url = f\"https://data.usajobs.gov/api/search?Keyword={sheet_namech},{Railroad}&PositionLocation['CountryCode']=United%20States\"\n",
        "          response = requests.get(url, headers=hh)\n",
        "      usjobsgov_list_url.append(url)\n",
        "      numb = jprint(response.json())\n",
        "    #print(numb)\n",
        "      usjobsgov_list.append(numb)\n",
        "    return [usjobsgov_list,usjobsgov_list_url]\n",
        "\n",
        "\n"
      ],
      "execution_count": null,
      "outputs": []
    },
    {
      "cell_type": "markdown",
      "metadata": {
        "id": "U2EGreqZWXrg"
      },
      "source": [
        "Below step invokes loadSheet function and reads tab named \"Software_Skill\". Any change to tab name in input file could result into errors or not loading expected data."
      ]
    },
    {
      "cell_type": "code",
      "metadata": {
        "id": "ZwaAKlG2Zbvm",
        "outputId": "c5a8cf51-7094-4af6-b96d-8bc48ce10d82",
        "colab": {
          "base_uri": "https://localhost:8080/",
          "height": 644
        }
      },
      "source": [
        "search_terms_skills = loadSheet(\"Software_Skill\")\n",
        "search_terms_skills"
      ],
      "execution_count": null,
      "outputs": [
        {
          "output_type": "execute_result",
          "data": {
            "text/html": [
              "<div>\n",
              "<style scoped>\n",
              "    .dataframe tbody tr th:only-of-type {\n",
              "        vertical-align: middle;\n",
              "    }\n",
              "\n",
              "    .dataframe tbody tr th {\n",
              "        vertical-align: top;\n",
              "    }\n",
              "\n",
              "    .dataframe thead th {\n",
              "        text-align: right;\n",
              "    }\n",
              "</style>\n",
              "<table border=\"1\" class=\"dataframe\">\n",
              "  <thead>\n",
              "    <tr style=\"text-align: right;\">\n",
              "      <th></th>\n",
              "      <th>Keywords</th>\n",
              "    </tr>\n",
              "  </thead>\n",
              "  <tbody>\n",
              "    <tr>\n",
              "      <th>0</th>\n",
              "      <td>Java</td>\n",
              "    </tr>\n",
              "    <tr>\n",
              "      <th>1</th>\n",
              "      <td>Javascript</td>\n",
              "    </tr>\n",
              "    <tr>\n",
              "      <th>2</th>\n",
              "      <td>SQL</td>\n",
              "    </tr>\n",
              "    <tr>\n",
              "      <th>3</th>\n",
              "      <td>Angular</td>\n",
              "    </tr>\n",
              "    <tr>\n",
              "      <th>4</th>\n",
              "      <td>Python</td>\n",
              "    </tr>\n",
              "    <tr>\n",
              "      <th>5</th>\n",
              "      <td>HTML</td>\n",
              "    </tr>\n",
              "    <tr>\n",
              "      <th>6</th>\n",
              "      <td>Git</td>\n",
              "    </tr>\n",
              "    <tr>\n",
              "      <th>7</th>\n",
              "      <td>React</td>\n",
              "    </tr>\n",
              "    <tr>\n",
              "      <th>8</th>\n",
              "      <td>aws</td>\n",
              "    </tr>\n",
              "    <tr>\n",
              "      <th>9</th>\n",
              "      <td>C++</td>\n",
              "    </tr>\n",
              "    <tr>\n",
              "      <th>10</th>\n",
              "      <td>C#</td>\n",
              "    </tr>\n",
              "    <tr>\n",
              "      <th>11</th>\n",
              "      <td>PHP</td>\n",
              "    </tr>\n",
              "    <tr>\n",
              "      <th>12</th>\n",
              "      <td>Jquery</td>\n",
              "    </tr>\n",
              "    <tr>\n",
              "      <th>13</th>\n",
              "      <td>Cloud</td>\n",
              "    </tr>\n",
              "    <tr>\n",
              "      <th>14</th>\n",
              "      <td>Css</td>\n",
              "    </tr>\n",
              "    <tr>\n",
              "      <th>15</th>\n",
              "      <td>Website Development</td>\n",
              "    </tr>\n",
              "    <tr>\n",
              "      <th>16</th>\n",
              "      <td>Android Development</td>\n",
              "    </tr>\n",
              "    <tr>\n",
              "      <th>17</th>\n",
              "      <td>Assure</td>\n",
              "    </tr>\n",
              "    <tr>\n",
              "      <th>18</th>\n",
              "      <td>Project Management</td>\n",
              "    </tr>\n",
              "    <tr>\n",
              "      <th>19</th>\n",
              "      <td>Shell Scripting</td>\n",
              "    </tr>\n",
              "  </tbody>\n",
              "</table>\n",
              "</div>"
            ],
            "text/plain": [
              "               Keywords\n",
              "0                  Java\n",
              "1            Javascript\n",
              "2                   SQL\n",
              "3               Angular\n",
              "4                Python\n",
              "5                  HTML\n",
              "6                   Git\n",
              "7                 React\n",
              "8                   aws\n",
              "9                   C++\n",
              "10                   C#\n",
              "11                  PHP\n",
              "12               Jquery\n",
              "13                Cloud\n",
              "14                  Css\n",
              "15  Website Development\n",
              "16  Android Development\n",
              "17               Assure\n",
              "18   Project Management\n",
              "19      Shell Scripting"
            ]
          },
          "metadata": {
            "tags": []
          },
          "execution_count": 56
        }
      ]
    },
    {
      "cell_type": "markdown",
      "metadata": {
        "id": "5xrR3OyLX2Ye"
      },
      "source": [
        "Below step invokes loadSheet function and reads tab named \"Software_Positions\". Any change to tab name in input file could result into errors or not loading expected data."
      ]
    },
    {
      "cell_type": "code",
      "metadata": {
        "id": "8ieqwZhawygu",
        "outputId": "99281e44-b1ec-460a-9a08-5efca918fd49",
        "colab": {
          "base_uri": "https://localhost:8080/",
          "height": 345
        }
      },
      "source": [
        "search_terms_positions = loadSheet(\"Software_Positions\")\n",
        "search_terms_positions"
      ],
      "execution_count": null,
      "outputs": [
        {
          "output_type": "execute_result",
          "data": {
            "text/html": [
              "<div>\n",
              "<style scoped>\n",
              "    .dataframe tbody tr th:only-of-type {\n",
              "        vertical-align: middle;\n",
              "    }\n",
              "\n",
              "    .dataframe tbody tr th {\n",
              "        vertical-align: top;\n",
              "    }\n",
              "\n",
              "    .dataframe thead th {\n",
              "        text-align: right;\n",
              "    }\n",
              "</style>\n",
              "<table border=\"1\" class=\"dataframe\">\n",
              "  <thead>\n",
              "    <tr style=\"text-align: right;\">\n",
              "      <th></th>\n",
              "      <th>Keywords</th>\n",
              "    </tr>\n",
              "  </thead>\n",
              "  <tbody>\n",
              "    <tr>\n",
              "      <th>0</th>\n",
              "      <td>Software Engineer</td>\n",
              "    </tr>\n",
              "    <tr>\n",
              "      <th>1</th>\n",
              "      <td>Software Analyst</td>\n",
              "    </tr>\n",
              "    <tr>\n",
              "      <th>2</th>\n",
              "      <td>Software Architect</td>\n",
              "    </tr>\n",
              "    <tr>\n",
              "      <th>3</th>\n",
              "      <td>Software Administrator</td>\n",
              "    </tr>\n",
              "    <tr>\n",
              "      <th>4</th>\n",
              "      <td>Software Manager</td>\n",
              "    </tr>\n",
              "    <tr>\n",
              "      <th>5</th>\n",
              "      <td>Software Auditor</td>\n",
              "    </tr>\n",
              "    <tr>\n",
              "      <th>6</th>\n",
              "      <td>Software Consultant</td>\n",
              "    </tr>\n",
              "    <tr>\n",
              "      <th>7</th>\n",
              "      <td>Software Manager</td>\n",
              "    </tr>\n",
              "    <tr>\n",
              "      <th>8</th>\n",
              "      <td>Software Systems Engineer</td>\n",
              "    </tr>\n",
              "    <tr>\n",
              "      <th>9</th>\n",
              "      <td>Software Network Engineer</td>\n",
              "    </tr>\n",
              "  </tbody>\n",
              "</table>\n",
              "</div>"
            ],
            "text/plain": [
              "                    Keywords\n",
              "0          Software Engineer\n",
              "1           Software Analyst\n",
              "2         Software Architect\n",
              "3     Software Administrator\n",
              "4           Software Manager\n",
              "5           Software Auditor\n",
              "6        Software Consultant\n",
              "7          Software Manager \n",
              "8  Software Systems Engineer\n",
              "9  Software Network Engineer"
            ]
          },
          "metadata": {
            "tags": []
          },
          "execution_count": 57
        }
      ]
    },
    {
      "cell_type": "markdown",
      "metadata": {
        "id": "MJXI_wCHX_Q5"
      },
      "source": [
        "Below step invokes loadSheet function and reads tab named \"Software_BadgeAndCert\". Any change to tab name in input file could result into errors or not loading expected data."
      ]
    },
    {
      "cell_type": "code",
      "metadata": {
        "id": "nJ6B97hVw-H1",
        "outputId": "a5cc6d51-3d14-463d-a7fc-0ae4a9454498",
        "colab": {
          "base_uri": "https://localhost:8080/",
          "height": 763
        }
      },
      "source": [
        "search_terms_BC = loadSheet(\"Software_BadgeAndCert\")\n",
        "search_terms_BC"
      ],
      "execution_count": null,
      "outputs": [
        {
          "output_type": "execute_result",
          "data": {
            "text/html": [
              "<div>\n",
              "<style scoped>\n",
              "    .dataframe tbody tr th:only-of-type {\n",
              "        vertical-align: middle;\n",
              "    }\n",
              "\n",
              "    .dataframe tbody tr th {\n",
              "        vertical-align: top;\n",
              "    }\n",
              "\n",
              "    .dataframe thead th {\n",
              "        text-align: right;\n",
              "    }\n",
              "</style>\n",
              "<table border=\"1\" class=\"dataframe\">\n",
              "  <thead>\n",
              "    <tr style=\"text-align: right;\">\n",
              "      <th></th>\n",
              "      <th>Keywords</th>\n",
              "    </tr>\n",
              "  </thead>\n",
              "  <tbody>\n",
              "    <tr>\n",
              "      <th>0</th>\n",
              "      <td>Sun Certified Java Developer</td>\n",
              "    </tr>\n",
              "    <tr>\n",
              "      <th>1</th>\n",
              "      <td>Sun Certified Web Developer</td>\n",
              "    </tr>\n",
              "    <tr>\n",
              "      <th>2</th>\n",
              "      <td>Oracle Certified Associate</td>\n",
              "    </tr>\n",
              "    <tr>\n",
              "      <th>3</th>\n",
              "      <td>Oracle Certified Professional</td>\n",
              "    </tr>\n",
              "    <tr>\n",
              "      <th>4</th>\n",
              "      <td>Oracle Certified Master</td>\n",
              "    </tr>\n",
              "    <tr>\n",
              "      <th>5</th>\n",
              "      <td>Oracle Certfied Expert</td>\n",
              "    </tr>\n",
              "    <tr>\n",
              "      <th>6</th>\n",
              "      <td>Oracle Certified Junior Associate</td>\n",
              "    </tr>\n",
              "    <tr>\n",
              "      <th>7</th>\n",
              "      <td>Certified Entry Level Python Programmer</td>\n",
              "    </tr>\n",
              "    <tr>\n",
              "      <th>8</th>\n",
              "      <td>Certfied Associate in Python Programming</td>\n",
              "    </tr>\n",
              "    <tr>\n",
              "      <th>9</th>\n",
              "      <td>Certified Professional in Python</td>\n",
              "    </tr>\n",
              "    <tr>\n",
              "      <th>10</th>\n",
              "      <td>PCPP2</td>\n",
              "    </tr>\n",
              "    <tr>\n",
              "      <th>11</th>\n",
              "      <td>PCPP1</td>\n",
              "    </tr>\n",
              "    <tr>\n",
              "      <th>12</th>\n",
              "      <td>PCAP</td>\n",
              "    </tr>\n",
              "    <tr>\n",
              "      <th>13</th>\n",
              "      <td>PCEP</td>\n",
              "    </tr>\n",
              "    <tr>\n",
              "      <th>14</th>\n",
              "      <td>IT Support Badge</td>\n",
              "    </tr>\n",
              "    <tr>\n",
              "      <th>15</th>\n",
              "      <td>Software Engineering Certification</td>\n",
              "    </tr>\n",
              "    <tr>\n",
              "      <th>16</th>\n",
              "      <td>Software Engineering Training</td>\n",
              "    </tr>\n",
              "    <tr>\n",
              "      <th>17</th>\n",
              "      <td>Software Design And Development</td>\n",
              "    </tr>\n",
              "    <tr>\n",
              "      <th>18</th>\n",
              "      <td>AWS Certified Cloud Practitioner</td>\n",
              "    </tr>\n",
              "    <tr>\n",
              "      <th>19</th>\n",
              "      <td>AWS Certified Solutions Architect</td>\n",
              "    </tr>\n",
              "    <tr>\n",
              "      <th>20</th>\n",
              "      <td>AWS Certified Developer</td>\n",
              "    </tr>\n",
              "    <tr>\n",
              "      <th>21</th>\n",
              "      <td>AWS Certified Security</td>\n",
              "    </tr>\n",
              "    <tr>\n",
              "      <th>22</th>\n",
              "      <td>MCSA</td>\n",
              "    </tr>\n",
              "    <tr>\n",
              "      <th>23</th>\n",
              "      <td>PMP</td>\n",
              "    </tr>\n",
              "  </tbody>\n",
              "</table>\n",
              "</div>"
            ],
            "text/plain": [
              "                                    Keywords\n",
              "0               Sun Certified Java Developer\n",
              "1                Sun Certified Web Developer\n",
              "2                 Oracle Certified Associate\n",
              "3              Oracle Certified Professional\n",
              "4                    Oracle Certified Master\n",
              "5                     Oracle Certfied Expert\n",
              "6          Oracle Certified Junior Associate\n",
              "7    Certified Entry Level Python Programmer\n",
              "8   Certfied Associate in Python Programming\n",
              "9          Certified Professional in Python \n",
              "10                                     PCPP2\n",
              "11                                     PCPP1\n",
              "12                                      PCAP\n",
              "13                                      PCEP\n",
              "14                          IT Support Badge\n",
              "15       Software Engineering Certification \n",
              "16             Software Engineering Training\n",
              "17           Software Design And Development\n",
              "18          AWS Certified Cloud Practitioner\n",
              "19         AWS Certified Solutions Architect\n",
              "20                   AWS Certified Developer\n",
              "21                    AWS Certified Security\n",
              "22                                      MCSA\n",
              "23                                       PMP"
            ]
          },
          "metadata": {
            "tags": []
          },
          "execution_count": 58
        }
      ]
    },
    {
      "cell_type": "code",
      "metadata": {
        "id": "owZB8KW6XUMK"
      },
      "source": [
        "#glassdoor_skills_listOflist = glassdoor_analysis(\"\",search_terms_skills)    \n",
        "#glassdoor_skills_list=glassdoor_skills_listOflist[0]\n",
        "#glassdoor_skills_list_url = glassdoor_skills_listOflist[1]"
      ],
      "execution_count": null,
      "outputs": []
    },
    {
      "cell_type": "markdown",
      "metadata": {
        "id": "hP9r0n92YE3_"
      },
      "source": [
        "Below calls executes functions against job portals for skills as read from input file"
      ]
    },
    {
      "cell_type": "code",
      "metadata": {
        "id": "hdbfZ_0BVSQ9"
      },
      "source": [
        "indeed_Skills_listOflist = indeed_analysis(\"\",search_terms_skills)\n",
        "indeed_Skills_list=indeed_Skills_listOflist[0]\n",
        "indeed_Skills_list_url = indeed_Skills_listOflist[1]\n",
        "\n",
        "monster_skills_listOflist = monster_analysis(\"\",search_terms_skills)    \n",
        "monster_skills_list=monster_skills_listOflist[0]\n",
        "monster_skills_list_url = monster_skills_listOflist[1]\n",
        "\n",
        "careerbuilderjobs_skills_listOflist = careerbuilderjobs_analysis(\"\",search_terms_skills)    \n",
        "careerbuilderjobs_skills_list=careerbuilderjobs_skills_listOflist[0]\n",
        "careerbuilderjobs_skills_list_url = careerbuilderjobs_skills_listOflist[1]\n",
        "careerbuilderjobs_skills_list\n",
        "\n",
        "flexjobs_Skill_listOflist = flexjobs_analysis(\"\",search_terms_skills)    \n",
        "flexjobs_Skill_list=flexjobs_Skill_listOflist[0]\n",
        "flexjobs_Skill_list_url = flexjobs_Skill_listOflist[1]\n",
        "\n",
        "simply_skills_listOflist = simplyhired_analysis(\"\",search_terms_skills)    \n",
        "simply_skills_list=simply_skills_listOflist[0]\n",
        "simply_skills_list_url = simply_skills_listOflist[1]\n",
        "\n",
        "gartner_skills_listOflist = gartner_analysis(\"\",search_terms_skills)    \n",
        "gartner_skills_list=gartner_skills_listOflist[0]\n",
        "gartner_skills_list_url = gartner_skills_listOflist[1]\n",
        "\n",
        "dice_skills_listOflist = dice_analysis(\"\",search_terms_skills)    \n",
        "dice_skills_list=dice_skills_listOflist[0]\n",
        "dice_skills_list_url = dice_skills_listOflist[1]\n",
        "\n",
        "usjobsgov_listOflist = usjobsgov_analysis(\"\",search_terms_skills)\n",
        "usjobsgov_list=usjobsgov_listOflist[0]\n",
        "usjobsgov_list_url = usjobsgov_listOflist[1]\n",
        "\n",
        "findjobs_skills_listOflist = findjobs_analysis(\"\",search_terms_skills)    \n",
        "findjobs_skills_list=findjobs_skills_listOflist[0]\n",
        "findjobs_skills_list_url = findjobs_skills_listOflist[1]\n"
      ],
      "execution_count": null,
      "outputs": []
    },
    {
      "cell_type": "markdown",
      "metadata": {
        "id": "OGmD0VXtYTL8"
      },
      "source": [
        "Below steps prepare output file from results recieved of counts from portals and write to excel file."
      ]
    },
    {
      "cell_type": "code",
      "metadata": {
        "id": "5jD2MkFN5Fkz"
      },
      "source": [
        "df_skills = pd.DataFrame(indeed_Skills_list, index=search_terms_skills.iloc[:,0], columns=['Indeed'])\n",
        "df_skills_url = pd.DataFrame(indeed_Skills_list_url, index=search_terms_skills.iloc[:,0], columns=['Indeed'])\n"
      ],
      "execution_count": null,
      "outputs": []
    },
    {
      "cell_type": "code",
      "metadata": {
        "id": "TUNb9Bt6Ysep"
      },
      "source": [
        "df_skills.rename(index={'':'CS_Skill'},inplace=True)\n",
        "df_skills_url.rename(index={'':'CS_Skill'},inplace=True)\n"
      ],
      "execution_count": null,
      "outputs": []
    },
    {
      "cell_type": "code",
      "metadata": {
        "id": "P0SIKePZY04o"
      },
      "source": [
        "df_skills['Gartner'] = gartner_skills_list\n",
        "df_skills['Dice'] = dice_skills_list\n",
        "df_skills['Monster'] = monster_skills_list\n",
        "df_skills['SimplyHired'] = simply_skills_list\n",
        "#df_skills['Glassdoor'] = glassdoor_skills_list\n",
        "df_skills['flexjobs'] = flexjobs_Skill_list\n",
        "df_skills['CareerBuilder'] = careerbuilderjobs_skills_list\n",
        "df_skills['findJobs'] = findjobs_skills_list\n",
        "df_skills['USJobsGov'] = usjobsgov_list\n",
        "df_skills['Date'] = date.today()\n",
        "new_order = [-1,0,1,2,3,4,5,6,7,8]\n",
        "df_skills = df_skills[df_skills.columns[new_order]]\n",
        "with pd.ExcelWriter('PortalsCountsSoftwareEngg.xlsx') as writer:  \n",
        "    df_skills.to_excel(writer, sheet_name='SkillsAnalysis')\n",
        "\n",
        "df_skills_url['Gartner'] = gartner_skills_list_url\n",
        "df_skills_url['Dice'] = dice_skills_list_url\n",
        "df_skills_url['Monster'] = monster_skills_list_url\n",
        "df_skills_url['SimplyHired'] = simply_skills_list_url\n",
        "#df_skills_url['Glassdoor'] = glassdoor_skills_list\n",
        "df_skills_url['flexjobs'] = flexjobs_Skill_list_url\n",
        "df_skills_url['CareerBuilder'] = careerbuilderjobs_skills_list_url\n",
        "df_skills_url['findJobs'] = findjobs_skills_list_url\n",
        "df_skills_url['USJobsGov'] = findjobs_skills_list_url\n",
        "df_skills_url['Date'] = date.today()\n",
        "df_skills_url = df_skills_url[df_skills_url.columns[new_order]]\n",
        "\n",
        "with pd.ExcelWriter('PortalsCountsSoftwareEnggURL.xlsx') as writer:  \n",
        "    df_skills_url.to_excel(writer, sheet_name='SkillsAnalysisURL')\n",
        "\n"
      ],
      "execution_count": null,
      "outputs": []
    },
    {
      "cell_type": "code",
      "metadata": {
        "id": "BQbmZRhaql0R",
        "outputId": "c9bed70c-4be8-453a-9ac1-bd1298967e90",
        "colab": {
          "base_uri": "https://localhost:8080/",
          "height": 673
        }
      },
      "source": [
        "df_skills"
      ],
      "execution_count": null,
      "outputs": [
        {
          "output_type": "execute_result",
          "data": {
            "text/html": [
              "<div>\n",
              "<style scoped>\n",
              "    .dataframe tbody tr th:only-of-type {\n",
              "        vertical-align: middle;\n",
              "    }\n",
              "\n",
              "    .dataframe tbody tr th {\n",
              "        vertical-align: top;\n",
              "    }\n",
              "\n",
              "    .dataframe thead th {\n",
              "        text-align: right;\n",
              "    }\n",
              "</style>\n",
              "<table border=\"1\" class=\"dataframe\">\n",
              "  <thead>\n",
              "    <tr style=\"text-align: right;\">\n",
              "      <th></th>\n",
              "      <th>Date</th>\n",
              "      <th>Indeed</th>\n",
              "      <th>Gartner</th>\n",
              "      <th>Dice</th>\n",
              "      <th>Monster</th>\n",
              "      <th>SimplyHired</th>\n",
              "      <th>flexjobs</th>\n",
              "      <th>CareerBuilder</th>\n",
              "      <th>findJobs</th>\n",
              "      <th>USJobsGov</th>\n",
              "    </tr>\n",
              "    <tr>\n",
              "      <th>Keywords</th>\n",
              "      <th></th>\n",
              "      <th></th>\n",
              "      <th></th>\n",
              "      <th></th>\n",
              "      <th></th>\n",
              "      <th></th>\n",
              "      <th></th>\n",
              "      <th></th>\n",
              "      <th></th>\n",
              "      <th></th>\n",
              "    </tr>\n",
              "  </thead>\n",
              "  <tbody>\n",
              "    <tr>\n",
              "      <th>Java</th>\n",
              "      <td>2020-10-02</td>\n",
              "      <td>53,066</td>\n",
              "      <td>11</td>\n",
              "      <td>12089</td>\n",
              "      <td>33939</td>\n",
              "      <td>35854</td>\n",
              "      <td>1817</td>\n",
              "      <td>5000</td>\n",
              "      <td>2069</td>\n",
              "      <td>42</td>\n",
              "    </tr>\n",
              "    <tr>\n",
              "      <th>Javascript</th>\n",
              "      <td>2020-10-02</td>\n",
              "      <td>38,357</td>\n",
              "      <td>9</td>\n",
              "      <td>8937</td>\n",
              "      <td>21757</td>\n",
              "      <td>28964</td>\n",
              "      <td>2404</td>\n",
              "      <td>5000</td>\n",
              "      <td>944</td>\n",
              "      <td>23</td>\n",
              "    </tr>\n",
              "    <tr>\n",
              "      <th>SQL</th>\n",
              "      <td>2020-10-02</td>\n",
              "      <td>67,277</td>\n",
              "      <td>19</td>\n",
              "      <td>12745</td>\n",
              "      <td>39734</td>\n",
              "      <td>52711</td>\n",
              "      <td>2652</td>\n",
              "      <td>5000</td>\n",
              "      <td>1985</td>\n",
              "      <td>79</td>\n",
              "    </tr>\n",
              "    <tr>\n",
              "      <th>Angular</th>\n",
              "      <td>2020-10-02</td>\n",
              "      <td>11,956</td>\n",
              "      <td>4</td>\n",
              "      <td>1707</td>\n",
              "      <td>6987</td>\n",
              "      <td>9060</td>\n",
              "      <td>520</td>\n",
              "      <td>3420</td>\n",
              "      <td>373</td>\n",
              "      <td>17</td>\n",
              "    </tr>\n",
              "    <tr>\n",
              "      <th>Python</th>\n",
              "      <td>2020-10-02</td>\n",
              "      <td>60,278</td>\n",
              "      <td>17</td>\n",
              "      <td>8679</td>\n",
              "      <td>32137</td>\n",
              "      <td>43840</td>\n",
              "      <td>2295</td>\n",
              "      <td>5000</td>\n",
              "      <td>2149</td>\n",
              "      <td>25</td>\n",
              "    </tr>\n",
              "    <tr>\n",
              "      <th>HTML</th>\n",
              "      <td>2020-10-02</td>\n",
              "      <td>40,275</td>\n",
              "      <td>6</td>\n",
              "      <td>3540</td>\n",
              "      <td>11674</td>\n",
              "      <td>29427</td>\n",
              "      <td>1412</td>\n",
              "      <td>5000</td>\n",
              "      <td>554</td>\n",
              "      <td>20</td>\n",
              "    </tr>\n",
              "    <tr>\n",
              "      <th>Git</th>\n",
              "      <td>2020-10-02</td>\n",
              "      <td>19,448</td>\n",
              "      <td>5</td>\n",
              "      <td>3938</td>\n",
              "      <td>10619</td>\n",
              "      <td>15338</td>\n",
              "      <td>1015</td>\n",
              "      <td>5000</td>\n",
              "      <td>832</td>\n",
              "      <td>4</td>\n",
              "    </tr>\n",
              "    <tr>\n",
              "      <th>React</th>\n",
              "      <td>2020-10-02</td>\n",
              "      <td>41,239</td>\n",
              "      <td>1</td>\n",
              "      <td>1371</td>\n",
              "      <td>17174</td>\n",
              "      <td>23062</td>\n",
              "      <td>1420</td>\n",
              "      <td>5000</td>\n",
              "      <td>672</td>\n",
              "      <td>167</td>\n",
              "    </tr>\n",
              "    <tr>\n",
              "      <th>aws</th>\n",
              "      <td>2020-10-02</td>\n",
              "      <td>44,451</td>\n",
              "      <td>13</td>\n",
              "      <td>2818</td>\n",
              "      <td>23442</td>\n",
              "      <td>30662</td>\n",
              "      <td>2159</td>\n",
              "      <td>5000</td>\n",
              "      <td>1413</td>\n",
              "      <td>13</td>\n",
              "    </tr>\n",
              "    <tr>\n",
              "      <th>C++</th>\n",
              "      <td>2020-10-02</td>\n",
              "      <td>165,792</td>\n",
              "      <td>101</td>\n",
              "      <td>6761</td>\n",
              "      <td>4931</td>\n",
              "      <td>102401</td>\n",
              "      <td>2767</td>\n",
              "      <td>5000</td>\n",
              "      <td>494559</td>\n",
              "      <td>2864</td>\n",
              "    </tr>\n",
              "    <tr>\n",
              "      <th>C#</th>\n",
              "      <td>2020-10-02</td>\n",
              "      <td>165,792</td>\n",
              "      <td>225</td>\n",
              "      <td>7042</td>\n",
              "      <td>4949</td>\n",
              "      <td>102401</td>\n",
              "      <td>2767</td>\n",
              "      <td>5000</td>\n",
              "      <td>494559</td>\n",
              "      <td>2864</td>\n",
              "    </tr>\n",
              "    <tr>\n",
              "      <th>PHP</th>\n",
              "      <td>2020-10-02</td>\n",
              "      <td>13,226</td>\n",
              "      <td>0</td>\n",
              "      <td>946</td>\n",
              "      <td>4357</td>\n",
              "      <td>10216</td>\n",
              "      <td>554</td>\n",
              "      <td>1321</td>\n",
              "      <td>155</td>\n",
              "      <td>3</td>\n",
              "    </tr>\n",
              "    <tr>\n",
              "      <th>Jquery</th>\n",
              "      <td>2020-10-02</td>\n",
              "      <td>8,030</td>\n",
              "      <td>1</td>\n",
              "      <td>1763</td>\n",
              "      <td>4380</td>\n",
              "      <td>6623</td>\n",
              "      <td>314</td>\n",
              "      <td>1891</td>\n",
              "      <td>181</td>\n",
              "      <td>2</td>\n",
              "    </tr>\n",
              "    <tr>\n",
              "      <th>Cloud</th>\n",
              "      <td>2020-10-02</td>\n",
              "      <td>104,096</td>\n",
              "      <td>32</td>\n",
              "      <td>3551</td>\n",
              "      <td>61749</td>\n",
              "      <td>70092</td>\n",
              "      <td>4546</td>\n",
              "      <td>5000</td>\n",
              "      <td>4596</td>\n",
              "      <td>100</td>\n",
              "    </tr>\n",
              "    <tr>\n",
              "      <th>Css</th>\n",
              "      <td>2020-10-02</td>\n",
              "      <td>22,055</td>\n",
              "      <td>6</td>\n",
              "      <td>3472</td>\n",
              "      <td>12222</td>\n",
              "      <td>17763</td>\n",
              "      <td>1316</td>\n",
              "      <td>4753</td>\n",
              "      <td>493</td>\n",
              "      <td>33</td>\n",
              "    </tr>\n",
              "    <tr>\n",
              "      <th>Website-Development</th>\n",
              "      <td>2020-10-02</td>\n",
              "      <td>1,247</td>\n",
              "      <td>0</td>\n",
              "      <td>3</td>\n",
              "      <td>362</td>\n",
              "      <td>1071</td>\n",
              "      <td>502</td>\n",
              "      <td>94</td>\n",
              "      <td>13</td>\n",
              "      <td>2</td>\n",
              "    </tr>\n",
              "    <tr>\n",
              "      <th>Android-Development</th>\n",
              "      <td>2020-10-02</td>\n",
              "      <td>648</td>\n",
              "      <td>0</td>\n",
              "      <td>125</td>\n",
              "      <td>562</td>\n",
              "      <td>563</td>\n",
              "      <td>48</td>\n",
              "      <td>123</td>\n",
              "      <td>6</td>\n",
              "      <td>0</td>\n",
              "    </tr>\n",
              "    <tr>\n",
              "      <th>Assure</th>\n",
              "      <td>2020-10-02</td>\n",
              "      <td>103,071</td>\n",
              "      <td>8</td>\n",
              "      <td>9</td>\n",
              "      <td>40710</td>\n",
              "      <td>0</td>\n",
              "      <td>537</td>\n",
              "      <td>5000</td>\n",
              "      <td>1737</td>\n",
              "      <td>1195</td>\n",
              "    </tr>\n",
              "    <tr>\n",
              "      <th>Project-Management</th>\n",
              "      <td>2020-10-02</td>\n",
              "      <td>133,819</td>\n",
              "      <td>0</td>\n",
              "      <td>2105</td>\n",
              "      <td>80436</td>\n",
              "      <td>102857</td>\n",
              "      <td>4774</td>\n",
              "      <td>5000</td>\n",
              "      <td>3318</td>\n",
              "      <td>600</td>\n",
              "    </tr>\n",
              "    <tr>\n",
              "      <th>Shell-Scripting</th>\n",
              "      <td>2020-10-02</td>\n",
              "      <td>4,227</td>\n",
              "      <td>0</td>\n",
              "      <td>284</td>\n",
              "      <td>3014</td>\n",
              "      <td>3364</td>\n",
              "      <td>124</td>\n",
              "      <td>1054</td>\n",
              "      <td>186</td>\n",
              "      <td>2</td>\n",
              "    </tr>\n",
              "  </tbody>\n",
              "</table>\n",
              "</div>"
            ],
            "text/plain": [
              "                           Date   Indeed  ... findJobs USJobsGov\n",
              "Keywords                                  ...                   \n",
              "Java                 2020-10-02   53,066  ...     2069        42\n",
              "Javascript           2020-10-02   38,357  ...      944        23\n",
              "SQL                  2020-10-02   67,277  ...     1985        79\n",
              "Angular              2020-10-02   11,956  ...      373        17\n",
              "Python               2020-10-02   60,278  ...     2149        25\n",
              "HTML                 2020-10-02   40,275  ...      554        20\n",
              "Git                  2020-10-02   19,448  ...      832         4\n",
              "React                2020-10-02   41,239  ...      672       167\n",
              "aws                  2020-10-02   44,451  ...     1413        13\n",
              "C++                  2020-10-02  165,792  ...   494559      2864\n",
              "C#                   2020-10-02  165,792  ...   494559      2864\n",
              "PHP                  2020-10-02   13,226  ...      155         3\n",
              "Jquery               2020-10-02    8,030  ...      181         2\n",
              "Cloud                2020-10-02  104,096  ...     4596       100\n",
              "Css                  2020-10-02   22,055  ...      493        33\n",
              "Website-Development  2020-10-02    1,247  ...       13         2\n",
              "Android-Development  2020-10-02      648  ...        6         0\n",
              "Assure               2020-10-02  103,071  ...     1737      1195\n",
              "Project-Management   2020-10-02  133,819  ...     3318       600\n",
              "Shell-Scripting      2020-10-02    4,227  ...      186         2\n",
              "\n",
              "[20 rows x 10 columns]"
            ]
          },
          "metadata": {
            "tags": []
          },
          "execution_count": 64
        }
      ]
    },
    {
      "cell_type": "markdown",
      "metadata": {
        "id": "UKP3-ELn4Sw7"
      },
      "source": [
        "Below steps executes functions against job portals for skills per position as read from input file. Also, Prepare output file from results recieved of counts from portals for skills per first 3 positions( as in input excel) and write to excel file."
      ]
    },
    {
      "cell_type": "code",
      "metadata": {
        "id": "gmU_VlUysPgK",
        "outputId": "f583865b-c8e5-41dc-8877-fb58654c61cc",
        "colab": {
          "base_uri": "https://localhost:8080/",
          "height": 67
        }
      },
      "source": [
        "df_skills_r = None\n",
        "Ct = 1\n",
        "\n",
        "for role in search_terms_positions.iloc[0:3,0]:\n",
        "  roleFinal = role\n",
        "  print(roleFinal)\n",
        "  indeed_Skills_listOflist = indeed_analysis(roleFinal,search_terms_skills)\n",
        "  indeed_Skills_list1=indeed_Skills_listOflist[0]\n",
        "  indeed_Skills_list_url1 = indeed_Skills_listOflist[1]\n",
        "\n",
        "  monster_skills_listOflist = monster_analysis(roleFinal,search_terms_skills)    \n",
        "  monster_skills_list1=monster_skills_listOflist[0]\n",
        "  monster_skills_list_url1 = monster_skills_listOflist[1]\n",
        "\n",
        "  careerbuilderjobs_skills_listOflist = careerbuilderjobs_analysis(roleFinal,search_terms_skills)    \n",
        "  careerbuilderjobs_skills_list1=careerbuilderjobs_skills_listOflist[0]\n",
        "  careerbuilderjobs_skills_list_url1 = careerbuilderjobs_skills_listOflist[1]\n",
        "\n",
        "  flexjobs_Skill_listOflist = flexjobs_analysis(roleFinal,search_terms_skills)    \n",
        "  flexjobs_Skill_list1=flexjobs_Skill_listOflist[0]\n",
        "  flexjobs_Skill_list_url1 = flexjobs_Skill_listOflist[1]\n",
        "\n",
        "  simply_skills_listOflist = simplyhired_analysis(roleFinal,search_terms_skills)    \n",
        "  simply_skills_list1=simply_skills_listOflist[0]\n",
        "  simply_skills_list_url1 = simply_skills_listOflist[1]\n",
        "\n",
        "  dice_skills_listOflist = dice_analysis(roleFinal,search_terms_skills)    \n",
        "  dice_skills_list1=dice_skills_listOflist[0]\n",
        "  dice_skills_list_url1 = dice_skills_listOflist[1]\n",
        "\n",
        "  findjobs_skills_listOflist = findjobs_analysis(roleFinal,search_terms_skills)    \n",
        "  findjobs_skills_list1=findjobs_skills_listOflist[0]\n",
        "  findjobs_skills_list_url1 = findjobs_skills_listOflist[1]\n",
        "\n",
        "  usjobsgov_skills_listOflist = usjobsgov_analysis(\"\",search_terms_skills)    \n",
        "  usjobsgov_skills_list1=usjobsgov_skills_listOflist[0]\n",
        "  usjobsgov_skills_list_url1 = usjobsgov_skills_listOflist[1]\n",
        "\n",
        "  #if df_skills_r is None:\n",
        "  df_skills_r = pd.DataFrame(indeed_Skills_list1, index=search_terms_skills.iloc[:,0], columns=['Indeed'])\n",
        "  df_skills_r.rename(index={'':'Data_Skill_r'},inplace=True)\n",
        "  # GARTNER Double Qutoes with postion and skill does not work . df_skills_r['Gartner'] = gartner_skills_list1\n",
        "  df_skills_r['Dice'] = dice_skills_list1\n",
        "  df_skills_r['Monster'] = monster_skills_list1\n",
        "  df_skills_r['SimplyHired'] = simply_skills_list1\n",
        "  #df_skills_r['Glassdoor'] = glassdoor_skills_list1\n",
        "  df_skills_r['flexjobs'] = flexjobs_Skill_list1\n",
        "  df_skills_r['CareerBuilder'] = careerbuilderjobs_skills_list1\n",
        "  df_skills_r['findJobs'] = findjobs_skills_list1\n",
        "  df_skills_r['UsjobsGov'] = usjobsgov_skills_list1\n",
        "  df_skills_r['Date'] = date.today()\n",
        "  new_order = [-1,0,1,2,3,4,5,6,7]\n",
        "  df_skills_r = df_skills_r[df_skills_r.columns[new_order]]\n",
        "  \n",
        "  df_skills_r_url = pd.DataFrame(indeed_Skills_list_url1, index=search_terms_skills.iloc[:,0], columns=['Indeed'])\n",
        "  df_skills_r_url.rename(index={'':'Skill_r'},inplace=True)\n",
        "  # GARTNER Double Qutoes with postion and skill does not work .df_skills_url['Gartner'] = gartner_skills_list_url1\n",
        "  df_skills_r_url['Dice'] = dice_skills_list_url1\n",
        "  df_skills_r_url['Monster'] = monster_skills_list_url1\n",
        "  df_skills_r_url['SimplyHired'] = simply_skills_list_url1\n",
        "  #df_skills_url['Glassdoor'] = glassdoor_skills_list\n",
        "  df_skills_r_url['flexjobs'] = flexjobs_Skill_list_url1\n",
        "  df_skills_r_url['CareerBuilder'] = careerbuilderjobs_skills_list_url1\n",
        "  df_skills_r_url['findJobs'] = findjobs_skills_list_url1\n",
        "  df_skills_r_url['UsjobsGov'] = usjobsgov_skills_list_url1\n",
        "  df_skills_r_url['Date'] = date.today()\n",
        "  df_skills_r_url = df_skills_r_url[df_skills_r_url.columns[new_order]]\n",
        "  with pd.ExcelWriter('PortalsCountsSoftwareEngg.xlsx',mode='a') as writer:  \n",
        "       df_skills_r.to_excel(writer, sheet_name=roleFinal+'_S')\n",
        "  with pd.ExcelWriter('PortalsCountsSoftwareEnggURL.xlsx',mode='a') as writer:  \n",
        "       df_skills_r_url.to_excel(writer, sheet_name=roleFinal+'_URL')\n",
        "  Ct = Ct+1\n",
        " "
      ],
      "execution_count": null,
      "outputs": [
        {
          "output_type": "stream",
          "text": [
            "Software Engineer\n",
            "Software Analyst\n",
            "Software Architect\n"
          ],
          "name": "stdout"
        }
      ]
    },
    {
      "cell_type": "markdown",
      "metadata": {
        "id": "KgPQoyb55hM9"
      },
      "source": [
        "Below steps executes functions against job portals for position as read from input file."
      ]
    },
    {
      "cell_type": "code",
      "metadata": {
        "id": "7xFe0lteHSdC"
      },
      "source": [
        "careerbuilderjobs_positions_listOflist = careerbuilderjobs_analysis(\"\",search_terms_positions)    \n",
        "careerbuilderjobs_positions_list=careerbuilderjobs_positions_listOflist[0]\n",
        "careerbuilderjobs_positions_list_url = careerbuilderjobs_positions_listOflist[1]\n",
        "\n",
        "flexjobs_positions_listOflist = flexjobs_analysis(\"\",search_terms_positions)    \n",
        "flexjobs_positions_list=flexjobs_positions_listOflist[0]\n",
        "flexjobs_positions_list_url = flexjobs_positions_listOflist[1]\n",
        "\n",
        "#glassdoor_positions_list = glassdoor_analysis(\"Data\",search_terms_positions)\n",
        "findJobs_positions_listOflist = findjobs_analysis(\"\",search_terms_positions)\n",
        "findjobs_positions_list=findJobs_positions_listOflist[0]\n",
        "findjobs_positions_list_url = findJobs_positions_listOflist[1]\n",
        "\n",
        "gartner_positions_listOflist = gartner_analysis(\"\",search_terms_positions)    \n",
        "gartner_positions_list=gartner_positions_listOflist[0]\n",
        "gartner_positions_list_url = gartner_positions_listOflist[1]\n",
        "\n",
        "indeed_positions_listOflist = indeed_analysis(\"\",search_terms_positions)\n",
        "indeed_positions_list=indeed_positions_listOflist[0]\n",
        "indeed_positions_list_url = indeed_positions_listOflist[1]\n",
        "\n",
        "monster_positions_listOflist = monster_analysis(\"\",search_terms_positions)    \n",
        "monster_positions_list=monster_positions_listOflist[0]\n",
        "monster_positions_list_url = monster_positions_listOflist[1]\n",
        "\n",
        "careerbuilderjobs_positions_listOflist = careerbuilderjobs_analysis(\"\",search_terms_positions)    \n",
        "careerbuilderjobs_positions_list=careerbuilderjobs_positions_listOflist[0]\n",
        "careerbuilderjobs_positions_list_url = careerbuilderjobs_positions_listOflist[1]\n",
        "\n",
        "simply_positions_listOflist = simplyhired_analysis(\"\",search_terms_positions)    \n",
        "simply_positions_list=simply_positions_listOflist[0]\n",
        "simply_positions_list_url = simply_positions_listOflist[1]\n",
        "\n",
        "dice_positions_listOflist = dice_analysis(\"\",search_terms_positions)    \n",
        "dice_positions_list=dice_positions_listOflist[0]\n",
        "dice_positions_list_url = dice_positions_listOflist[1]\n",
        "\n",
        "findjobs_positions_listOflist = findjobs_analysis(\"\",search_terms_positions)    \n",
        "findjobs_positions_list=findjobs_positions_listOflist[0]\n",
        "findjobs_positions_list_url = findjobs_positions_listOflist[1]\n",
        "\n",
        "usjobsgov_positions_listOflist = usjobsgov_analysis(\"\",search_terms_positions)    \n",
        "usjobsgov_positions_list=usjobsgov_positions_listOflist[0]\n",
        "usjobsgov_positions_list_url = usjobsgov_positions_listOflist[1]"
      ],
      "execution_count": null,
      "outputs": []
    },
    {
      "cell_type": "markdown",
      "metadata": {
        "id": "-3O_RfqA4e9u"
      },
      "source": [
        "Below steps prepare output file from results recieved of counts from portals for positions and write to excel file."
      ]
    },
    {
      "cell_type": "code",
      "metadata": {
        "id": "jtg9XvDf9Sw7",
        "outputId": "eba0df90-f322-4ea0-eec3-8eb5e66a48ad",
        "colab": {
          "base_uri": "https://localhost:8080/",
          "height": 70
        }
      },
      "source": [
        "df_positions = pd.DataFrame(indeed_positions_list, index=search_terms_positions.iloc[:, 0], columns=['Indeed'])\n",
        "df_positions.rename(index={'':'Data_positions'},inplace=True)\n",
        "\n",
        "df_positions_url = pd.DataFrame(indeed_positions_list_url, index=search_terms_positions.iloc[:, 0], columns=['Indeed'])\n",
        "df_positions_url.rename(index={'':'Data_positions url'},inplace=True)\n",
        "\n",
        "df_positions['Gartner'] = gartner_positions_list\n",
        "df_positions['Dice'] = dice_positions_list\n",
        "df_positions['Monster'] = monster_positions_list\n",
        "df_positions['SimplyHired'] = simply_positions_list\n",
        "#df_positions['Glassdoor'] = glassdoor_positions_list\n",
        "df_positions['flexjobs'] = flexjobs_positions_list\n",
        "df_positions['CareerBuilder'] = careerbuilderjobs_positions_list\n",
        "df_positions['findJobs'] = findjobs_positions_list\n",
        "df_positions['UsjobsGov'] = usjobsgov_positions_list\n",
        "df_positions['Date'] = date.today()\n",
        "new_order = [-1,0,1,2,3,4,5,6,7,8]\n",
        "df_positions = df_positions[df_positions.columns[new_order]]\n",
        "\n",
        "\n",
        "df_positions_url['Gartner'] = gartner_positions_list_url\n",
        "df_positions_url['Dice'] = dice_positions_list_url\n",
        "df_positions_url['Monster'] = monster_positions_list_url\n",
        "df_positions_url['SimplyHired'] = simply_positions_list_url\n",
        "#df_positions_url['Glassdoor'] = glassdoor_positions_list\n",
        "df_positions_url['flexjobs'] = flexjobs_positions_list_url\n",
        "df_positions_url['CareerBuilder'] = careerbuilderjobs_positions_list_url\n",
        "df_positions_url['Usjobs'] = findjobs_positions_list_url\n",
        "df_positions_url['UsjobsGov'] = usjobsgov_positions_list_url\n",
        "df_positions_url['Date'] = date.today()\n",
        "df_positions_url = df_positions_url[df_positions_url.columns[new_order]]\n",
        "\n",
        "with pd.ExcelWriter('PortalsCountsSoftwareEngg.xlsx',mode='a') as writer:  \n",
        "    df_positions.to_excel(writer, sheet_name='SoftwareEnggPositionsAnalysis')\n",
        "with pd.ExcelWriter('PortalsCountsSoftwareEnggURL.xlsx',mode='a') as writer:  \n",
        "    df_positions_url.to_excel(writer, sheet_name='SoftwareEnggPositionsAnalysisUrl')\n",
        "\n"
      ],
      "execution_count": null,
      "outputs": [
        {
          "output_type": "stream",
          "text": [
            "/usr/local/lib/python3.6/dist-packages/openpyxl/workbook/child.py:102: UserWarning: Title is more than 31 characters. Some applications may not be able to read the file\n",
            "  warnings.warn(\"Title is more than 31 characters. Some applications may not be able to read the file\")\n"
          ],
          "name": "stderr"
        }
      ]
    },
    {
      "cell_type": "code",
      "metadata": {
        "id": "L2rbA3DWo0jq",
        "outputId": "b7fda708-0ddd-4fac-e585-c867467a75cc",
        "colab": {
          "base_uri": "https://localhost:8080/",
          "height": 375
        }
      },
      "source": [
        "df_positions"
      ],
      "execution_count": null,
      "outputs": [
        {
          "output_type": "execute_result",
          "data": {
            "text/html": [
              "<div>\n",
              "<style scoped>\n",
              "    .dataframe tbody tr th:only-of-type {\n",
              "        vertical-align: middle;\n",
              "    }\n",
              "\n",
              "    .dataframe tbody tr th {\n",
              "        vertical-align: top;\n",
              "    }\n",
              "\n",
              "    .dataframe thead th {\n",
              "        text-align: right;\n",
              "    }\n",
              "</style>\n",
              "<table border=\"1\" class=\"dataframe\">\n",
              "  <thead>\n",
              "    <tr style=\"text-align: right;\">\n",
              "      <th></th>\n",
              "      <th>Date</th>\n",
              "      <th>Indeed</th>\n",
              "      <th>Gartner</th>\n",
              "      <th>Dice</th>\n",
              "      <th>Monster</th>\n",
              "      <th>SimplyHired</th>\n",
              "      <th>flexjobs</th>\n",
              "      <th>CareerBuilder</th>\n",
              "      <th>findJobs</th>\n",
              "      <th>UsjobsGov</th>\n",
              "    </tr>\n",
              "    <tr>\n",
              "      <th>Keywords</th>\n",
              "      <th></th>\n",
              "      <th></th>\n",
              "      <th></th>\n",
              "      <th></th>\n",
              "      <th></th>\n",
              "      <th></th>\n",
              "      <th></th>\n",
              "      <th></th>\n",
              "      <th></th>\n",
              "      <th></th>\n",
              "    </tr>\n",
              "  </thead>\n",
              "  <tbody>\n",
              "    <tr>\n",
              "      <th>Software-Engineer</th>\n",
              "      <td>2020-10-02</td>\n",
              "      <td>30,256</td>\n",
              "      <td>27</td>\n",
              "      <td>4348</td>\n",
              "      <td>27822</td>\n",
              "      <td>19973</td>\n",
              "      <td>2197</td>\n",
              "      <td>4846</td>\n",
              "      <td>989</td>\n",
              "      <td>4</td>\n",
              "    </tr>\n",
              "    <tr>\n",
              "      <th>Software-Analyst</th>\n",
              "      <td>2020-10-02</td>\n",
              "      <td>99</td>\n",
              "      <td>39</td>\n",
              "      <td>137</td>\n",
              "      <td>727</td>\n",
              "      <td>84</td>\n",
              "      <td>3</td>\n",
              "      <td>17</td>\n",
              "      <td>1</td>\n",
              "      <td>0</td>\n",
              "    </tr>\n",
              "    <tr>\n",
              "      <th>Software-Architect</th>\n",
              "      <td>2020-10-02</td>\n",
              "      <td>940</td>\n",
              "      <td>15</td>\n",
              "      <td>400</td>\n",
              "      <td>807</td>\n",
              "      <td>742</td>\n",
              "      <td>37</td>\n",
              "      <td>197</td>\n",
              "      <td>26</td>\n",
              "      <td>0</td>\n",
              "    </tr>\n",
              "    <tr>\n",
              "      <th>Software-Administrator</th>\n",
              "      <td>2020-10-02</td>\n",
              "      <td>37</td>\n",
              "      <td>13</td>\n",
              "      <td>2</td>\n",
              "      <td>25</td>\n",
              "      <td>34</td>\n",
              "      <td>0</td>\n",
              "      <td>7</td>\n",
              "      <td>1</td>\n",
              "      <td>0</td>\n",
              "    </tr>\n",
              "    <tr>\n",
              "      <th>Software-Manager</th>\n",
              "      <td>2020-10-02</td>\n",
              "      <td>94</td>\n",
              "      <td>108</td>\n",
              "      <td>3</td>\n",
              "      <td>55</td>\n",
              "      <td>81</td>\n",
              "      <td>0</td>\n",
              "      <td>12</td>\n",
              "      <td>11</td>\n",
              "      <td>0</td>\n",
              "    </tr>\n",
              "    <tr>\n",
              "      <th>Software-Auditor</th>\n",
              "      <td>2020-10-02</td>\n",
              "      <td>0</td>\n",
              "      <td>11</td>\n",
              "      <td>0</td>\n",
              "      <td>0</td>\n",
              "      <td>0</td>\n",
              "      <td>0</td>\n",
              "      <td>0</td>\n",
              "      <td>0</td>\n",
              "      <td>0</td>\n",
              "    </tr>\n",
              "    <tr>\n",
              "      <th>Software-Consultant</th>\n",
              "      <td>2020-10-02</td>\n",
              "      <td>138</td>\n",
              "      <td>67</td>\n",
              "      <td>3</td>\n",
              "      <td>30</td>\n",
              "      <td>0</td>\n",
              "      <td>58</td>\n",
              "      <td>22</td>\n",
              "      <td>1</td>\n",
              "      <td>0</td>\n",
              "    </tr>\n",
              "    <tr>\n",
              "      <th>Software-Manager-</th>\n",
              "      <td>2020-10-02</td>\n",
              "      <td>94</td>\n",
              "      <td>108</td>\n",
              "      <td>3</td>\n",
              "      <td>55</td>\n",
              "      <td>81</td>\n",
              "      <td>0</td>\n",
              "      <td>12</td>\n",
              "      <td>11</td>\n",
              "      <td>0</td>\n",
              "    </tr>\n",
              "    <tr>\n",
              "      <th>Software-Systems-Engineer</th>\n",
              "      <td>2020-10-02</td>\n",
              "      <td>176</td>\n",
              "      <td>38</td>\n",
              "      <td>31</td>\n",
              "      <td>135</td>\n",
              "      <td>145</td>\n",
              "      <td>7</td>\n",
              "      <td>0</td>\n",
              "      <td>1</td>\n",
              "      <td>0</td>\n",
              "    </tr>\n",
              "    <tr>\n",
              "      <th>Software-Network-Engineer</th>\n",
              "      <td>2020-10-02</td>\n",
              "      <td>7</td>\n",
              "      <td>29</td>\n",
              "      <td>1</td>\n",
              "      <td>3</td>\n",
              "      <td>7</td>\n",
              "      <td>1</td>\n",
              "      <td>0</td>\n",
              "      <td>0</td>\n",
              "      <td>0</td>\n",
              "    </tr>\n",
              "  </tbody>\n",
              "</table>\n",
              "</div>"
            ],
            "text/plain": [
              "                                 Date  Indeed  ... findJobs UsjobsGov\n",
              "Keywords                                       ...                   \n",
              "Software-Engineer          2020-10-02  30,256  ...      989         4\n",
              "Software-Analyst           2020-10-02      99  ...        1         0\n",
              "Software-Architect         2020-10-02     940  ...       26         0\n",
              "Software-Administrator     2020-10-02      37  ...        1         0\n",
              "Software-Manager           2020-10-02      94  ...       11         0\n",
              "Software-Auditor           2020-10-02       0  ...        0         0\n",
              "Software-Consultant        2020-10-02     138  ...        1         0\n",
              "Software-Manager-          2020-10-02      94  ...       11         0\n",
              "Software-Systems-Engineer  2020-10-02     176  ...        1         0\n",
              "Software-Network-Engineer  2020-10-02       7  ...        0         0\n",
              "\n",
              "[10 rows x 10 columns]"
            ]
          },
          "metadata": {
            "tags": []
          },
          "execution_count": 68
        }
      ]
    },
    {
      "cell_type": "markdown",
      "metadata": {
        "id": "lVrOn_iE5vin"
      },
      "source": [
        "Below steps executes functions against job portals for Badges And Certificates as read from input file."
      ]
    },
    {
      "cell_type": "code",
      "metadata": {
        "id": "BkarLwTwHQsp"
      },
      "source": [
        "careerbuilder_BC_listOflist = careerbuilderjobs_analysis(\"\",search_terms_BC)\n",
        "careerbuilder_BC_list=careerbuilder_BC_listOflist[0]\n",
        "careerbuilder_BC_list_url = careerbuilder_BC_listOflist[1]\n",
        "\n",
        "flexjobs_BC_listOflist = flexjobs_analysis(\"\",search_terms_BC)\n",
        "flexjobs_BC_list=flexjobs_BC_listOflist[0]\n",
        "flexjobs_BC_list_url = flexjobs_BC_listOflist[1]\n",
        "\n",
        "indeed_BC_listOflist = indeed_analysis(\"\",search_terms_BC)\n",
        "indeed_BC_list=indeed_BC_listOflist[0]\n",
        "indeed_BC_list_url = indeed_BC_listOflist[1]\n",
        "\n",
        "indeed_BC_listOflist = indeed_analysis(\"\",search_terms_BC)\n",
        "indeed_BC_list=indeed_BC_listOflist[0]\n",
        "indeed_BC_list_url = indeed_BC_listOflist[1]\n",
        "\n",
        "monster_BC_listOflist = monster_analysis(\"\",search_terms_BC)    \n",
        "monster_BC_list=monster_BC_listOflist[0]\n",
        "monster_BC_list_url = monster_BC_listOflist[1]\n",
        "\n",
        "gartner_BC_listOflist = gartner_analysis(\"\",search_terms_BC)    \n",
        "gartner_BC_list=gartner_BC_listOflist[0]\n",
        "gartner_BC_list_url = gartner_BC_listOflist[1]\n",
        "\n",
        "simply_BC_listOflist = simplyhired_analysis(\"\",search_terms_BC)    \n",
        "simply_BC_list=simply_BC_listOflist[0]\n",
        "simply_BC_list_url = simply_BC_listOflist[1]\n",
        "\n",
        "dice_BC_listOflist = dice_analysis(\"\",search_terms_BC)    \n",
        "dice_BC_list=dice_BC_listOflist[0]\n",
        "dice_BC_list_url = dice_BC_listOflist[1]\n",
        "\n",
        "findjobs_BC_listOflist = findjobs_analysis(\"\",search_terms_BC)    \n",
        "findjobs_BC_list=findjobs_BC_listOflist[0]\n",
        "findjobs_BC_list_url = findjobs_BC_listOflist[1]\n",
        "\n",
        "usjobsgov_BC_listOflist = usjobsgov_analysis(\"\",search_terms_BC)    \n",
        "usjobsgov_BC_list=usjobsgov_BC_listOflist[0]\n",
        "usjobsgov_BC_list_url = usjobsgov_BC_listOflist[1]\n"
      ],
      "execution_count": null,
      "outputs": []
    },
    {
      "cell_type": "markdown",
      "metadata": {
        "id": "bkTLQuDq-We4"
      },
      "source": [
        "Below steps prepare output file from results recieved of counts from portals for Badegs and certificates and write to excel file."
      ]
    },
    {
      "cell_type": "code",
      "metadata": {
        "id": "Cn_0AGaW9SkQ",
        "outputId": "3a2592e5-2e39-4a79-d826-0413feded0dd",
        "colab": {
          "base_uri": "https://localhost:8080/",
          "height": 70
        }
      },
      "source": [
        "df_BC = pd.DataFrame(indeed_BC_list, index=search_terms_BC.iloc[:, 0], columns=['Indeed '])\n",
        "\n",
        "df_BC.rename(index={'':'Data_BC'},inplace=True)\n",
        "\n",
        "df_BC_url = pd.DataFrame(indeed_BC_list_url, index=search_terms_BC.iloc[:, 0], columns=['Indeed '])\n",
        "\n",
        "df_BC_url.rename(index={'':'Data_BC_url'},inplace=True)\n",
        "\n",
        "df_BC['Dice'] = dice_BC_list\n",
        "df_BC['Gartner'] = gartner_BC_list\n",
        "df_BC['Monster'] = monster_BC_list\n",
        "df_BC['SimplyHired'] = simply_BC_list\n",
        "#df_BC['Glassdoor'] = glassdoor_BC_list\n",
        "df_BC['flexjobs'] = flexjobs_BC_list\n",
        "df_BC['CareerBuilder'] = careerbuilder_BC_list\n",
        "df_BC['findJobs'] = findjobs_BC_list\n",
        "df_BC['Usjobs'] = usjobsgov_BC_list\n",
        "df_BC['Date'] = date.today()\n",
        "new_order = [-1,0,1,2,3,4,5,6,7,8]\n",
        "df_BC = df_BC[df_BC.columns[new_order]]\n",
        "\n",
        "df_BC_url['Gartner'] = gartner_BC_list_url\n",
        "df_BC_url['Dice'] = dice_BC_list_url\n",
        "df_BC_url['Monster'] = monster_BC_list_url\n",
        "df_BC_url['SimplyHired'] = simply_BC_list_url\n",
        "#df_BC_url['Glassdoor'] = glassdoor_BC_list\n",
        "df_BC_url['flexjobs'] = flexjobs_BC_list_url\n",
        "df_BC_url['CareerBuilder'] = careerbuilder_BC_list_url\n",
        "df_BC_url['findJobs'] = findjobs_BC_list_url\n",
        "df_BC_url['Usjobs'] = usjobsgov_BC_list_url\n",
        "df_BC_url['Date'] = date.today()\n",
        "df_BC_url = df_BC_url[df_BC_url.columns[new_order]]\n",
        "\n",
        "with pd.ExcelWriter('PortalsCountsSoftwareEngg.xlsx',mode='a') as writer:  \n",
        "    df_BC.to_excel(writer, sheet_name='SoftwareEnggBCAnalysis')\n",
        "\n",
        "with pd.ExcelWriter('PortalsCountsSoftwareEnggURL.xlsx',mode='a') as writer:  \n",
        "    df_BC_url.to_excel(writer, sheet_name='SoftwareEnggBCAnalysisUrl')"
      ],
      "execution_count": null,
      "outputs": [
        {
          "output_type": "stream",
          "text": [
            "/usr/local/lib/python3.6/dist-packages/openpyxl/workbook/child.py:102: UserWarning: Title is more than 31 characters. Some applications may not be able to read the file\n",
            "  warnings.warn(\"Title is more than 31 characters. Some applications may not be able to read the file\")\n"
          ],
          "name": "stderr"
        }
      ]
    },
    {
      "cell_type": "markdown",
      "metadata": {
        "id": "ri3QiuAqPEDu"
      },
      "source": [
        "Download xlsx in computer"
      ]
    },
    {
      "cell_type": "code",
      "metadata": {
        "id": "8kn1Xa5LgT-H",
        "outputId": "e20cb4e6-01c5-4f46-c867-c5a5b57557a4",
        "colab": {
          "base_uri": "https://localhost:8080/",
          "height": 17
        }
      },
      "source": [
        "from google.colab import files\n",
        "files.download('PortalsCountsSoftwareEngg.xlsx')\n",
        "\n",
        "from google.colab import files\n",
        "files.download('PortalsCountsSoftwareEnggURL.xlsx')"
      ],
      "execution_count": null,
      "outputs": [
        {
          "output_type": "display_data",
          "data": {
            "application/javascript": [
              "\n",
              "    async function download(id, filename, size) {\n",
              "      if (!google.colab.kernel.accessAllowed) {\n",
              "        return;\n",
              "      }\n",
              "      const div = document.createElement('div');\n",
              "      const label = document.createElement('label');\n",
              "      label.textContent = `Downloading \"${filename}\": `;\n",
              "      div.appendChild(label);\n",
              "      const progress = document.createElement('progress');\n",
              "      progress.max = size;\n",
              "      div.appendChild(progress);\n",
              "      document.body.appendChild(div);\n",
              "\n",
              "      const buffers = [];\n",
              "      let downloaded = 0;\n",
              "\n",
              "      const channel = await google.colab.kernel.comms.open(id);\n",
              "      // Send a message to notify the kernel that we're ready.\n",
              "      channel.send({})\n",
              "\n",
              "      for await (const message of channel.messages) {\n",
              "        // Send a message to notify the kernel that we're ready.\n",
              "        channel.send({})\n",
              "        if (message.buffers) {\n",
              "          for (const buffer of message.buffers) {\n",
              "            buffers.push(buffer);\n",
              "            downloaded += buffer.byteLength;\n",
              "            progress.value = downloaded;\n",
              "          }\n",
              "        }\n",
              "      }\n",
              "      const blob = new Blob(buffers, {type: 'application/binary'});\n",
              "      const a = document.createElement('a');\n",
              "      a.href = window.URL.createObjectURL(blob);\n",
              "      a.download = filename;\n",
              "      div.appendChild(a);\n",
              "      a.click();\n",
              "      div.remove();\n",
              "    }\n",
              "  "
            ],
            "text/plain": [
              "<IPython.core.display.Javascript object>"
            ]
          },
          "metadata": {
            "tags": []
          }
        },
        {
          "output_type": "display_data",
          "data": {
            "application/javascript": [
              "download(\"download_8ea68302-b31f-4d45-9458-4ff98e9ca8b2\", \"PortalsCountsSoftwareEngg.xlsx\", 15356)"
            ],
            "text/plain": [
              "<IPython.core.display.Javascript object>"
            ]
          },
          "metadata": {
            "tags": []
          }
        },
        {
          "output_type": "display_data",
          "data": {
            "application/javascript": [
              "\n",
              "    async function download(id, filename, size) {\n",
              "      if (!google.colab.kernel.accessAllowed) {\n",
              "        return;\n",
              "      }\n",
              "      const div = document.createElement('div');\n",
              "      const label = document.createElement('label');\n",
              "      label.textContent = `Downloading \"${filename}\": `;\n",
              "      div.appendChild(label);\n",
              "      const progress = document.createElement('progress');\n",
              "      progress.max = size;\n",
              "      div.appendChild(progress);\n",
              "      document.body.appendChild(div);\n",
              "\n",
              "      const buffers = [];\n",
              "      let downloaded = 0;\n",
              "\n",
              "      const channel = await google.colab.kernel.comms.open(id);\n",
              "      // Send a message to notify the kernel that we're ready.\n",
              "      channel.send({})\n",
              "\n",
              "      for await (const message of channel.messages) {\n",
              "        // Send a message to notify the kernel that we're ready.\n",
              "        channel.send({})\n",
              "        if (message.buffers) {\n",
              "          for (const buffer of message.buffers) {\n",
              "            buffers.push(buffer);\n",
              "            downloaded += buffer.byteLength;\n",
              "            progress.value = downloaded;\n",
              "          }\n",
              "        }\n",
              "      }\n",
              "      const blob = new Blob(buffers, {type: 'application/binary'});\n",
              "      const a = document.createElement('a');\n",
              "      a.href = window.URL.createObjectURL(blob);\n",
              "      a.download = filename;\n",
              "      div.appendChild(a);\n",
              "      a.click();\n",
              "      div.remove();\n",
              "    }\n",
              "  "
            ],
            "text/plain": [
              "<IPython.core.display.Javascript object>"
            ]
          },
          "metadata": {
            "tags": []
          }
        },
        {
          "output_type": "display_data",
          "data": {
            "application/javascript": [
              "download(\"download_03c56570-6808-4870-84f1-dad5eddeaf40\", \"PortalsCountsSoftwareEnggURL.xlsx\", 18323)"
            ],
            "text/plain": [
              "<IPython.core.display.Javascript object>"
            ]
          },
          "metadata": {
            "tags": []
          }
        }
      ]
    }
  ]
}